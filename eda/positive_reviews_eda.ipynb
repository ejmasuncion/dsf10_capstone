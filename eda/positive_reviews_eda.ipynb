{
 "cells": [
  {
   "cell_type": "code",
   "execution_count": 1,
   "id": "5ad61a77",
   "metadata": {},
   "outputs": [
    {
     "name": "stderr",
     "output_type": "stream",
     "text": [
      "D:\\Eskwelabs\\sprint4\\dsf-c10-sprint-4\\code-along\\scripting_101\\lib\\site-packages\\past\\builtins\\misc.py:45: DeprecationWarning: the imp module is deprecated in favour of importlib; see the module's documentation for alternative uses\n",
      "  from imp import reload\n"
     ]
    }
   ],
   "source": [
    "import re\n",
    "import numpy as np\n",
    "import pandas as  pd\n",
    "from pprint import pprint# Gensim\n",
    "import gensim\n",
    "import gensim.corpora as corpora\n",
    "import gensim.models as genmodels\n",
    "from gensim.utils import simple_preprocess\n",
    "from gensim.models import CoherenceModel\n",
    "import spacy\n",
    "import pickle\n",
    "import pyLDAvis\n",
    "import pyLDAvis.gensim_models as gensimvis\n",
    "import matplotlib.pyplot as plt"
   ]
  },
  {
   "cell_type": "code",
   "execution_count": 3,
   "id": "332bce8c",
   "metadata": {},
   "outputs": [],
   "source": [
    "# NLTK Stop words\n",
    "from nltk.corpus import stopwords\n",
    "stop_words = stopwords.words('english')\n",
    "\n",
    "\n",
    "#stop_words.extend(['from', 'subject', 're', 'edu', 'use'])"
   ]
  },
  {
   "cell_type": "code",
   "execution_count": 4,
   "id": "05b9410e",
   "metadata": {},
   "outputs": [
    {
     "name": "stdout",
     "output_type": "stream",
     "text": [
      "(76536, 30)\n"
     ]
    }
   ],
   "source": [
    "df = pickle.load(open(\"../data/merged_hotel_data.pkl\", \"rb\"))\n",
    "df=df.replace(r'^\\s*$', np.nan, regex=True)\n",
    "print(df.shape)\n",
    "#df.head()\n"
   ]
  },
  {
   "cell_type": "code",
   "execution_count": 8,
   "id": "cc9be3e7-e361-4e1a-9730-75a31fb2107c",
   "metadata": {},
   "outputs": [
    {
     "data": {
      "text/html": [
       "<div>\n",
       "<style scoped>\n",
       "    .dataframe tbody tr th:only-of-type {\n",
       "        vertical-align: middle;\n",
       "    }\n",
       "\n",
       "    .dataframe tbody tr th {\n",
       "        vertical-align: top;\n",
       "    }\n",
       "\n",
       "    .dataframe thead th {\n",
       "        text-align: right;\n",
       "    }\n",
       "</style>\n",
       "<table border=\"1\" class=\"dataframe\">\n",
       "  <thead>\n",
       "    <tr style=\"text-align: right;\">\n",
       "      <th></th>\n",
       "      <th>positive_review</th>\n",
       "    </tr>\n",
       "  </thead>\n",
       "  <tbody>\n",
       "    <tr>\n",
       "      <th>0</th>\n",
       "      <td>I like The place and also the staff they're so...</td>\n",
       "    </tr>\n",
       "    <tr>\n",
       "      <th>1</th>\n",
       "      <td>location</td>\n",
       "    </tr>\n",
       "    <tr>\n",
       "      <th>2</th>\n",
       "      <td>The location</td>\n",
       "    </tr>\n",
       "    <tr>\n",
       "      <th>3</th>\n",
       "      <td>Its Near my work area</td>\n",
       "    </tr>\n",
       "    <tr>\n",
       "      <th>4</th>\n",
       "      <td>The location</td>\n",
       "    </tr>\n",
       "    <tr>\n",
       "      <th>...</th>\n",
       "      <td>...</td>\n",
       "    </tr>\n",
       "    <tr>\n",
       "      <th>76434</th>\n",
       "      <td>it’s looks great in the photos but it’s not as...</td>\n",
       "    </tr>\n",
       "    <tr>\n",
       "      <th>76435</th>\n",
       "      <td>the staff were all nice and friendly. great se...</td>\n",
       "    </tr>\n",
       "    <tr>\n",
       "      <th>76436</th>\n",
       "      <td>Room is big</td>\n",
       "    </tr>\n",
       "    <tr>\n",
       "      <th>76437</th>\n",
       "      <td>Staff are friendly and helpful. The room is cl...</td>\n",
       "    </tr>\n",
       "    <tr>\n",
       "      <th>76438</th>\n",
       "      <td>superior rooms'bathroom was smaller and the sh...</td>\n",
       "    </tr>\n",
       "  </tbody>\n",
       "</table>\n",
       "<p>29492 rows × 1 columns</p>\n",
       "</div>"
      ],
      "text/plain": [
       "                                         positive_review\n",
       "0      I like The place and also the staff they're so...\n",
       "1                                               location\n",
       "2                                           The location\n",
       "3                                  Its Near my work area\n",
       "4                                           The location\n",
       "...                                                  ...\n",
       "76434  it’s looks great in the photos but it’s not as...\n",
       "76435  the staff were all nice and friendly. great se...\n",
       "76436                                        Room is big\n",
       "76437  Staff are friendly and helpful. The room is cl...\n",
       "76438  superior rooms'bathroom was smaller and the sh...\n",
       "\n",
       "[29492 rows x 1 columns]"
      ]
     },
     "execution_count": 8,
     "metadata": {},
     "output_type": "execute_result"
    }
   ],
   "source": [
    "default_comments=[\"There are no comments available for this review\"]\n",
    "\n",
    "pattern = '|'.join(default_comments)\n",
    "df_reviews_sr=df[[\"positive_review\"]].dropna()\n",
    "df_reviews_sr=df_reviews_sr[~df_reviews_sr.positive_review.str.contains(pattern)]\n",
    "df_reviews_sr"
   ]
  },
  {
   "cell_type": "code",
   "execution_count": 10,
   "id": "7579150b",
   "metadata": {},
   "outputs": [
    {
     "data": {
      "text/plain": [
       "29492"
      ]
     },
     "metadata": {},
     "output_type": "display_data"
    },
    {
     "name": "stdout",
     "output_type": "stream",
     "text": [
      "I booked the location near my residence, but later I was transferred to location with accredited for quarantine. But anyhow, it is a enjoyable stay in your nice hotel! Thank you!\n"
     ]
    }
   ],
   "source": [
    "# Convert to list \n",
    "data = df_reviews_sr.positive_review.values.tolist()  \n",
    "# # Remove Emails \n",
    "# data = [re.sub('\\S*@\\S*\\s?', '', sent) for sent in data]  \n",
    "# # Remove new line characters \n",
    "# data = [re.sub('\\s+', ' ', sent) for sent in data]  \n",
    "# # Remove distracting single quotes \n",
    "# data = [re.sub(\"\\'\", \"\", sent) for sent in data]\n",
    "# #Remove \\n\n",
    "# data = [re.sub(\"\\n\", \"\", sent) for sent in data]\n",
    "# data = [re.sub(\"(Image courtesy: )\", \"\", sent) for sent in data]\n",
    "# #Remove links\n",
    "# data = [re.sub(r'http\\S+', '', sent) for sent in data]\n",
    "display(len(data))\n",
    "print(data[8])"
   ]
  },
  {
   "cell_type": "markdown",
   "id": "7e0ebf56",
   "metadata": {},
   "source": [
    "### Tokenization"
   ]
  },
  {
   "cell_type": "code",
   "execution_count": 11,
   "id": "afb124c7",
   "metadata": {},
   "outputs": [
    {
     "name": "stdout",
     "output_type": "stream",
     "text": [
      "[['like', 'the', 'place', 'and', 'also', 'the', 'staff', 'they', 're', 'so', 'active', 'when', 'im', 'needed', 'something', 'the', 'receptionist', 'also', 'also', 'go', 'back', 'there', 'when', 'have', 'work', 'in', 'east', 'ave', 'thanks', 'so', 'much', 'for', 'they', 're', 'kindness'], ['location'], ['the', 'location'], ['its', 'near', 'my', 'work', 'area'], ['the', 'location'], ['big', 'room'], ['it', 'was', 'located', 'near', 'east', 'ave', 'med', 'center', 'and', 'phc', 'walking', 'distance', 'to', 'these', 'hospitals'], ['reasonable', 'price', 'bug', 'room'], ['booked', 'the', 'location', 'near', 'my', 'residence', 'but', 'later', 'was', 'transferred', 'to', 'location', 'with', 'accredited', 'for', 'quarantine', 'but', 'anyhow', 'it', 'is', 'enjoyable', 'stay', 'in', 'your', 'nice', 'hotel', 'thank', 'you']]\n"
     ]
    }
   ],
   "source": [
    "def sent_to_words(sentences):\n",
    "    for sentence in sentences:\n",
    "        yield(gensim.utils.simple_preprocess(str(sentence), deacc=True))            #deacc=True removes punctuations\n",
    "\n",
    "data_words = list(sent_to_words(data))\n",
    "print(data_words[:9]) "
   ]
  },
  {
   "cell_type": "markdown",
   "id": "d0a3e6d2",
   "metadata": {},
   "source": [
    "### Building the bigram and trigram Models"
   ]
  },
  {
   "cell_type": "code",
   "execution_count": 12,
   "id": "e2c284b0",
   "metadata": {},
   "outputs": [],
   "source": [
    "bigram = gensim.models.Phrases(data_words, min_count=5, threshold=100) # higher threshold fewer phrases.\n",
    "trigram = gensim.models.Phrases(bigram[data_words], threshold=100)\n"
   ]
  },
  {
   "cell_type": "code",
   "execution_count": 13,
   "id": "04b5a89d",
   "metadata": {},
   "outputs": [
    {
     "name": "stdout",
     "output_type": "stream",
     "text": [
      "['booked', 'the', 'location', 'near', 'my', 'residence', 'but', 'later', 'was', 'transferred', 'to', 'location', 'with', 'accredited', 'for', 'quarantine', 'but', 'anyhow', 'it', 'is', 'enjoyable', 'stay', 'in', 'your', 'nice', 'hotel', 'thank', 'you']\n"
     ]
    }
   ],
   "source": [
    "# Faster way to get a sentence clubbed as a trigram/bigram\n",
    "bigram_mod = gensim.models.phrases.Phraser(bigram)\n",
    "trigram_mod = gensim.models.phrases.Phraser(trigram)\n",
    "\n",
    "# See trigram example\n",
    "print(trigram_mod[bigram_mod[data_words[8]]])"
   ]
  },
  {
   "cell_type": "markdown",
   "id": "ceec5f5e",
   "metadata": {},
   "source": [
    "### Define function for stopwords, bigrams, trigrams and lemmatization"
   ]
  },
  {
   "cell_type": "code",
   "execution_count": 15,
   "id": "b5dd33be",
   "metadata": {},
   "outputs": [],
   "source": [
    "def remove_stopwords(texts):\n",
    "    return [[word for word in simple_preprocess(str(doc)) if word not in stop_words] for doc in texts]\n",
    "\n",
    "def make_bigrams(texts):\n",
    "    return [bigram_mod[doc] for doc in texts]\n",
    "\n",
    "def make_trigrams(texts):\n",
    "    return [trigram_mod[bigram_mod[doc]] for doc in texts]\n",
    "\n",
    "def lemmatization(texts, allowed_postags=['NOUN', 'ADJ', 'VERB', 'ADV']):\n",
    "    \"\"\"https://spacy.io/api/annotation\"\"\"\n",
    "    texts_out = []\n",
    "    for sent in texts:\n",
    "        doc = nlp(\" \".join(sent)) \n",
    "        texts_out.append([token.lemma_ for token in doc if token.pos_ in allowed_postags])\n",
    "    return texts_out"
   ]
  },
  {
   "cell_type": "code",
   "execution_count": 16,
   "id": "6fc05e09",
   "metadata": {},
   "outputs": [],
   "source": [
    "# Remove Stop Words\n",
    "data_words_nostops = remove_stopwords(data_words)\n",
    "\n",
    "# Form Bigrams\n",
    "data_words_bigrams = make_bigrams(data_words_nostops)\n",
    "data_words_trigrams = make_trigrams(data_words_nostops)\n"
   ]
  },
  {
   "cell_type": "code",
   "execution_count": 17,
   "id": "95439579",
   "metadata": {},
   "outputs": [
    {
     "name": "stderr",
     "output_type": "stream",
     "text": [
      "D:\\Eskwelabs\\sprint4\\dsf-c10-sprint-4\\code-along\\scripting_101\\lib\\site-packages\\spacy\\language.py:1895: UserWarning: [W123] Argument disable with value ['parser', 'ner'] is used instead of ['senter'] as specified in the config. Be aware that this might affect other components in your pipeline.\n",
      "  warnings.warn(\n"
     ]
    },
    {
     "name": "stdout",
     "output_type": "stream",
     "text": [
      "['superior', 'room', 'bathroom', 'small', 'shower', 'area', 'small', 'compare', 'previous', 'standard', 'room', 'lot', 'mosquitos', 'bathroom', 'smell', 'disinfect', 'clean', 'thorougly']\n"
     ]
    }
   ],
   "source": [
    "# Initialize spacy 'en' model, keeping only tagger component (for efficiency)\n",
    "# python3 -m spacy download en\n",
    "\n",
    "#nlp = spacy.load('en_core_web_lg')\n",
    "nlp = spacy.load('en_core_web_sm', disable=['parser', 'ner'])\n",
    "\n",
    "\n",
    "# Do lemmatization keeping only noun, adj, vb, adv\n",
    "data_lemmatized_bi = lemmatization(data_words_bigrams, allowed_postags=['NOUN', 'ADJ', 'VERB', 'ADV'])\n",
    "data_lemmatized_tri = lemmatization(data_words_trigrams, allowed_postags=['NOUN', 'ADJ', 'VERB', 'ADV'])\n",
    "print(data_lemmatized_bi[-1])"
   ]
  },
  {
   "cell_type": "code",
   "execution_count": 22,
   "id": "4292aa6d-f325-42fa-9e01-76f95b9d2d6f",
   "metadata": {},
   "outputs": [
    {
     "data": {
      "text/plain": [
       "29492"
      ]
     },
     "execution_count": 22,
     "metadata": {},
     "output_type": "execute_result"
    }
   ],
   "source": [
    "len(data_lemmatized_bi)"
   ]
  },
  {
   "cell_type": "code",
   "execution_count": 23,
   "id": "4617fdd5",
   "metadata": {},
   "outputs": [],
   "source": [
    "id2word_bi = corpora.Dictionary(data_lemmatized_bi)  \n",
    "id2word_tri = corpora.Dictionary(data_lemmatized_tri)  "
   ]
  },
  {
   "cell_type": "code",
   "execution_count": 24,
   "id": "c2bf57fb",
   "metadata": {},
   "outputs": [],
   "source": [
    "texts_bi = data_lemmatized_bi\n",
    "texts_tri = data_lemmatized_tri"
   ]
  },
  {
   "cell_type": "code",
   "execution_count": 25,
   "id": "41dd7e73",
   "metadata": {},
   "outputs": [],
   "source": [
    "# Term Document Frequency \n",
    "corpus_bi = [id2word_bi.doc2bow(text) for text in texts_bi]  \n",
    "corpus_tri = [id2word_tri.doc2bow(text) for text in texts_tri]  "
   ]
  },
  {
   "cell_type": "code",
   "execution_count": 26,
   "id": "2d91ab7d",
   "metadata": {},
   "outputs": [
    {
     "name": "stdout",
     "output_type": "stream",
     "text": [
      "[[(0, 1), (1, 3), (2, 1), (3, 1), (4, 1), (5, 1), (6, 1), (7, 1), (8, 1), (9, 1), (10, 1), (11, 1), (12, 1), (13, 1), (14, 1)], [(15, 1)], [(15, 1)], [(14, 1), (16, 1)], [(15, 1)], [(17, 1), (18, 1)], [(2, 1), (19, 1), (20, 1), (21, 1), (22, 1), (23, 1)], [(18, 1), (24, 1), (25, 1), (26, 1)]]\n"
     ]
    }
   ],
   "source": [
    "# View \n",
    "print(corpus_bi[:8])"
   ]
  },
  {
   "cell_type": "code",
   "execution_count": 27,
   "id": "1ec11866",
   "metadata": {},
   "outputs": [
    {
     "data": {
      "text/plain": [
       "[[('active', 1),\n",
       "  ('also', 3),\n",
       "  ('ave', 1),\n",
       "  ('back', 1),\n",
       "  ('east', 1),\n",
       "  ('go', 1),\n",
       "  ('kindness', 1),\n",
       "  ('m', 1),\n",
       "  ('much', 1),\n",
       "  ('need', 1),\n",
       "  ('place', 1),\n",
       "  ('receptionist', 1),\n",
       "  ('staff', 1),\n",
       "  ('thank', 1),\n",
       "  ('work', 1)]]"
      ]
     },
     "execution_count": 27,
     "metadata": {},
     "output_type": "execute_result"
    }
   ],
   "source": [
    "[[(id2word_bi[id], freq) for id, freq in cp] for cp in corpus_bi[:1]]\n",
    "[[(id2word_tri[id], freq) for id, freq in cp] for cp in corpus_tri[:1]]"
   ]
  },
  {
   "cell_type": "code",
   "execution_count": 28,
   "id": "77f19f0e-c360-4438-b955-11e2c888fa5b",
   "metadata": {},
   "outputs": [
    {
     "data": {
      "text/plain": [
       "<AxesSubplot: ylabel='word'>"
      ]
     },
     "execution_count": 28,
     "metadata": {},
     "output_type": "execute_result"
    },
    {
     "data": {
      "image/png": "[encoded data removed]",
      "text/plain": [
       "<Figure size 640x480 with 1 Axes>"
      ]
     },
     "metadata": {},
     "output_type": "display_data"
    }
   ],
   "source": [
    "bow=[[(id2word_tri[id], freq) for id, freq in cp] for cp in corpus_tri]\n",
    "flat_list = [item for sublist in bow for item in sublist]\n",
    "\n",
    "\n",
    "no_value_words=[\"stay\",\"good\",\"hotel\",\"place\",\"nice\",\"great\"]\n",
    "\n",
    "df_bow = pd.DataFrame(flat_list, columns = ['word', 'count'])\n",
    "df_bow=df_bow[~df_bow.word.str.contains('|'.join(no_value_words))] \n",
    "df_bow.groupby(\"word\")[\"count\"].sum().sort_values(ascending=True).tail(10).plot.barh()"
   ]
  },
  {
   "cell_type": "markdown",
   "id": "1cfe6e59",
   "metadata": {},
   "source": [
    "### LSI & LDA Model"
   ]
  },
  {
   "cell_type": "code",
   "execution_count": 22,
   "id": "63c97011",
   "metadata": {},
   "outputs": [],
   "source": [
    "def model_competition(corpus,id2word,data_lemmatized):\n",
    "    random_state = 100\n",
    "    for_framing = []\n",
    "    \n",
    "    algo_names = [\"LDA Model\",\"LSI Model\",]\n",
    "    algorithms = [genmodels.ldamodel.LdaModel,genmodels.lsimodel.\n",
    "                  LsiModel]\n",
    "    \n",
    "    for algo_name, algorithm in zip(algo_names, algorithms):\n",
    "        for k in range(1, 11):\n",
    "            if algo_name == 'LDA Model':\n",
    "                model = algorithm(corpus=corpus,\n",
    "                                           id2word=id2word,\n",
    "                                           num_topics=k, \n",
    "                                           random_state=100,\n",
    "                                           update_every=1,\n",
    "                                           chunksize=100,\n",
    "                                           passes=10,\n",
    "                                           alpha='auto',\n",
    "                                           per_word_topics=True)\n",
    "        \n",
    "                perplexity = model.log_perplexity(corpus)\n",
    "                coherence_model = CoherenceModel(model=model, texts=data_lemmatized, \n",
    "                               dictionary=id2word, coherence='c_v')\n",
    "                coherence = coherence_model.get_coherence()\n",
    "            if algo_name == 'LSI Model':\n",
    "                model = algorithm(corpus=corpus,\n",
    "                                  id2word=id2word,\n",
    "                                  num_topics=k,\n",
    "                                  chunksize=100)\n",
    "        \n",
    "                coherence_model = CoherenceModel(model=model, texts=data_lemmatized, \n",
    "                               dictionary=id2word, coherence='c_v')\n",
    "                coherence = coherence_model.get_coherence()\n",
    "        \n",
    "            data_row = {\n",
    "                'model': algo_name,\n",
    "                'topic count' : k,\n",
    "                'coherence' : coherence\n",
    "            }\n",
    "            for_framing.append(data_row)\n",
    "        \n",
    "    return pd.DataFrame(for_framing)\n",
    "        \n",
    "        \n",
    "    "
   ]
  },
  {
   "cell_type": "code",
   "execution_count": null,
   "id": "a67a3d61",
   "metadata": {},
   "outputs": [],
   "source": [
    "bigram_dataframe = model_competition(corpus_bi,id2word_bi,data_lemmatized_bi)"
   ]
  },
  {
   "cell_type": "code",
   "execution_count": 58,
   "id": "e2d42d7f",
   "metadata": {},
   "outputs": [
    {
     "data": {
      "text/html": [
       "<div>\n",
       "<style scoped>\n",
       "    .dataframe tbody tr th:only-of-type {\n",
       "        vertical-align: middle;\n",
       "    }\n",
       "\n",
       "    .dataframe tbody tr th {\n",
       "        vertical-align: top;\n",
       "    }\n",
       "\n",
       "    .dataframe thead th {\n",
       "        text-align: right;\n",
       "    }\n",
       "</style>\n",
       "<table border=\"1\" class=\"dataframe\">\n",
       "  <thead>\n",
       "    <tr style=\"text-align: right;\">\n",
       "      <th></th>\n",
       "      <th>model</th>\n",
       "      <th>topic count</th>\n",
       "      <th>coherence</th>\n",
       "    </tr>\n",
       "  </thead>\n",
       "  <tbody>\n",
       "    <tr>\n",
       "      <th>8</th>\n",
       "      <td>LDA Model</td>\n",
       "      <td>9</td>\n",
       "      <td>0.604526</td>\n",
       "    </tr>\n",
       "  </tbody>\n",
       "</table>\n",
       "</div>"
      ],
      "text/plain": [
       "       model  topic count  coherence\n",
       "8  LDA Model            9   0.604526"
      ]
     },
     "execution_count": 58,
     "metadata": {},
     "output_type": "execute_result"
    }
   ],
   "source": [
    "bigram_dataframe.sort_values(by=['coherence'],ascending=False).head(1)"
   ]
  },
  {
   "cell_type": "code",
   "execution_count": 59,
   "id": "4231c8ee",
   "metadata": {},
   "outputs": [],
   "source": [
    "trigram_dataframe = model_competition(corpus_tri,id2word_tri,data_lemmatized_tri)"
   ]
  },
  {
   "cell_type": "code",
   "execution_count": 60,
   "id": "63250d8c",
   "metadata": {},
   "outputs": [
    {
     "data": {
      "text/html": [
       "<div>\n",
       "<style scoped>\n",
       "    .dataframe tbody tr th:only-of-type {\n",
       "        vertical-align: middle;\n",
       "    }\n",
       "\n",
       "    .dataframe tbody tr th {\n",
       "        vertical-align: top;\n",
       "    }\n",
       "\n",
       "    .dataframe thead th {\n",
       "        text-align: right;\n",
       "    }\n",
       "</style>\n",
       "<table border=\"1\" class=\"dataframe\">\n",
       "  <thead>\n",
       "    <tr style=\"text-align: right;\">\n",
       "      <th></th>\n",
       "      <th>model</th>\n",
       "      <th>topic count</th>\n",
       "      <th>coherence</th>\n",
       "    </tr>\n",
       "  </thead>\n",
       "  <tbody>\n",
       "    <tr>\n",
       "      <th>8</th>\n",
       "      <td>LDA Model</td>\n",
       "      <td>9</td>\n",
       "      <td>0.604363</td>\n",
       "    </tr>\n",
       "  </tbody>\n",
       "</table>\n",
       "</div>"
      ],
      "text/plain": [
       "       model  topic count  coherence\n",
       "8  LDA Model            9   0.604363"
      ]
     },
     "execution_count": 60,
     "metadata": {},
     "output_type": "execute_result"
    }
   ],
   "source": [
    "trigram_dataframe.sort_values(by=['coherence'],ascending=False).head(1)"
   ]
  },
  {
   "cell_type": "markdown",
   "id": "798f722b",
   "metadata": {},
   "source": [
    "# HDP"
   ]
  },
  {
   "cell_type": "code",
   "execution_count": 19,
   "id": "9f06346e",
   "metadata": {},
   "outputs": [
    {
     "name": "stdout",
     "output_type": "stream",
     "text": [
      "\n",
      "Coherence Score:  0.543526652939898\n"
     ]
    }
   ],
   "source": [
    "hdpmodel =  gensim.models.hdpmodel.HdpModel(corpus=corpus_bi, id2word=id2word_bi)\n",
    "coherence_model_hdpmodel = CoherenceModel(model=hdpmodel, texts=data_lemmatized_bi, dictionary=id2word_bi, coherence='c_v')\n",
    "coherence_hdpmodel = coherence_model_hdpmodel.get_coherence()\n",
    "print('\\nCoherence Score: ', coherence_hdpmodel)"
   ]
  },
  {
   "cell_type": "code",
   "execution_count": 21,
   "id": "c89ae234",
   "metadata": {},
   "outputs": [
    {
     "data": {
      "text/plain": [
       "[(0,\n",
       "  '0.015*datum + 0.010*model + 0.009*use + 0.005*data + 0.005*time + 0.005*learn + 0.005*make + 0.005*also + 0.004*image + 0.004*dataset + 0.004*need + 0.004*create + 0.004*value + 0.004*learning + 0.004*get + 0.004*function + 0.004*feature + 0.004*code + 0.004*work + 0.003*example'),\n",
       " (1,\n",
       "  '0.019*datum + 0.009*model + 0.009*data + 0.007*use + 0.007*science + 0.006*learn + 0.006*work + 0.005*time + 0.005*value + 0.004*get + 0.004*make + 0.004*learning + 0.004*project + 0.004*machine + 0.004*good + 0.004*well + 0.004*need + 0.003*find + 0.003*also + 0.003*feature'),\n",
       " (2,\n",
       "  '0.014*datum + 0.010*model + 0.009*use + 0.006*learn + 0.006*learning + 0.006*data + 0.005*function + 0.005*value + 0.005*time + 0.005*image + 0.004*create + 0.004*feature + 0.004*also + 0.004*dataset + 0.004*let + 0.004*make + 0.004*work + 0.004*see + 0.003*need + 0.003*machine'),\n",
       " (3,\n",
       "  '0.009*datum + 0.007*use + 0.006*time + 0.006*code + 0.005*value + 0.004*function + 0.004*create + 0.004*need + 0.004*get + 0.004*work + 0.004*make + 0.004*example + 0.003*learning + 0.003*let + 0.003*learn + 0.003*python + 0.003*data + 0.003*word + 0.003*model + 0.003*article'),\n",
       " (4,\n",
       "  '0.011*datum + 0.008*column + 0.005*python + 0.005*use + 0.005*select + 0.004*data + 0.004*also + 0.004*learn + 0.004*code + 0.004*make + 0.004*science + 0.004*time + 0.004*row + 0.004*panda + 0.004*create + 0.004*get + 0.003*dataframe + 0.003*see + 0.003*let + 0.003*good'),\n",
       " (5,\n",
       "  '0.008*use + 0.007*datum + 0.006*time + 0.006*python + 0.005*plot + 0.004*function + 0.004*feature + 0.004*work + 0.004*code + 0.004*model + 0.004*package + 0.004*virtual_environment + 0.004*value + 0.004*environment + 0.003*column + 0.003*make + 0.003*see + 0.003*let + 0.003*create + 0.003*project'),\n",
       " (6,\n",
       "  '0.014*model + 0.007*user + 0.005*base + 0.005*class + 0.005*item + 0.004*learning + 0.004*use + 0.004*method + 0.003*learn + 0.003*well + 0.003*score + 0.003*value + 0.003*machine + 0.003*new + 0.003*datum + 0.003*positive + 0.003*example + 0.002*make + 0.002*dataset + 0.002*weak_learner'),\n",
       " (7,\n",
       "  '0.009*datum + 0.006*model + 0.005*python + 0.004*use + 0.004*data + 0.003*learn + 0.003*package + 0.003*need + 0.003*time + 0.003*make + 0.003*run + 0.003*machine + 0.003*user + 0.003*image + 0.003*file + 0.003*install + 0.002*science + 0.002*project + 0.002*also + 0.002*version'),\n",
       " (8,\n",
       "  '0.010*dash + 0.008*datum + 0.006*code + 0.006*table + 0.005*file + 0.005*create + 0.005*use + 0.005*data + 0.005*graph + 0.004*python + 0.004*app + 0.003*dashboard + 0.003*image + 0.003*project + 0.003*plot + 0.003*function + 0.003*select + 0.002*user + 0.002*build + 0.002*plotly'),\n",
       " (9,\n",
       "  '0.007*feature + 0.005*cluster + 0.005*dataset + 0.005*use + 0.005*datum + 0.005*model + 0.004*value + 0.004*different + 0.003*variable + 0.003*join + 0.003*point + 0.002*age + 0.002*example + 0.002*tree + 0.002*number + 0.002*column + 0.002*method + 0.002*table + 0.002*result + 0.002*right'),\n",
       " (10,\n",
       "  '0.005*document + 0.005*word + 0.005*datum + 0.004*use + 0.003*give + 0.003*value + 0.003*distribution + 0.003*distance + 0.003*model + 0.003*title + 0.002*dataframe + 0.002*autoencoder + 0.002*measure + 0.002*set + 0.002*pca + 0.002*need + 0.002*image + 0.002*case + 0.002*body + 0.002*create'),\n",
       " (11,\n",
       "  '0.008*datum + 0.004*outlier + 0.003*need + 0.003*feature + 0.003*get + 0.003*data + 0.003*science + 0.003*score + 0.003*use + 0.003*course + 0.002*word + 0.002*look + 0.002*start + 0.002*see + 0.002*code + 0.002*dataset + 0.002*good + 0.002*want + 0.002*time + 0.002*let'),\n",
       " (12,\n",
       "  '0.006*time + 0.005*datum + 0.004*model + 0.004*use + 0.004*project + 0.003*python + 0.003*work + 0.002*dataset + 0.002*automate + 0.002*star + 0.002*task + 0.002*panda + 0.002*word + 0.002*help + 0.002*year + 0.002*transformer + 0.002*feature + 0.002*imputation + 0.002*need + 0.002*migration'),\n",
       " (13,\n",
       "  '0.005*value + 0.004*feature + 0.004*trade + 0.003*column + 0.003*datum + 0.003*time + 0.003*trading + 0.002*make + 0.002*correlation + 0.002*get + 0.002*function + 0.002*good + 0.002*market + 0.002*learning + 0.002*scale + 0.002*process + 0.002*mean + 0.002*price + 0.002*let + 0.002*day'),\n",
       " (14,\n",
       "  '0.008*datum + 0.005*model + 0.005*value + 0.004*use + 0.004*time + 0.003*string + 0.002*set + 0.002*also + 0.002*example + 0.002*dataset + 0.002*format + 0.002*layer + 0.002*equation + 0.002*different + 0.002*go + 0.002*data + 0.002*many + 0.001*case + 0.001*prediction + 0.001*number'),\n",
       " (15,\n",
       "  '0.008*function + 0.005*loss + 0.005*value + 0.005*model + 0.004*sample + 0.004*use + 0.003*datum + 0.003*prediction + 0.002*element + 0.002*example + 0.002*tree + 0.002*base + 0.002*error + 0.002*number + 0.002*case + 0.001*select + 0.001*give + 0.001*regression + 0.001*population + 0.001*probability'),\n",
       " (16,\n",
       "  '0.006*variable + 0.004*correlation + 0.003*inception + 0.003*use + 0.002*continuous + 0.002*image + 0.002*class + 0.002*model + 0.002*convolution + 0.002*metric + 0.002*categorical + 0.002*network + 0.002*loss + 0.002*check + 0.002*distance + 0.002*input + 0.002*datum + 0.002*test + 0.002*different + 0.002*layer'),\n",
       " (17,\n",
       "  '0.004*get + 0.004*project + 0.003*work + 0.003*learn + 0.003*datum + 0.003*portfolio + 0.003*science + 0.002*resume + 0.002*job + 0.002*way + 0.002*people + 0.002*data + 0.002*lot + 0.002*want + 0.002*skill + 0.002*experience + 0.002*apply + 0.002*find + 0.002*good + 0.002*column'),\n",
       " (18,\n",
       "  '0.005*datum + 0.004*model + 0.003*use + 0.002*make + 0.002*human + 0.002*test + 0.002*example + 0.002*set + 0.002*see + 0.001*machine + 0.001*train + 0.001*cross_validation + 0.001*training + 0.001*split + 0.001*number + 0.001*ai + 0.001*let + 0.001*fold + 0.001*go + 0.001*complaint'),\n",
       " (19,\n",
       "  '0.004*datum + 0.004*learn + 0.003*data + 0.003*exam + 0.003*science + 0.002*tensorflow + 0.002*machine + 0.002*course + 0.002*python + 0.002*scientist + 0.002*learning + 0.001*make + 0.001*problem + 0.001*time + 0.001*take + 0.001*concept + 0.001*use + 0.001*day + 0.001*know + 0.001*well')]"
      ]
     },
     "execution_count": 21,
     "metadata": {},
     "output_type": "execute_result"
    }
   ],
   "source": [
    "hdpmodel.show_topics()"
   ]
  },
  {
   "cell_type": "code",
   "execution_count": 22,
   "id": "0332bf79",
   "metadata": {},
   "outputs": [
    {
     "name": "stdout",
     "output_type": "stream",
     "text": [
      "\n",
      "Coherence Score:  0.5348782847089283\n"
     ]
    }
   ],
   "source": [
    "hdpmodel_tri =  gensim.models.hdpmodel.HdpModel(corpus=corpus_tri, id2word=id2word_tri)\n",
    "coherence_model_hdpmodel_tri = CoherenceModel(model=hdpmodel_tri, texts=data_lemmatized_tri, dictionary=id2word_tri, coherence='c_v')\n",
    "coherence_hdpmodel_tri = coherence_model_hdpmodel_tri.get_coherence()\n",
    "print('\\nCoherence Score: ', coherence_hdpmodel_tri)"
   ]
  },
  {
   "cell_type": "code",
   "execution_count": 23,
   "id": "22e8ea1f",
   "metadata": {},
   "outputs": [
    {
     "data": {
      "text/plain": [
       "[(0,\n",
       "  '0.017*datum + 0.010*model + 0.009*use + 0.007*data + 0.006*time + 0.006*learn + 0.005*value + 0.005*learning + 0.004*make + 0.004*work + 0.004*also + 0.004*code + 0.004*image + 0.004*function + 0.004*need + 0.004*get + 0.004*science + 0.004*example + 0.004*well + 0.004*feature'),\n",
       " (1,\n",
       "  '0.008*model + 0.008*use + 0.007*datum + 0.006*python + 0.005*dataset + 0.005*user + 0.005*function + 0.005*create + 0.004*new + 0.004*project + 0.004*method + 0.004*want + 0.004*get + 0.004*see + 0.004*time + 0.004*need + 0.004*make + 0.003*also + 0.003*learn + 0.003*work'),\n",
       " (2,\n",
       "  '0.011*model + 0.010*datum + 0.007*use + 0.005*value + 0.005*image + 0.004*word + 0.004*make + 0.004*work + 0.004*data + 0.004*training + 0.003*time + 0.003*learning + 0.003*learn + 0.003*well + 0.003*also + 0.003*feature + 0.003*number + 0.003*set + 0.003*good + 0.003*dataset'),\n",
       " (3,\n",
       "  '0.015*datum + 0.008*data + 0.007*learn + 0.006*science + 0.005*work + 0.004*job + 0.004*get + 0.004*need + 0.004*use + 0.004*help + 0.003*good + 0.003*project + 0.003*time + 0.003*skill + 0.003*make + 0.003*many + 0.003*new + 0.003*scientist + 0.003*company + 0.003*create'),\n",
       " (4,\n",
       "  '0.009*value + 0.008*use + 0.006*column + 0.006*function + 0.006*datum + 0.006*row + 0.005*time + 0.004*word + 0.004*dataframe + 0.004*need + 0.004*get + 0.004*let + 0.003*example + 0.003*python + 0.003*document + 0.003*panda + 0.003*see + 0.003*mean + 0.003*take + 0.003*go'),\n",
       " (5,\n",
       "  '0.012*datum + 0.005*model + 0.005*machine + 0.004*learning + 0.004*use + 0.004*data + 0.003*learn + 0.003*also + 0.003*plot + 0.003*time + 0.003*prediction + 0.003*make + 0.003*value + 0.003*loss + 0.003*work + 0.003*attribute + 0.003*visualize + 0.002*function + 0.002*dimension + 0.002*see'),\n",
       " (6,\n",
       "  '0.008*datum + 0.008*use + 0.005*create + 0.004*plot + 0.004*function + 0.004*dataframe + 0.004*table + 0.004*need + 0.003*panda + 0.003*set + 0.003*python + 0.003*code + 0.003*also + 0.003*data + 0.003*step + 0.003*make + 0.003*file + 0.002*model + 0.002*spark + 0.002*chart'),\n",
       " (7,\n",
       "  '0.010*datum + 0.006*value + 0.006*use + 0.005*column + 0.004*variable + 0.004*time + 0.003*panda + 0.003*code + 0.003*image + 0.003*outlier + 0.003*example + 0.003*run + 0.003*see + 0.003*model + 0.003*get + 0.003*author + 0.003*create + 0.003*set + 0.003*method + 0.003*look'),\n",
       " (8,\n",
       "  '0.009*model + 0.008*datum + 0.004*distribution + 0.004*generate + 0.004*training + 0.003*learn + 0.003*train + 0.003*see + 0.003*random + 0.003*variable + 0.003*problem + 0.003*true + 0.003*data + 0.003*code + 0.003*science + 0.002*make + 0.002*let + 0.002*take + 0.002*set + 0.002*use'),\n",
       " (9,\n",
       "  '0.010*model + 0.007*datum + 0.006*class + 0.006*feature + 0.006*use + 0.004*decision_tree + 0.003*time + 0.003*prediction + 0.003*tree + 0.003*make + 0.003*image + 0.003*value + 0.003*example + 0.003*dataset + 0.003*panda + 0.002*method + 0.002*machine + 0.002*object + 0.002*training + 0.002*number'),\n",
       " (10,\n",
       "  '0.008*datum + 0.005*cluster + 0.004*feature + 0.004*model + 0.004*time + 0.004*value + 0.004*use + 0.003*see + 0.003*variable + 0.003*set + 0.003*different + 0.003*point + 0.002*first + 0.002*activity + 0.002*data + 0.002*let + 0.002*example + 0.002*look + 0.002*column + 0.002*dataset'),\n",
       " (11,\n",
       "  '0.006*datum + 0.005*work + 0.004*project + 0.004*get + 0.003*science + 0.003*data + 0.003*people + 0.003*make + 0.003*job + 0.003*need + 0.002*lot + 0.002*skill + 0.002*well + 0.002*portfolio + 0.002*help + 0.002*good + 0.002*resume + 0.002*want + 0.002*learn + 0.002*go'),\n",
       " (12,\n",
       "  '0.007*datum + 0.007*column + 0.005*value + 0.004*code + 0.004*function + 0.004*dataframe + 0.004*create + 0.003*example + 0.003*want + 0.003*panda + 0.003*use + 0.002*make + 0.002*work + 0.002*author + 0.002*number + 0.002*list + 0.002*need + 0.002*data + 0.002*python + 0.002*time'),\n",
       " (13,\n",
       "  '0.008*variable + 0.004*datum + 0.003*correlation + 0.003*feature + 0.003*use + 0.002*pca + 0.002*continuous + 0.002*categorical + 0.002*want + 0.002*different + 0.002*metric + 0.002*layer + 0.002*method + 0.002*column + 0.002*principal_component + 0.002*work + 0.002*distance + 0.002*important + 0.002*many + 0.002*direction'),\n",
       " (14,\n",
       "  '0.009*datum + 0.007*table + 0.006*data + 0.006*dash + 0.004*graph + 0.004*science + 0.004*course + 0.004*code + 0.003*use + 0.003*dashboard + 0.003*app + 0.003*block + 0.002*date + 0.002*file + 0.002*first + 0.002*review + 0.002*function + 0.002*build + 0.002*change + 0.002*metric'),\n",
       " (15,\n",
       "  '0.006*model + 0.005*time + 0.003*use + 0.003*function + 0.003*neural_network + 0.002*deep + 0.002*learning + 0.002*value + 0.002*predict + 0.002*feature + 0.002*series + 0.002*build + 0.002*input + 0.002*prediction + 0.002*weight + 0.002*datum + 0.002*section + 0.002*loss + 0.001*know + 0.001*layer'),\n",
       " (16,\n",
       "  '0.005*datum + 0.004*panda + 0.004*machine + 0.003*learning + 0.003*learn + 0.003*python + 0.002*get + 0.002*point + 0.002*line + 0.002*column + 0.002*week + 0.002*use + 0.002*data + 0.002*value + 0.002*make + 0.002*project + 0.002*also + 0.002*function + 0.001*dataset + 0.001*science'),\n",
       " (17,\n",
       "  '0.004*trade + 0.003*trading + 0.003*time + 0.002*datum + 0.002*science + 0.002*market + 0.002*make + 0.002*course + 0.002*learn + 0.002*get + 0.002*price + 0.002*day + 0.002*take + 0.001*risk + 0.001*good + 0.001*lose + 0.001*way + 0.001*work + 0.001*money + 0.001*code'),\n",
       " (18,\n",
       "  '0.004*model + 0.004*datum + 0.004*value + 0.003*variable + 0.003*use + 0.003*linear_regression + 0.003*score + 0.003*feature + 0.003*coefficient + 0.003*alpha + 0.002*set + 0.002*imputation + 0.002*data + 0.002*dataset + 0.002*import + 0.002*print + 0.002*predict + 0.002*regression + 0.002*miss + 0.002*case'),\n",
       " (19,\n",
       "  '0.009*column + 0.008*select + 0.006*row + 0.004*dataframe + 0.004*label + 0.004*datum + 0.003*use + 0.003*selection + 0.003*series + 0.003*single + 0.003*panda + 0.003*list + 0.002*iloc + 0.002*index + 0.002*let + 0.002*value + 0.002*integer + 0.002*name + 0.002*also + 0.002*python')]"
      ]
     },
     "execution_count": 23,
     "metadata": {},
     "output_type": "execute_result"
    }
   ],
   "source": [
    "hdpmodel_tri.show_topics()"
   ]
  },
  {
   "cell_type": "code",
   "execution_count": null,
   "id": "160a9ea3",
   "metadata": {},
   "outputs": [],
   "source": []
  }
 ],
 "metadata": {
  "kernelspec": {
   "display_name": "scripting_101",
   "language": "python",
   "name": "scripting_101"
  },
  "language_info": {
   "codemirror_mode": {
    "name": "ipython",
    "version": 3
   },
   "file_extension": ".py",
   "mimetype": "text/x-python",
   "name": "python",
   "nbconvert_exporter": "python",
   "pygments_lexer": "ipython3",
   "version": "3.9.7"
  },
  "toc-autonumbering": true
 },
 "nbformat": 4,
 "nbformat_minor": 5
}
