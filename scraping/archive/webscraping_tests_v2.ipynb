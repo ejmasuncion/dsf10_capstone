{
 "cells": [
  {
   "cell_type": "code",
   "execution_count": 1,
   "id": "11a863e9-58c1-41b3-9083-6b41cd9954bf",
   "metadata": {},
   "outputs": [],
   "source": [
    "from lxml import etree\n",
    "import bs4\n",
    "from bs4 import BeautifulSoup\n",
    "import pandas as pd\n",
    "import random\n",
    "from selenium import webdriver\n",
    "from selenium.webdriver.common.by import By\n",
    "from selenium.webdriver.support.ui import WebDriverWait\n",
    "from selenium.webdriver.chrome.options import Options\n",
    "from selenium.webdriver.common.keys import Keys\n",
    "from time import sleep\n",
    "from webdriver_manager.chrome import ChromeDriverManager\n",
    "from selenium.webdriver.chrome.service import Service\n",
    "import numpy as np\n",
    "import requests\n",
    "\n",
    "\n",
    "options = Options()\n",
    "options.add_argument(\"--headless\")\n",
    "#options.add_argument(\"--start-maximized\")\n",
    "#options.add_argument(\"--disable-notifications\")\n",
    "options.add_argument(\"--incognito\")\n"
   ]
  },
  {
   "cell_type": "markdown",
   "id": "3b967840-8954-42c9-b67e-46f2d62e8b6d",
   "metadata": {},
   "source": [
    "# Functions"
   ]
  },
  {
   "cell_type": "code",
   "execution_count": 21,
   "id": "9aae2f24-fac4-4a57-a723-3caa860d5dda",
   "metadata": {},
   "outputs": [],
   "source": [
    "def page_source_from_selenium(url):\n",
    "    driver=webdriver.Chrome(service=Service(ChromeDriverManager().install()))\n",
    "    driver.get(url)\n",
    "\n",
    "\n",
    "    total_height = int(driver.execute_script(\"return document.body.scrollHeight\"))\n",
    "\n",
    "    for i in range(1, total_height, 5):\n",
    "        driver.execute_script(\"window.scrollTo(0, {});\".format(i))\n",
    "\n",
    "    page_source=driver.page_source\n",
    "\n",
    "\n",
    "    print(\"Done Exporting Data\")\n",
    "    driver.close()\n",
    "    driver.quit()\n",
    "    print(\"Closed Driver\")\n",
    "    return page_source\n",
    "\n",
    "def scrape_features_from_page(url):\n",
    "    page_source=page_source_from_selenium(url)\n",
    "    soup=bs4.BeautifulSoup(page_source,'lxml')\n",
    "    dom = etree.HTML(str(soup))\n",
    "    \n",
    "    \n",
    "    property_type=[i.text for i in dom.xpath(\"//span[@class='e2f34d59b1']\") ][0]\n",
    "    if property_type!=\"Hotel\":\n",
    "        print (\"Non-Hotel- Skipping Link\")\n",
    "        return pd.DataFrame()\n",
    "    \n",
    "    else:\n",
    "        hotel_name=[i.text for i in dom.xpath(\"//h2[@class='d2fee87262 pp-header__title']\") ][0]\n",
    "        _stars=[i for i in dom.xpath(\"//span[@data-testid='rating-circles']\") ]\n",
    "        stars=len(_stars[0].findall(\"span[@aria-hidden]\"))\n",
    "        location=[i.text.replace(\"\\n\",\"\") for i in dom.xpath(\"//span[contains(@class, 'address')]\")][0]\n",
    "        review_rating=[i.text.replace(\"\\n\",\"\") for i in dom.xpath(\"//div[contains(@aria-label, 'Scored')]\")][0]\n",
    "        location_score=[i.text.replace(\"\\n\",\"\") for i in dom.xpath(\"//span[@class='review-score-badge']\")][0]\n",
    "        descriptions=[i.findall('p') for i in dom.xpath(\"//div[@id='property_description_content']\")]\n",
    "        description=\" \".join([i.text for i in descriptions[0]])\n",
    "\n",
    "        main_facilities=[]\n",
    "        facilities_=[i for i in dom.xpath(\"//div[@class='hp_desc_important_facilities clearfix hp_desc_important_facilities--bui']\")]\n",
    "\n",
    "        for i in facilities_:\n",
    "            #print(i.findall(\"div\"))\n",
    "            for ii in i.findall(\"div\"):\n",
    "                main_facilities.append(ii.get(\"data-name-en\"))\n",
    "\n",
    "        total_reviews=[i.text for i in dom.xpath(\"//div[@class='d8eab2cf7f c90c0a70d3 db63693c62']\")][0].split(\" \")[0]\n",
    "        sub_ratings=[i.text for i in dom.xpath(\"//div[@class='ee746850b6 b8eef6afe1']\")][:7]\n",
    "        sub_ratings_categories=[i.text for i in dom.xpath(\"//span[@class='d6d4671780']\")][:7]\n",
    "        print(len(sub_ratings),len(sub_ratings_categories))\n",
    "\n",
    "        sub_ratings_dict={}\n",
    "        for i in range(len(sub_ratings)):\n",
    "            #print(sub_ratings[i])\n",
    "            #print(sub_ratings_categories[i])\n",
    "            sub_ratings_dict[sub_ratings_categories[i]] = sub_ratings[i]\n",
    "\n",
    "        #-----------------------------------------------    \n",
    "        hotel_surroundings=[i.text for i in dom.xpath(\"//div[@class='b1e6dd8416 aacd9d0b0a']|//span[@class='b6f930dcc9']\") if i.text is not None]\n",
    "        hotel_surroundings_distance=[i.text for i in dom.xpath(\"//div[@class='db29ecfbe2 c90c0a70d3']\") if i.text is not None]\n",
    "\n",
    "        print(\"surroundings qc\")\n",
    "        print(len(hotel_surroundings), len(hotel_surroundings_distance))\n",
    "        surroundings_dict = {hotel_surroundings[i]: hotel_surroundings_distance[i] for i in range(len(hotel_surroundings))}\n",
    "\n",
    "        room_type  = [i.text.replace(\"\\n\",\"\") for i in dom.xpath(\"//span[@class='hprt-roomtype-icon-link']\")]\n",
    "\n",
    "\n",
    "        price_list=[float(i.text.replace(\"\\n\",\"\").strip().replace(u'₱\\xa0', '').replace(\",\",\"\"))\n",
    "         for i in dom.xpath(\"//span[@class='prco-valign-middle-helper']\")]\n",
    "\n",
    "        cheapest_price=min(price_list)\n",
    "        room_type_dict = {room_type[i]: price_list[i] for i in range(len(room_type))}\n",
    "\n",
    "        facilities_groups=[i.replace(\"\\n\",\"\") for i in dom.xpath(\"//div[@class='bui-title__text hotel-facilities-group__title-text']//text()\") if (i!='\\n') & (i.replace(\"\\n\",\"\")!=\"Internet\")]\n",
    "        hfg=dom.xpath(\"//div[@class='bui-spacer--large']\")\n",
    "        all_facilities=[]\n",
    "        for i in hfg:\n",
    "            data=i.findall(\"div//div//div\")\n",
    "            facilities_per_group=[i.text.replace(\"\\n\",\"\") for i in data if (i.text!=\"\\n\") & (i.text!=None)]\n",
    "            if facilities_per_group !=[]:\n",
    "                all_facilities.append(facilities_per_group)\n",
    "            #print(\"\")\n",
    "\n",
    "        print(\"facilities qc\")\n",
    "        print(len(facilities_groups), len(all_facilities))\n",
    "        facilities_dict={facilities_groups[i]: all_facilities[i] for i in range(len(facilities_groups))}\n",
    "        internet_desc=[i.text.replace(\"\\n\",\"\") for i in dom.xpath(\"//div[@class='bui-spacer--medium hotel-facilities-group__policy']\") if (\"wifi\" in (i.text.lower()))]\n",
    "        facilities_dict[\"Internet\"]=internet_desc\n",
    "\n",
    "\n",
    "\n",
    "        #-----------------------------------------------   \n",
    "        all_features={\"hotel_name_\":hotel_name,\"stars\":stars,\n",
    "                  \"location\":location , \"location_score\":location_score, \n",
    "                  \"review_rating\":review_rating, \"description\":description,\n",
    "                  \"main_facilities\":main_facilities, \"total_reviews\":total_reviews,\n",
    "                  \"sub_ratings\":sub_ratings, \"sub_ratings_categories\":sub_ratings_categories,\"sub_ratings_dict\":sub_ratings_dict,\n",
    "                  \"hotel_surroundings\":hotel_surroundings, \"hotel_surroundings_distance\":hotel_surroundings_distance,\"surroundings_dict\":surroundings_dict,\n",
    "                  \"room_type\":room_type, \"price_list\":price_list,\"cheapeast_price\":cheapest_price, \"room_type_dict\":room_type_dict,\n",
    "                  \"facilities_groups\":facilities_groups,\"all_facilities\":all_facilities,\"facilities_dict\":facilities_dict         \n",
    "    }\n",
    "\n",
    "\n",
    "        df_all_features=pd.DataFrame({k: pd.Series([v]) for k,v in all_features.items()})\n",
    "        return df_all_features\n"
   ]
  },
  {
   "cell_type": "markdown",
   "id": "3de8101b-e4e3-4d29-bb73-88c1d1dfea38",
   "metadata": {},
   "source": [
    "# Webscrape per page"
   ]
  },
  {
   "cell_type": "code",
   "execution_count": 4,
   "id": "33410d5d",
   "metadata": {},
   "outputs": [
    {
     "data": {
      "text/html": [
       "<div>\n",
       "<style scoped>\n",
       "    .dataframe tbody tr th:only-of-type {\n",
       "        vertical-align: middle;\n",
       "    }\n",
       "\n",
       "    .dataframe tbody tr th {\n",
       "        vertical-align: top;\n",
       "    }\n",
       "\n",
       "    .dataframe thead th {\n",
       "        text-align: right;\n",
       "    }\n",
       "</style>\n",
       "<table border=\"1\" class=\"dataframe\">\n",
       "  <thead>\n",
       "    <tr style=\"text-align: right;\">\n",
       "      <th></th>\n",
       "      <th>url</th>\n",
       "    </tr>\n",
       "  </thead>\n",
       "  <tbody>\n",
       "    <tr>\n",
       "      <th>0</th>\n",
       "      <td>https://www.booking.com/hotel/ph/midas-hotel-a...</td>\n",
       "    </tr>\n",
       "    <tr>\n",
       "      <th>1</th>\n",
       "      <td>https://www.booking.com/hotel/ph/sofitel-phili...</td>\n",
       "    </tr>\n",
       "  </tbody>\n",
       "</table>\n",
       "</div>"
      ],
      "text/plain": [
       "                                                 url\n",
       "0  https://www.booking.com/hotel/ph/midas-hotel-a...\n",
       "1  https://www.booking.com/hotel/ph/sofitel-phili..."
      ]
     },
     "execution_count": 4,
     "metadata": {},
     "output_type": "execute_result"
    }
   ],
   "source": [
    "df=pd.read_csv(\"../manila_url2.csv\", nrows=2)\n",
    "# links=df.links\n",
    "df"
   ]
  },
  {
   "cell_type": "code",
   "execution_count": 22,
   "id": "f11ee3b6-7bc0-4437-a4ce-e749ec235ea9",
   "metadata": {
    "scrolled": true,
    "tags": []
   },
   "outputs": [
    {
     "name": "stderr",
     "output_type": "stream",
     "text": [
      "0it [00:00, ?it/s]"
     ]
    },
    {
     "name": "stdout",
     "output_type": "stream",
     "text": [
      "Opening link- 0 https://www.booking.com/hotel/ph/diamond-philippines.en-gb.html?label=gen173nr-1FCAEoggI46AdIM1gEaLQBiAEBmAExuAEXyAEM2AEB6AEB-AECiAIBqAIDuALP2NGbBsACAdICJGRiYTg5ODViLTY0OWYtNDJmMC05MmQ2LTQzYTNhOTM0OGMzNtgCBeACAQ&sid=62995f74fed87079ecbbad21978f8cb9&aid=304142&ucfs=1&arphpl=1&checkin=2022-11-25&checkout=2022-11-26&dest_id=-2437894&dest_type=city&group_adults=2&req_adults=2&no_rooms=1&group_children=0&req_children=0&hpos=1&hapos=1&sr_order=popularity&srpvid=e9da55d35eaa04a2&srepoch=1668773545&all_sr_blocks=29318601_0_2_1_0&highlighted_blocks=29318601_0_2_1_0&matching_block_id=29318601_0_2_1_0&sr_pri_blocks=29318601_0_2_1_0__15305&tpi_r=1&from=searchresults#hotelTmpl\n",
      "Diamond Hotel Philippines - Multiple Use Hotel\n",
      "Done Exporting Data\n",
      "Closed Driver\n"
     ]
    },
    {
     "name": "stderr",
     "output_type": "stream",
     "text": [
      "1it [00:49, 49.42s/it]"
     ]
    },
    {
     "name": "stdout",
     "output_type": "stream",
     "text": [
      "7 7\n",
      "surroundings qc\n",
      "33 33\n",
      "facilities qc\n",
      "19 19\n",
      " \n",
      "Opening link- 1 https://www.booking.com/hotel/ph/peaceful-and-beachy-staycation-azure.en-gb.html?label=gen173nr-1FCAEoggI46AdIM1gEaLQBiAEBmAExuAEXyAEM2AEB6AEB-AECiAIBqAIDuALP2NGbBsACAdICJGRiYTg5ODViLTY0OWYtNDJmMC05MmQ2LTQzYTNhOTM0OGMzNtgCBeACAQ&sid=62995f74fed87079ecbbad21978f8cb9&aid=304142&ucfs=1&arphpl=1&checkin=2022-11-25&checkout=2022-11-26&dest_id=-2437894&dest_type=city&group_adults=2&req_adults=2&no_rooms=1&group_children=0&req_children=0&hpos=2&hapos=2&sr_order=popularity&srpvid=e9da55d35eaa04a2&srepoch=1668773545&all_sr_blocks=399263001_202857528_4_0_0&highlighted_blocks=399263001_202857528_4_0_0&matching_block_id=399263001_202857528_4_0_0&sr_pri_blocks=399263001_202857528_4_0_0__185980&tpi_r=2&from=searchresults#hotelTmpl\n",
      "Azure Peaceful and Beachy Staycation\n",
      "Done Exporting Data\n",
      "Closed Driver\n"
     ]
    },
    {
     "name": "stderr",
     "output_type": "stream",
     "text": [
      "2it [01:30, 45.44s/it]"
     ]
    },
    {
     "name": "stdout",
     "output_type": "stream",
     "text": [
      "Non-Hotel- Skipping Link\n",
      " \n"
     ]
    },
    {
     "name": "stderr",
     "output_type": "stream",
     "text": [
      "\n"
     ]
    }
   ],
   "source": [
    "from tqdm import tqdm\n",
    "df=pd.read_csv(\"data/all_manila_hotels.csv\",nrows = 2)\n",
    "links=df.links\n",
    "\n",
    "df_hotels_consolidated=pd.DataFrame()\n",
    "\n",
    "start_index=0\n",
    "end_index=10\n",
    "\n",
    "for count,i in tqdm(enumerate(links[start_index:end_index])):\n",
    "    print(\"Opening link- \"+ str(count) + \" \" + str(i))\n",
    "    print(df.hotel_name[count+start_index])\n",
    "    try:\n",
    "        df_to_append=scrape_features_from_page(i)\n",
    "        df_to_append[\"link\"]=links[count+start_index]\n",
    "        df_to_append[\"hotel_name_from_all_urls\"]=df.hotel_name[count+start_index]\n",
    "        df_to_append[\"location_from_all_urls\"]=df.location[count+start_index]\n",
    "        df_to_append[\"distance_from_centre\"]=df.distance[count+start_index]\n",
    "        df_hotels_consolidated=pd.concat([df_hotels_consolidated,df_to_append])\n",
    "    except Exception as e: \n",
    "        print(\"\")\n",
    "        print(\"Error:\")\n",
    "        print(str(e))\n",
    "        print(\"Skipping due to error\")\n",
    "        continue\n",
    "        \n",
    "    print(\" \")"
   ]
  },
  {
   "cell_type": "code",
   "execution_count": 24,
   "id": "c7884438-e23e-4718-9ea2-9655df76f11c",
   "metadata": {},
   "outputs": [
    {
     "data": {
      "text/html": [
       "<div>\n",
       "<style scoped>\n",
       "    .dataframe tbody tr th:only-of-type {\n",
       "        vertical-align: middle;\n",
       "    }\n",
       "\n",
       "    .dataframe tbody tr th {\n",
       "        vertical-align: top;\n",
       "    }\n",
       "\n",
       "    .dataframe thead th {\n",
       "        text-align: right;\n",
       "    }\n",
       "</style>\n",
       "<table border=\"1\" class=\"dataframe\">\n",
       "  <thead>\n",
       "    <tr style=\"text-align: right;\">\n",
       "      <th></th>\n",
       "      <th>hotel_name_</th>\n",
       "      <th>stars</th>\n",
       "      <th>location</th>\n",
       "      <th>location_score</th>\n",
       "      <th>review_rating</th>\n",
       "      <th>description</th>\n",
       "      <th>main_facilities</th>\n",
       "      <th>total_reviews</th>\n",
       "      <th>sub_ratings</th>\n",
       "      <th>sub_ratings_categories</th>\n",
       "      <th>...</th>\n",
       "      <th>price_list</th>\n",
       "      <th>cheapeast_price</th>\n",
       "      <th>room_type_dict</th>\n",
       "      <th>facilities_groups</th>\n",
       "      <th>all_facilities</th>\n",
       "      <th>facilities_dict</th>\n",
       "      <th>link</th>\n",
       "      <th>hotel_name_from_all_urls</th>\n",
       "      <th>location_from_all_urls</th>\n",
       "      <th>distance_from_centre</th>\n",
       "    </tr>\n",
       "  </thead>\n",
       "  <tbody>\n",
       "    <tr>\n",
       "      <th>0</th>\n",
       "      <td>Diamond Hotel Philippines - Multiple Use Hotel</td>\n",
       "      <td>5.0</td>\n",
       "      <td>Dr. J. Quintos cor. Roxas Blvd Malate, 1000 Ma...</td>\n",
       "      <td>8.5</td>\n",
       "      <td>7.9</td>\n",
       "      <td>Located along Manila Bay, a 30-minute drive fr...</td>\n",
       "      <td>[Swimming pool, Non Smoking Rooms, Fitness Roo...</td>\n",
       "      <td>209</td>\n",
       "      <td>[8.3, 8.0, 8.2, 8.3, 7.4, 8.5, 7.3]</td>\n",
       "      <td>[Staff, Facilities, Cleanliness, Comfort, Valu...</td>\n",
       "      <td>...</td>\n",
       "      <td>[6300.0, 12274.0, 11733.0, 12274.0, 11733.0]</td>\n",
       "      <td>6300.0</td>\n",
       "      <td>{'Deluxe Regency Non-Smoking': 6300.0, 'Diamon...</td>\n",
       "      <td>[Bathroom, Bedroom, View, Outdoors, Kitchen, R...</td>\n",
       "      <td>[[Toilet paper, Towels, Bidet, Additional toil...</td>\n",
       "      <td>{'Bathroom': ['Toilet paper', 'Towels', 'Bidet...</td>\n",
       "      <td>https://www.booking.com/hotel/ph/diamond-phili...</td>\n",
       "      <td>Diamond Hotel Philippines - Multiple Use Hotel</td>\n",
       "      <td>Manila Bay, Manila</td>\n",
       "      <td>2.7 km from centre</td>\n",
       "    </tr>\n",
       "  </tbody>\n",
       "</table>\n",
       "<p>1 rows × 25 columns</p>\n",
       "</div>"
      ],
      "text/plain": [
       "                                      hotel_name_  stars  \\\n",
       "0  Diamond Hotel Philippines - Multiple Use Hotel    5.0   \n",
       "\n",
       "                                            location location_score  \\\n",
       "0  Dr. J. Quintos cor. Roxas Blvd Malate, 1000 Ma...            8.5   \n",
       "\n",
       "  review_rating                                        description  \\\n",
       "0           7.9  Located along Manila Bay, a 30-minute drive fr...   \n",
       "\n",
       "                                     main_facilities total_reviews  \\\n",
       "0  [Swimming pool, Non Smoking Rooms, Fitness Roo...           209   \n",
       "\n",
       "                           sub_ratings  \\\n",
       "0  [8.3, 8.0, 8.2, 8.3, 7.4, 8.5, 7.3]   \n",
       "\n",
       "                              sub_ratings_categories  ...  \\\n",
       "0  [Staff, Facilities, Cleanliness, Comfort, Valu...  ...   \n",
       "\n",
       "                                     price_list cheapeast_price  \\\n",
       "0  [6300.0, 12274.0, 11733.0, 12274.0, 11733.0]          6300.0   \n",
       "\n",
       "                                      room_type_dict  \\\n",
       "0  {'Deluxe Regency Non-Smoking': 6300.0, 'Diamon...   \n",
       "\n",
       "                                   facilities_groups  \\\n",
       "0  [Bathroom, Bedroom, View, Outdoors, Kitchen, R...   \n",
       "\n",
       "                                      all_facilities  \\\n",
       "0  [[Toilet paper, Towels, Bidet, Additional toil...   \n",
       "\n",
       "                                     facilities_dict  \\\n",
       "0  {'Bathroom': ['Toilet paper', 'Towels', 'Bidet...   \n",
       "\n",
       "                                                link  \\\n",
       "0  https://www.booking.com/hotel/ph/diamond-phili...   \n",
       "\n",
       "                         hotel_name_from_all_urls location_from_all_urls  \\\n",
       "0  Diamond Hotel Philippines - Multiple Use Hotel     Manila Bay, Manila   \n",
       "\n",
       "  distance_from_centre  \n",
       "0   2.7 km from centre  \n",
       "\n",
       "[1 rows x 25 columns]"
      ]
     },
     "execution_count": 24,
     "metadata": {},
     "output_type": "execute_result"
    }
   ],
   "source": [
    "df_hotels_consolidated#['room_type'][0]"
   ]
  },
  {
   "cell_type": "code",
   "execution_count": 30,
   "id": "c2749336",
   "metadata": {},
   "outputs": [],
   "source": [
    "import datetime"
   ]
  },
  {
   "cell_type": "code",
   "execution_count": 60,
   "id": "efab13f0",
   "metadata": {},
   "outputs": [
    {
     "data": {
      "text/plain": [
       "'2022-11-23'"
      ]
     },
     "execution_count": 60,
     "metadata": {},
     "output_type": "execute_result"
    }
   ],
   "source": [
    "today =  datetime.datetime.strftime(datetime.date.today(), \"%Y-%m-%d\")\n",
    "today"
   ]
  },
  {
   "cell_type": "code",
   "execution_count": 64,
   "id": "ab247185",
   "metadata": {},
   "outputs": [],
   "source": [
    "days_from_today = 3\n",
    "length_of_stay = 1"
   ]
  },
  {
   "cell_type": "code",
   "execution_count": 65,
   "id": "6fafec85",
   "metadata": {},
   "outputs": [
    {
     "data": {
      "text/plain": [
       "'2022-11-26'"
      ]
     },
     "execution_count": 65,
     "metadata": {},
     "output_type": "execute_result"
    }
   ],
   "source": [
    "start_date = datetime.datetime.strptime(today, \"%Y-%m-%d\") + datetime.timedelta(days=days_from_today)\n",
    "start_date = start_date.strftime(\"%Y-%m-%d\")\n",
    "start_date"
   ]
  },
  {
   "cell_type": "code",
   "execution_count": 69,
   "id": "8e18cdc6",
   "metadata": {},
   "outputs": [
    {
     "data": {
      "text/plain": [
       "'2022-11-27'"
      ]
     },
     "execution_count": 69,
     "metadata": {},
     "output_type": "execute_result"
    }
   ],
   "source": [
    "end_date = datetime.datetime.strptime(start_date, \"%Y-%m-%d\") + datetime.timedelta(days=length_of_stay)\n",
    "end_date = end_date.strftime(\"%Y-%m-%d\")\n",
    "end_date"
   ]
  },
  {
   "cell_type": "code",
   "execution_count": 70,
   "id": "1506856b",
   "metadata": {},
   "outputs": [
    {
     "data": {
      "text/plain": [
       "'https://www.booking.com/searchresults.en-gb.html?ss=Cebu&ssne=Baguio&ssne_untouched=Baguio&label=gen173nr-1FCAEoggI46AdIM1gEaLQBiAEBmAEJuAEXyAEM2AEB6AEB-AELiAIBqAIDuALa9-ebBsACAdICJDNiMWUxMTlhLTc3ODEtNGI3NC05MWVlLTQ5MDA0MDQzYzY5NNgCBuACAQ&sid=b3a20c12be6b3d4d9b1b0a71b11d8898&aid=304142&lang=en-gb&sb=1&src_elem=sb&src=searchresults&checkin=2022-11-26&checkout=2022-11-27&group_adults=2&no_rooms=1&group_children=0&sb_travel_purpose=leisure'"
      ]
     },
     "execution_count": 70,
     "metadata": {},
     "output_type": "execute_result"
    }
   ],
   "source": [
    "\"https://www.booking.com/searchresults.en-gb.html?ss=Cebu&ssne=Baguio&ssne_untouched=Baguio&label=gen173nr-1FCAEoggI46AdIM1gEaLQBiAEBmAEJuAEXyAEM2AEB6AEB-AELiAIBqAIDuALa9-ebBsACAdICJDNiMWUxMTlhLTc3ODEtNGI3NC05MWVlLTQ5MDA0MDQzYzY5NNgCBuACAQ&sid=b3a20c12be6b3d4d9b1b0a71b11d8898&aid=304142&lang=en-gb&sb=1&src_elem=sb&src=searchresults&checkin=\" + start_date + \"&checkout=\" + end_date + \"&group_adults=2&no_rooms=1&group_children=0&sb_travel_purpose=leisure\"\n"
   ]
  },
  {
   "cell_type": "code",
   "execution_count": 71,
   "id": "dcacd5a3",
   "metadata": {},
   "outputs": [
    {
     "data": {
      "text/plain": [
       "'https://www.booking.com/searchresults.en-gb.html?ss=Cebu&ssne=Baguio&ssne_untouched=Baguio&label=gen173nr-1FCAEoggI46AdIM1gEaLQBiAEBmAEJuAEXyAEM2AEB6AEB-AELiAIBqAIDuALa9-ebBsACAdICJDNiMWUxMTlhLTc3ODEtNGI3NC05MWVlLTQ5MDA0MDQzYzY5NNgCBuACAQ&sid=b3a20c12be6b3d4d9b1b0a71b11d8898&aid=304142&lang=en-gb&sb=1&src_elem=sb&src=searchresults&checkin=2022-11-25&checkout=2022-11-26&group_adults=2&no_rooms=1&group_children=0&sb_travel_purpose=leisure'"
      ]
     },
     "execution_count": 71,
     "metadata": {},
     "output_type": "execute_result"
    }
   ],
   "source": [
    "\"https://www.booking.com/searchresults.en-gb.html?ss=Cebu&ssne=Baguio&ssne_untouched=Baguio&label=gen173nr-1FCAEoggI46AdIM1gEaLQBiAEBmAEJuAEXyAEM2AEB6AEB-AELiAIBqAIDuALa9-ebBsACAdICJDNiMWUxMTlhLTc3ODEtNGI3NC05MWVlLTQ5MDA0MDQzYzY5NNgCBuACAQ&sid=b3a20c12be6b3d4d9b1b0a71b11d8898&aid=304142&lang=en-gb&sb=1&src_elem=sb&src=searchresults&checkin=2022-11-25&checkout=2022-11-26&group_adults=2&no_rooms=1&group_children=0&sb_travel_purpose=leisure\"\n"
   ]
  },
  {
   "cell_type": "code",
   "execution_count": null,
   "id": "f8eaf145",
   "metadata": {},
   "outputs": [],
   "source": [
    "target_page = \"https://www.booking.com/searchresults.en-gb.html?ss=Cebu&ssne=Baguio&ssne_untouched=Baguio&label=gen173nr-1FCAEoggI46AdIM1gEaLQBiAEBmAEJuAEXyAEM2AEB6AEB-AELiAIBqAIDuALa9-ebBsACAdICJDNiMWUxMTlhLTc3ODEtNGI3NC05MWVlLTQ5MDA0MDQzYzY5NNgCBuACAQ&sid=b3a20c12be6b3d4d9b1b0a71b11d8898&aid=304142&lang=en-gb&sb=1&src_elem=sb&src=searchresults&checkin=2022-11-25&checkout=2022-11-26&group_adults=2&no_rooms=1&group_children=0&sb_travel_purpose=leisure\"\n"
   ]
  }
 ],
 "metadata": {
  "kernelspec": {
   "display_name": "Python 3.9.9 ('sprint4')",
   "language": "python",
   "name": "python3"
  },
  "language_info": {
   "codemirror_mode": {
    "name": "ipython",
    "version": 3
   },
   "file_extension": ".py",
   "mimetype": "text/x-python",
   "name": "python",
   "nbconvert_exporter": "python",
   "pygments_lexer": "ipython3",
   "version": "3.9.9"
  },
  "vscode": {
   "interpreter": {
    "hash": "05b38870f0c95c9fd5c4a8877bf420dd445c545257be0d0ac610353382cd8499"
   }
  }
 },
 "nbformat": 4,
 "nbformat_minor": 5
}
