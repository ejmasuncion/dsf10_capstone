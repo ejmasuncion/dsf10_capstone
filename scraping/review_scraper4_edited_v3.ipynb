{
 "cells": [
  {
   "cell_type": "code",
   "execution_count": 1,
   "id": "9d66ebd1",
   "metadata": {},
   "outputs": [],
   "source": [
    "import bs4\n",
    "import random\n",
    "from lxml import etree\n",
    "\n",
    "import pandas as pd\n",
    "import time\n",
    "from bs4 import BeautifulSoup\n",
    "from selenium import webdriver\n",
    "from selenium.webdriver.common.by import By\n",
    "from selenium.webdriver.support.ui import WebDriverWait\n",
    "from selenium.webdriver.support import expected_conditions as EC\n",
    "from selenium.webdriver.chrome.service import Service\n",
    "from selenium.webdriver.chrome.options import Options\n",
    "from selenium.webdriver.common.keys import Keys\n",
    "from selenium.common.exceptions import TimeoutException\n",
    "from selenium.common.exceptions import NoSuchElementException\n",
    "from time import sleep\n",
    "\n",
    "from webdriver_manager.chrome import ChromeDriverManager"
   ]
  },
  {
   "cell_type": "code",
   "execution_count": 2,
   "id": "80ee4430",
   "metadata": {},
   "outputs": [],
   "source": [
    "def review_details(dom,main_dict,current_page):\n",
    "    country_list=[i for i in dom.xpath(\"//div[@class='c-review-block']//div[1]//div[@class='c-review-block__row c-review-block__guest']//div[@class='bui-avatar-block__text']//span[@class='bui-avatar-block__subtitle']//text()\") if i!='\\n']\n",
    "    for count,i in enumerate(dom.xpath(\"//div[@class='c-review-block']\")):\n",
    "        \n",
    "        try:\n",
    "            country=country_list[count]\n",
    "        except:\n",
    "            country=\"\"\n",
    "        inner_dict={}\n",
    "        #Left Block\n",
    "        \n",
    "        try:\n",
    "            name=i.findall(\"div\")[1].findall(\"div//span[@class='bui-avatar-block__title']\")[0].text\n",
    "        except:\n",
    "            name=\"\"\n",
    "        \n",
    "        try:\n",
    "            room_type=i.findall(\"div\")[1].findall(\"div\")[0].findall(\"div[@class='c-review-block__row c-review-block__room-info-row']//ul/li//a//div\")[0].text\n",
    "        except:\n",
    "            room_type=\"\"\n",
    "        \n",
    "        try:\n",
    "            nights_stayed=i.findall(\"div\")[1].findall(\"div\")[0].findall(\"ul[@class='bui-list bui-list--text bui-list--icon bui_font_caption c-review-block__row c-review-block__stay-date']//li//div\")[0].text\n",
    "        except:\n",
    "            nights_stayed=\"\"\n",
    "            \n",
    "        try:\n",
    "            month_stayed=i.findall(\"div\")[1].findall(\"div\")[0].findall(\"ul[@class='bui-list bui-list--text bui-list--icon bui_font_caption c-review-block__row c-review-block__stay-date']//li//div//span\")[0].text\n",
    "        except:\n",
    "            month_stayed=\"\"\n",
    "            \n",
    "            \n",
    "        try:\n",
    "            occupant_type=i.findall(\"div\")[1].findall(\"div\")[0].findall(\"ul[@class='bui-list bui-list--text bui-list--icon bui_font_caption review-panel-wide__traveller_type c-review-block__row']//li//div\")[0].text\n",
    "        except:\n",
    "            occupant_type=\"\"\n",
    "        \n",
    "        try:\n",
    "            date_reviewed=i.findall(\"div\")[1].findall(\"div//span[@class='c-review-block__date']\")[0].text\n",
    "        except:\n",
    "            date_reviewed=\"\"\n",
    "        \n",
    "        try:\n",
    "            review_score=i.findall(\"div\")[1].findall(\"div\")[1].findall(\"div\")[0].findall(\"div[@class='bui-grid']\")[0] \\\n",
    "              .findall(\"div[@class='bui-grid__column-1 bui-u-text-right']//div//div\")[0].text\n",
    "        except:\n",
    "            review_score=\"\"\n",
    "        \n",
    "        #Right Block\n",
    "        \n",
    "        try:\n",
    "            short_review=i.findall(\"div\")[1].findall(\"div//h3\")[0].text\n",
    "        except:\n",
    "            short_review=\"\"\n",
    "            \n",
    "        try:\n",
    "            positive_review=i.findall(\"div\")[1].findall(\"div\")[1].findall(\"div\")[1].findall(\"div//div[@class='c-review__row']\" +\n",
    "                            \"//p//span[@class='c-review__body']\")[0].text\n",
    "        except:\n",
    "            positive_review=\"\"\n",
    "\n",
    "        try:\n",
    "            negative_review=i.findall(\"div\")[1].findall(\"div\")[1].findall(\"div\")[1].findall(\"div//div[@class='c-review__row lalala']\" +\n",
    "                         \"//p//span[@class='c-review__body']\")[0].text\n",
    "        except:\n",
    "            negative_review=\"\"\n",
    "\n",
    "        inner_dict={\"name\":name, \"room_type\":room_type, \"nights_stayed\":nights_stayed, \"month_stayed\":month_stayed,\n",
    "                    \"occupant_type\":occupant_type, \"from_country\":country,\"review_score\":review_score,\n",
    "                   \"date_reviewed\":date_reviewed,\"short_review\":short_review,\"positive_review\":positive_review,\n",
    "                    \"negative_review\":negative_review\n",
    "                   }\n",
    "\n",
    "        main_dict[\"From Page \"+str(current_page)+\", Person- \"+ str(count+1)]=inner_dict\n",
    "\n",
    "\n",
    "\n",
    "\n",
    "def get_review_body(url):\n",
    "    driver = webdriver.Chrome(service=Service(ChromeDriverManager().install()))\n",
    "    driver.get(url)\n",
    "    driver.maximize_window()\n",
    "\n",
    "\n",
    "    time.sleep(3)\n",
    "    driver.execute_script('window.scrollTo(0, 100)')\n",
    "        \n",
    "    #click Read all reviews button\n",
    "    \n",
    "\n",
    "    \n",
    "    \n",
    "    driver.find_element(by=\"xpath\", value=\"//a[@data-target= 'hp-reviews-sliding']\").click()\n",
    "    #Switch to review window\n",
    "    driver.switch_to.window(driver.window_handles[0])\n",
    "\n",
    "    soup = BeautifulSoup(driver.page_source,\"html.parser\")\n",
    "\n",
    "    #get min and max pages\n",
    "    current_page = 1\n",
    "    time.sleep(3)\n",
    "    \n",
    "    all_pageList = driver.find_elements(by=\"xpath\",value=\"//a[contains(@class,'bui-pagination__link')]\")\n",
    "\n",
    "    try:\n",
    "        last = driver.find_element(by=\"xpath\", value=\"//*[@id='review_list_page_container']/div[4]/div/div[1]/div/div[2]/div/div[7]/a/span[2]\").text\n",
    "        last2 = last.split(\" \")\n",
    "        last_page = int(last2[1])\n",
    "    except Exception as e: \n",
    "        if len(all_pageList) == 2:\n",
    "            last = driver.find_element(by=\"xpath\", value=\"//*[@id='review_list_page_container']/div[4]/div/div[1]/div/div[2]/div/div[2]/a/span[2]\").text\n",
    "            last2 = last.split(\" \")\n",
    "            last_page = int(last2[1]) + 1\n",
    "        elif len(all_pageList) == 3:\n",
    "            last = driver.find_element(by=\"xpath\", value=\"//*[@id='review_list_page_container']/div[4]/div/div[1]/div/div[2]/div/div[3]/a/span[2]\").text\n",
    "            last2 = last.split(\" \")\n",
    "            last_page = int(last2[1]) + 1\n",
    "        elif len(all_pageList) == 4:\n",
    "            last = driver.find_element(by=\"xpath\", value=\"//*[@id='review_list_page_container']/div[4]/div/div[1]/div/div[2]/div/div[4]/a/span[2]\").text\n",
    "            last2 = last.split(\" \")\n",
    "            last_page = int(last2[1]) + 1\n",
    "        elif len(all_pageList) == 5:\n",
    "            last = driver.find_element(by=\"xpath\", value=\"//*[@id='review_list_page_container']/div[4]/div/div[1]/div/div[2]/div/div[5]/a/span[2]\").text\n",
    "            last2 = last.split(\" \")\n",
    "            last_page = int(last2[1]) + 1\n",
    "        elif len(all_pageList) == 6:\n",
    "            last = driver.find_element(by=\"xpath\", value=\"//*[@id='review_list_page_container']/div[4]/div/div[1]/div/div[2]/div/div[6]/a/span[2]\").text\n",
    "            last2 = last.split(\" \")\n",
    "            last_page = int(last2[1]) + 1\n",
    "        elif len(all_pageList) == 1:\n",
    "            last_page = current_page\n",
    "    \n",
    "    try:\n",
    "        print(\"Total Pages- \" + str(last_page))\n",
    "    except Exception as e: \n",
    "        last_page=1\n",
    "        print(\"Total Pages- \" + str(last_page))\n",
    "    review_body=[]\n",
    "    main_dict={}\n",
    "    while current_page <= last_page:\n",
    "        print(\"Current Page- \" +str(current_page))\n",
    "        time.sleep(3)\n",
    "        \n",
    "        page_source=driver.page_source\n",
    "        soup=bs4.BeautifulSoup(page_source,'lxml')\n",
    "        dom = etree.HTML(str(soup))\n",
    "        \n",
    "        \n",
    "        review_details(dom,main_dict,current_page)\n",
    "        \n",
    "        time.sleep(3)\n",
    "        if current_page<last_page:\n",
    "            while True:\n",
    "                try:\n",
    "                    driver.find_element(by=\"xpath\", value=\"//a[contains(@class, 'pagenext')]\").click()\n",
    "                    break\n",
    "                except:    \n",
    "                    print(\"Click Error-Trying Again\")\n",
    "                    time.sleep(5)\n",
    "                    pass\n",
    "                  \n",
    "        current_page +=1\n",
    "    \n",
    "    driver.quit()\n",
    "    dict_to_df={\"url\":url,\"All_reviews\":main_dict}\n",
    "    df=pd.DataFrame({k: pd.Series([v]) for k,v in dict_to_df.items()})\n",
    "    return df\n"
   ]
  },
  {
   "cell_type": "markdown",
   "id": "8bb6b0d9-7d66-4422-b1ba-748dc713c2ac",
   "metadata": {},
   "source": [
    "# Run on multiple URL's"
   ]
  },
  {
   "cell_type": "code",
   "execution_count": 3,
   "id": "5474c207",
   "metadata": {},
   "outputs": [],
   "source": [
    "import numpy as np"
   ]
  },
  {
   "cell_type": "code",
   "execution_count": 25,
   "id": "5c19435d",
   "metadata": {},
   "outputs": [
    {
     "data": {
      "text/plain": [
       "0      https://www.booking.com/hotel/ph/savoy-manila-...\n",
       "1      https://www.booking.com/hotel/ph/zen-rooms-bas...\n",
       "2      https://www.booking.com/hotel/ph/oyo-181-manil...\n",
       "3      https://www.booking.com/hotel/ph/seda-residenc...\n",
       "4      https://www.booking.com/hotel/ph/go-hotels-man...\n",
       "                             ...                        \n",
       "302    https://www.booking.com/hotel/ph/shogun-suite....\n",
       "303    https://www.booking.com/hotel/ph/oyo-118-merlo...\n",
       "304    https://www.booking.com/hotel/ph/reddoorz-plus...\n",
       "305    https://www.booking.com/hotel/ph/reddoorz-near...\n",
       "306    https://www.booking.com/hotel/ph/soriente.html...\n",
       "Name: link, Length: 307, dtype: object"
      ]
     },
     "execution_count": 25,
     "metadata": {},
     "output_type": "execute_result"
    }
   ],
   "source": [
    "links"
   ]
  },
  {
   "cell_type": "code",
   "execution_count": 26,
   "id": "effdfc0d-91b6-4180-ba2d-b83432e526cf",
   "metadata": {
    "scrolled": true,
    "tags": []
   },
   "outputs": [
    {
     "name": "stderr",
     "output_type": "stream",
     "text": [
      "0it [00:00, ?it/s]"
     ]
    },
    {
     "name": "stdout",
     "output_type": "stream",
     "text": [
      "Opening link- 0 https://www.booking.com/hotel/ph/99-quiapo.html?label=gen173nr-1FCAEoggI46AdIM1gEaLQBiAEBmAEJuAEXyAEM2AEB6AEB-AELiAIBqAIDuALa9-ebBsACAdICJDNiMWUxMTlhLTc3ODEtNGI3NC05MWVlLTQ5MDA0MDQzYzY5NNgCBuACAQ&sid=b3a20c12be6b3d4d9b1b0a71b11d8898&aid=304142&ucfs=1&arphpl=1&checkin=2022-12-01&checkout=2022-12-02&dest_id=-2437894&dest_type=city&group_adults=2&req_adults=2&no_rooms=1&group_children=0&req_children=0&hpos=11&hapos=286&sr_order=popularity&nflt=ht_id%3D204&srpvid=7ca3572c9035002e&srepoch=1669119898&all_sr_blocks=206903302_0_2_0_0&highlighted_blocks=206903302_0_2_0_0&matching_block_id=206903302_0_2_0_0&sr_pri_blocks=206903302_0_2_0_0__1878&tpi_r=1&from=searchresults#hotelTmpl\n",
      "Total Pages- 23\n",
      "Current Page- 1\n",
      "Current Page- 2\n",
      "Current Page- 3\n",
      "Current Page- 4\n",
      "Current Page- 5\n",
      "Current Page- 6\n",
      "Current Page- 7\n",
      "Current Page- 8\n",
      "Current Page- 9\n",
      "Current Page- 10\n",
      "Current Page- 11\n",
      "Current Page- 12\n",
      "Current Page- 13\n",
      "Current Page- 14\n",
      "Current Page- 15\n",
      "Current Page- 16\n",
      "Current Page- 17\n",
      "Current Page- 18\n",
      "Current Page- 19\n",
      "Current Page- 20\n",
      "Current Page- 21\n",
      "Current Page- 22\n",
      "Current Page- 23\n"
     ]
    },
    {
     "name": "stderr",
     "output_type": "stream",
     "text": [
      "1it [03:04, 184.21s/it]"
     ]
    },
    {
     "name": "stdout",
     "output_type": "stream",
     "text": [
      " \n",
      "Opening link- 1 https://www.booking.com/hotel/ph/prime.html?label=gen173nr-1FCAEoggI46AdIM1gEaLQBiAEBmAEJuAEXyAEM2AEB6AEB-AELiAIBqAIDuALa9-ebBsACAdICJDNiMWUxMTlhLTc3ODEtNGI3NC05MWVlLTQ5MDA0MDQzYzY5NNgCBuACAQ&sid=b3a20c12be6b3d4d9b1b0a71b11d8898&aid=304142&ucfs=1&arphpl=1&checkin=2022-12-01&checkout=2022-12-02&dest_id=-2437894&dest_type=city&group_adults=2&req_adults=2&no_rooms=1&group_children=0&req_children=0&hpos=15&hapos=290&sr_order=popularity&nflt=ht_id%3D204&srpvid=7ca3572c9035002e&srepoch=1669119898&all_sr_blocks=273488501_0_2_0_0&highlighted_blocks=273488501_0_2_0_0&matching_block_id=273488501_0_2_0_0&sr_pri_blocks=273488501_0_2_0_0__2992&tpi_r=1&from=searchresults#hotelTmpl\n",
      "Total Pages- 3\n",
      "Current Page- 1\n",
      "Current Page- 2\n",
      "Current Page- 3\n"
     ]
    },
    {
     "name": "stderr",
     "output_type": "stream",
     "text": [
      "2it [03:45, 99.92s/it] "
     ]
    },
    {
     "name": "stdout",
     "output_type": "stream",
     "text": [
      " \n",
      "Opening link- 2 https://www.booking.com/hotel/ph/shogun-suite.html?label=gen173nr-1FCAEoggI46AdIM1gEaLQBiAEBmAEJuAEXyAEM2AEB6AEB-AELiAIBqAIDuALa9-ebBsACAdICJDNiMWUxMTlhLTc3ODEtNGI3NC05MWVlLTQ5MDA0MDQzYzY5NNgCBuACAQ&sid=b3a20c12be6b3d4d9b1b0a71b11d8898&aid=304142&ucfs=1&arphpl=1&checkin=2022-12-01&checkout=2022-12-02&dest_id=-2437894&dest_type=city&group_adults=2&req_adults=2&no_rooms=1&group_children=0&req_children=0&hpos=17&hapos=292&sr_order=popularity&nflt=ht_id%3D204&srpvid=7ca3572c9035002e&srepoch=1669119898&all_sr_blocks=30691903_361064791_2_2_0&highlighted_blocks=30691903_361064791_2_2_0&matching_block_id=30691903_361064791_2_2_0&sr_pri_blocks=30691903_361064791_2_2_0__200698&tpi_r=2&from=searchresults#hotelTmpl\n",
      "Total Pages- 17\n",
      "Current Page- 1\n",
      "Current Page- 2\n",
      "Current Page- 3\n",
      "Current Page- 4\n",
      "Current Page- 5\n",
      "Current Page- 6\n",
      "Current Page- 7\n",
      "Current Page- 8\n",
      "Current Page- 9\n",
      "Current Page- 10\n",
      "Current Page- 11\n",
      "Current Page- 12\n",
      "Current Page- 13\n",
      "Current Page- 14\n",
      "Current Page- 15\n",
      "Current Page- 16\n",
      "Current Page- 17\n"
     ]
    },
    {
     "name": "stderr",
     "output_type": "stream",
     "text": [
      "3it [06:02, 117.05s/it]"
     ]
    },
    {
     "name": "stdout",
     "output_type": "stream",
     "text": [
      " \n",
      "Opening link- 3 https://www.booking.com/hotel/ph/oyo-118-merlo.html?label=gen173nr-1FCAEoggI46AdIM1gEaLQBiAEBmAEJuAEXyAEM2AEB6AEB-AELiAIBqAIDuALa9-ebBsACAdICJDNiMWUxMTlhLTc3ODEtNGI3NC05MWVlLTQ5MDA0MDQzYzY5NNgCBuACAQ&sid=b3a20c12be6b3d4d9b1b0a71b11d8898&aid=304142&ucfs=1&arphpl=1&checkin=2022-12-01&checkout=2022-12-02&dest_id=-2437894&dest_type=city&group_adults=2&req_adults=2&no_rooms=1&group_children=0&req_children=0&hpos=19&hapos=294&sr_order=popularity&nflt=ht_id%3D204&srpvid=7ca3572c9035002e&srepoch=1669119898&all_sr_blocks=450264601_278132167_0_0_0&highlighted_blocks=450264601_278132167_0_0_0&matching_block_id=450264601_278132167_0_0_0&sr_pri_blocks=450264601_278132167_0_0_0__218500&tpi_r=2&from=searchresults#hotelTmpl\n",
      "Total Pages- 7\n",
      "Current Page- 1\n",
      "Current Page- 2\n",
      "Current Page- 3\n",
      "Current Page- 4\n",
      "Current Page- 5\n",
      "Current Page- 6\n",
      "Current Page- 7\n"
     ]
    },
    {
     "name": "stderr",
     "output_type": "stream",
     "text": [
      "4it [07:10, 97.84s/it] "
     ]
    },
    {
     "name": "stdout",
     "output_type": "stream",
     "text": [
      " \n",
      "Opening link- 4 https://www.booking.com/hotel/ph/reddoorz-plus-d-39-builders-poblacion-bgc.html?label=gen173nr-1FCAEoggI46AdIM1gEaLQBiAEBmAEJuAEXyAEM2AEB6AEB-AELiAIBqAIDuALa9-ebBsACAdICJDNiMWUxMTlhLTc3ODEtNGI3NC05MWVlLTQ5MDA0MDQzYzY5NNgCBuACAQ&sid=b3a20c12be6b3d4d9b1b0a71b11d8898&aid=304142&ucfs=1&arphpl=1&checkin=2022-12-01&checkout=2022-12-02&dest_id=-2437894&dest_type=city&group_adults=2&req_adults=2&no_rooms=1&group_children=0&req_children=0&hpos=20&hapos=295&sr_order=popularity&nflt=ht_id%3D204&srpvid=7ca3572c9035002e&srepoch=1669119898&all_sr_blocks=864530302_0_2_0_0&highlighted_blocks=864530302_0_2_0_0&matching_block_id=864530302_0_2_0_0&sr_pri_blocks=864530302_0_2_0_0__1398&tpi_r=1&from=searchresults#hotelTmpl\n",
      "Total Pages- 1\n",
      "Current Page- 1\n"
     ]
    },
    {
     "name": "stderr",
     "output_type": "stream",
     "text": [
      "5it [07:38, 72.58s/it]"
     ]
    },
    {
     "name": "stdout",
     "output_type": "stream",
     "text": [
      " \n",
      "Opening link- 5 https://www.booking.com/hotel/ph/reddoorz-near-edsa-camp-crame.html?label=gen173nr-1FCAEoggI46AdIM1gEaLQBiAEBmAEJuAEXyAEM2AEB6AEB-AELiAIBqAIDuALa9-ebBsACAdICJDNiMWUxMTlhLTc3ODEtNGI3NC05MWVlLTQ5MDA0MDQzYzY5NNgCBuACAQ&sid=b3a20c12be6b3d4d9b1b0a71b11d8898&aid=304142&ucfs=1&arphpl=1&checkin=2022-12-01&checkout=2022-12-02&dest_id=-2437894&dest_type=city&group_adults=2&req_adults=2&no_rooms=1&group_children=0&req_children=0&hpos=23&hapos=298&sr_order=popularity&nflt=ht_id%3D204&srpvid=7ca3572c9035002e&srepoch=1669119898&all_sr_blocks=757374601_0_2_0_0&highlighted_blocks=757374601_0_2_0_0&matching_block_id=757374601_0_2_0_0&sr_pri_blocks=757374601_0_2_0_0__1339&tpi_r=1&from_sustainable_property_sr=1&from=searchresults#hotelTmpl\n",
      "Total Pages- 1\n",
      "Current Page- 1\n"
     ]
    },
    {
     "name": "stderr",
     "output_type": "stream",
     "text": [
      "6it [08:05, 57.04s/it]"
     ]
    },
    {
     "name": "stdout",
     "output_type": "stream",
     "text": [
      " \n",
      "Opening link- 6 https://www.booking.com/hotel/ph/soriente.html?label=gen173nr-1FCAEoggI46AdIM1gEaLQBiAEBmAEJuAEXyAEM2AEB6AEB-AELiAIBqAIDuALa9-ebBsACAdICJDNiMWUxMTlhLTc3ODEtNGI3NC05MWVlLTQ5MDA0MDQzYzY5NNgCBuACAQ&sid=b3a20c12be6b3d4d9b1b0a71b11d8898&aid=304142&ucfs=1&arphpl=1&checkin=2022-12-01&checkout=2022-12-02&dest_id=-2437894&dest_type=city&group_adults=2&req_adults=2&no_rooms=1&group_children=0&req_children=0&hpos=24&hapos=299&sr_order=popularity&nflt=ht_id%3D204&srpvid=7ca3572c9035002e&srepoch=1669119898&all_sr_blocks=41633801_0_2_0_0&highlighted_blocks=41633801_0_2_0_0&matching_block_id=41633801_0_2_0_0&sr_pri_blocks=41633801_0_2_0_0__3225&tpi_r=1&from=searchresults#hotelTmpl\n",
      "Total Pages- 3\n",
      "Current Page- 1\n",
      "Current Page- 2\n",
      "Current Page- 3\n"
     ]
    },
    {
     "name": "stderr",
     "output_type": "stream",
     "text": [
      "7it [08:46, 75.22s/it]"
     ]
    },
    {
     "name": "stdout",
     "output_type": "stream",
     "text": [
      " \n"
     ]
    },
    {
     "name": "stderr",
     "output_type": "stream",
     "text": [
      "\n"
     ]
    }
   ],
   "source": [
    "from tqdm import tqdm\n",
    "#df=pd.read_csv(\"data/all_manila_hotels.csv\")\n",
    "#df=pd.read_csv(\"data/all_manila_hotels_v2.csv\")\n",
    "df=pd.read_csv(\"data/consolidated_urls.csv\")\n",
    "links=df.link\n",
    "\n",
    "df_hotels_consolidated=pd.DataFrame()\n",
    "\n",
    "start_index=300\n",
    "end_index=307\n",
    "all_numbers = range(start_index, end_index)\n",
    "exclude_set = [276]  # a set containing the value 0\n",
    "temp_exclude = []\n",
    "all_exclude = np.concatenate((exclude_set,temp_exclude))\n",
    "numbers = [num for num in all_numbers if num not in all_exclude]    \n",
    "\n",
    "for count,i in tqdm(enumerate(links[numbers])):\n",
    "    print(\"Opening link- \"+ str(count) + \" \" + str(i))\n",
    "    #print(df.hotel_name[count+start_index])\n",
    "    #try:\n",
    "    df_to_append=get_review_body(i)\n",
    "    df_to_append[\"Hotel_num\"]=start_index+count\n",
    "    df_hotels_consolidated=pd.concat([df_hotels_consolidated,df_to_append])\n",
    "        \n",
    "    # except Exception as e: \n",
    "    #     print(\"\")\n",
    "    #     print(\"Error:\")\n",
    "    #     print(str(e))\n",
    "    #     print(\"Skipping due to error\")\n",
    "    #     continue\n",
    "        \n",
    "    print(\" \")"
   ]
  },
  {
   "cell_type": "code",
   "execution_count": 10,
   "id": "070a8229-4051-4def-95b0-84337d4f4ae3",
   "metadata": {},
   "outputs": [
    {
     "data": {
      "text/html": [
       "<div>\n",
       "<style scoped>\n",
       "    .dataframe tbody tr th:only-of-type {\n",
       "        vertical-align: middle;\n",
       "    }\n",
       "\n",
       "    .dataframe tbody tr th {\n",
       "        vertical-align: top;\n",
       "    }\n",
       "\n",
       "    .dataframe thead th {\n",
       "        text-align: right;\n",
       "    }\n",
       "</style>\n",
       "<table border=\"1\" class=\"dataframe\">\n",
       "  <thead>\n",
       "    <tr style=\"text-align: right;\">\n",
       "      <th></th>\n",
       "      <th>url</th>\n",
       "      <th>All_reviews</th>\n",
       "    </tr>\n",
       "  </thead>\n",
       "  <tbody>\n",
       "    <tr>\n",
       "      <th>0</th>\n",
       "      <td>https://www.booking.com/hotel/ph/artemis-place...</td>\n",
       "      <td>{'From Page 1, Person- 1': {'name': 'Philip', ...</td>\n",
       "    </tr>\n",
       "  </tbody>\n",
       "</table>\n",
       "</div>"
      ],
      "text/plain": [
       "                                                 url  \\\n",
       "0  https://www.booking.com/hotel/ph/artemis-place...   \n",
       "\n",
       "                                         All_reviews  \n",
       "0  {'From Page 1, Person- 1': {'name': 'Philip', ...  "
      ]
     },
     "execution_count": 10,
     "metadata": {},
     "output_type": "execute_result"
    }
   ],
   "source": [
    "df_hotels_consolidated"
   ]
  },
  {
   "cell_type": "code",
   "execution_count": 27,
   "id": "a5209233-59a9-4ca8-b3de-1cf58c794098",
   "metadata": {},
   "outputs": [],
   "source": [
    "import pickle\n",
    "\n",
    "\n",
    "output = open('data/hotel_reviews_300_306.pkl', 'wb')\n",
    "pickle.dump(df_hotels_consolidated, output)\n",
    "output.close()\n",
    "\n",
    "#df.to_csv(\"data/sample_output_reviews.csv\")"
   ]
  },
  {
   "cell_type": "code",
   "execution_count": null,
   "id": "ade4bb93",
   "metadata": {},
   "outputs": [],
   "source": []
  }
 ],
 "metadata": {
  "kernelspec": {
   "display_name": "Python 3.9.13 64-bit",
   "language": "python",
   "name": "python3"
  },
  "language_info": {
   "codemirror_mode": {
    "name": "ipython",
    "version": 3
   },
   "file_extension": ".py",
   "mimetype": "text/x-python",
   "name": "python",
   "nbconvert_exporter": "python",
   "pygments_lexer": "ipython3",
   "version": "3.9.13"
  },
  "vscode": {
   "interpreter": {
    "hash": "9dab0687f601caaf62d1509275a7d9bd505f2a32cc5f4a04eac762229330bbf1"
   }
  }
 },
 "nbformat": 4,
 "nbformat_minor": 5
}
