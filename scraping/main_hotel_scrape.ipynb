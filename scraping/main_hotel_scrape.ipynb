{
 "cells": [
  {
   "cell_type": "code",
   "execution_count": 31,
   "metadata": {},
   "outputs": [],
   "source": [
    "import glob\n",
    "import pandas as pd\n",
    "import pickle\n",
    "\n",
    "# from scraping.data_scraper import *\n",
    "from scraping.hotel_review_scraper import *"
   ]
  },
  {
   "cell_type": "code",
   "execution_count": 2,
   "metadata": {},
   "outputs": [],
   "source": [
    "# test = pd.read_csv('data/manila_url2.csv')\n",
    "# len(test)"
   ]
  },
  {
   "cell_type": "code",
   "execution_count": 3,
   "metadata": {},
   "outputs": [],
   "source": [
    "## run this chunk to scrape hotel info\n",
    "## check data_scraper.py for full code of functions\n",
    "## the output csv and pkl file can be found on the home directory\n",
    "\n",
    "# scrape_hotel_info(urls=\"data/manila_url2.csv\", start_index = 400, end_index = len(test)+1)"
   ]
  },
  {
   "cell_type": "code",
   "execution_count": 8,
   "metadata": {},
   "outputs": [
    {
     "name": "stderr",
     "output_type": "stream",
     "text": [
      "0it [00:00, ?it/s]"
     ]
    },
    {
     "name": "stdout",
     "output_type": "stream",
     "text": [
      "Opening link- 0 https://www.booking.com/hotel/ph/spaces-eco-hotels.html?label=gen173nr-1FCAEoggI46AdIM1gEaLQBiAEBmAEJuAEXyAEM2AEB6AEB-AELiAIBqAIDuALa9-ebBsACAdICJDNiMWUxMTlhLTc3ODEtNGI3NC05MWVlLTQ5MDA0MDQzYzY5NNgCBuACAQ&sid=b3a20c12be6b3d4d9b1b0a71b11d8898&aid=304142&ucfs=1&arphpl=1&checkin=2022-12-01&checkout=2022-12-02&dest_id=-2437894&dest_type=city&group_adults=2&req_adults=2&no_rooms=1&group_children=0&req_children=0&hpos=16&hapos=141&sr_order=popularity&nflt=ht_id%3D204&srpvid=7ca3572c9035002e&srepoch=1669119867&all_sr_blocks=0_0_2_0_0&highlighted_blocks=0_0_2_0_0&matching_block_id=0_0_2_0_0&sr_pri_blocks=0_0_2_0_0__2934&tpi_r=1&from_sustainable_property_sr=1&from=searchresults#hotelTmpl\n",
      "Total Pages- 5\n",
      "Current Page- 1\n",
      "Current Page- 2\n",
      "Current Page- 3\n",
      "Current Page- 4\n",
      "Current Page- 5\n"
     ]
    },
    {
     "name": "stderr",
     "output_type": "stream",
     "text": [
      "1it [00:55, 55.76s/it]"
     ]
    },
    {
     "name": "stdout",
     "output_type": "stream",
     "text": [
      " \n"
     ]
    },
    {
     "name": "stderr",
     "output_type": "stream",
     "text": [
      "\n"
     ]
    }
   ],
   "source": [
    "## run this chunk to scrape hotel reviews\n",
    "## check data_scraper.py for full code of functions\n",
    "## the output csv and pkl file can be found on the home directory\n",
    "\n",
    "# pages = range(20,60)\n",
    "pages = [35]\n",
    "\n",
    "for i in pages:\n",
    "    try:\n",
    "       scrape_hotel_reviews(urls=\"scraping/data/consolidated_urls.csv\", start_index = i, end_index = i+1)\n",
    "    except Exception as ex:\n",
    "      print(ex)\n",
    "      pass"
   ]
  },
  {
   "cell_type": "code",
   "execution_count": 30,
   "metadata": {},
   "outputs": [
    {
     "name": "stdout",
     "output_type": "stream",
     "text": [
      "(50, 2)\n"
     ]
    },
    {
     "data": {
      "text/html": [
       "<div>\n",
       "<style scoped>\n",
       "    .dataframe tbody tr th:only-of-type {\n",
       "        vertical-align: middle;\n",
       "    }\n",
       "\n",
       "    .dataframe tbody tr th {\n",
       "        vertical-align: top;\n",
       "    }\n",
       "\n",
       "    .dataframe thead th {\n",
       "        text-align: right;\n",
       "    }\n",
       "</style>\n",
       "<table border=\"1\" class=\"dataframe\">\n",
       "  <thead>\n",
       "    <tr style=\"text-align: right;\">\n",
       "      <th></th>\n",
       "      <th>url</th>\n",
       "      <th>All_reviews</th>\n",
       "    </tr>\n",
       "  </thead>\n",
       "  <tbody>\n",
       "    <tr>\n",
       "      <th>0</th>\n",
       "      <td>https://www.booking.com/hotel/ph/meranti.html?...</td>\n",
       "      <td>{'From Page 1, Person- 1': {'name': 'Gene', 'r...</td>\n",
       "    </tr>\n",
       "    <tr>\n",
       "      <th>1</th>\n",
       "      <td>https://www.booking.com/hotel/ph/tryp-by-wyndh...</td>\n",
       "      <td>{'From Page 1, Person- 1': {'name': 'Easter', ...</td>\n",
       "    </tr>\n",
       "    <tr>\n",
       "      <th>2</th>\n",
       "      <td>https://www.booking.com/hotel/ph/lotus-garden....</td>\n",
       "      <td>{'From Page 1, Person- 1': {'name': 'Kfineza',...</td>\n",
       "    </tr>\n",
       "    <tr>\n",
       "      <th>3</th>\n",
       "      <td>https://www.booking.com/hotel/ph/leez-inn-maka...</td>\n",
       "      <td>{'From Page 1, Person- 1': {'name': 'Sheralyn'...</td>\n",
       "    </tr>\n",
       "    <tr>\n",
       "      <th>4</th>\n",
       "      <td>https://www.booking.com/hotel/ph/go-hotels-man...</td>\n",
       "      <td>{'From Page 1, Person- 1': {'name': 'Marion', ...</td>\n",
       "    </tr>\n",
       "  </tbody>\n",
       "</table>\n",
       "</div>"
      ],
      "text/plain": [
       "                                                 url  \\\n",
       "0  https://www.booking.com/hotel/ph/meranti.html?...   \n",
       "1  https://www.booking.com/hotel/ph/tryp-by-wyndh...   \n",
       "2  https://www.booking.com/hotel/ph/lotus-garden....   \n",
       "3  https://www.booking.com/hotel/ph/leez-inn-maka...   \n",
       "4  https://www.booking.com/hotel/ph/go-hotels-man...   \n",
       "\n",
       "                                         All_reviews  \n",
       "0  {'From Page 1, Person- 1': {'name': 'Gene', 'r...  \n",
       "1  {'From Page 1, Person- 1': {'name': 'Easter', ...  \n",
       "2  {'From Page 1, Person- 1': {'name': 'Kfineza',...  \n",
       "3  {'From Page 1, Person- 1': {'name': 'Sheralyn'...  \n",
       "4  {'From Page 1, Person- 1': {'name': 'Marion', ...  "
      ]
     },
     "execution_count": 30,
     "metadata": {},
     "output_type": "execute_result"
    }
   ],
   "source": [
    "## merge files\n",
    "file_list = glob.glob(\"reviews_*.pkl\")\n",
    "output = pd.concat([pd.read_pickle(x) for x in file_list])\n",
    "output = output.reset_index(drop=True)\n",
    "print(output.shape)\n",
    "output.head()"
   ]
  },
  {
   "cell_type": "code",
   "execution_count": 32,
   "metadata": {},
   "outputs": [],
   "source": [
    "pickle.dump(output, open('reviews_10-59.pkl', \"wb\"))"
   ]
  }
 ],
 "metadata": {
  "kernelspec": {
   "display_name": "Python 3.9.9 ('sprint4')",
   "language": "python",
   "name": "python3"
  },
  "language_info": {
   "codemirror_mode": {
    "name": "ipython",
    "version": 3
   },
   "file_extension": ".py",
   "mimetype": "text/x-python",
   "name": "python",
   "nbconvert_exporter": "python",
   "pygments_lexer": "ipython3",
   "version": "3.9.9"
  },
  "orig_nbformat": 4,
  "vscode": {
   "interpreter": {
    "hash": "05b38870f0c95c9fd5c4a8877bf420dd445c545257be0d0ac610353382cd8499"
   }
  }
 },
 "nbformat": 4,
 "nbformat_minor": 2
}
