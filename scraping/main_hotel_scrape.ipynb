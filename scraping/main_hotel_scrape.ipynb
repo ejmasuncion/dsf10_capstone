{
 "cells": [
  {
   "cell_type": "code",
   "execution_count": 2,
   "metadata": {},
   "outputs": [],
   "source": [
    "from scraping.data_scraper import *\n",
    "import time"
   ]
  },
  {
   "cell_type": "code",
   "execution_count": 4,
   "metadata": {},
   "outputs": [
    {
     "name": "stderr",
     "output_type": "stream",
     "text": [
      "0it [00:00, ?it/s]"
     ]
    },
    {
     "name": "stdout",
     "output_type": "stream",
     "text": [
      "\n",
      "\n",
      "Opening link- 0 https://www.booking.com/hotel/ph/reddoorz-near-osmena-highway.html?label=gen173nr-1FCAEoggI46AdIM1gEaLQBiAEBmAEJuAEXyAEM2AEB6AEB-AELiAIBqAIDuALa9-ebBsACAdICJDNiMWUxMTlhLTc3ODEtNGI3NC05MWVlLTQ5MDA0MDQzYzY5NNgCBuACAQ&sid=b3a20c12be6b3d4d9b1b0a71b11d8898&aid=304142&ucfs=1&arphpl=1&checkin=2022-12-01&checkout=2022-12-02&dest_id=-2437894&dest_type=city&group_adults=2&req_adults=2&no_rooms=1&group_children=0&req_children=0&hpos=1&hapos=201&sr_order=popularity&nflt=ht_id%3D204&srpvid=7ca3572c9035002e&srepoch=1669119883&all_sr_blocks=305974503_0_2_0_0&highlighted_blocks=305974503_0_2_0_0&matching_block_id=305974503_0_2_0_0&sr_pri_blocks=305974503_0_2_0_0__1588&tpi_r=1&from=searchresults#hotelTmpl\n",
      "Done Exporting Data\n",
      "Closed Driver\n"
     ]
    },
    {
     "name": "stderr",
     "output_type": "stream",
     "text": [
      "1it [00:34, 34.80s/it]"
     ]
    },
    {
     "name": "stdout",
     "output_type": "stream",
     "text": [
      "7 7\n",
      "surroundings qc\n",
      "33 33\n",
      "facilities qc\n",
      "10 9\n",
      " \n",
      "\n",
      "\n",
      "\n",
      "\n",
      "Opening link- 1 https://www.booking.com/hotel/ph/oyo-416-lucky.html?label=gen173nr-1FCAEoggI46AdIM1gEaLQBiAEBmAEJuAEXyAEM2AEB6AEB-AELiAIBqAIDuALa9-ebBsACAdICJDNiMWUxMTlhLTc3ODEtNGI3NC05MWVlLTQ5MDA0MDQzYzY5NNgCBuACAQ&sid=b3a20c12be6b3d4d9b1b0a71b11d8898&aid=304142&ucfs=1&arphpl=1&checkin=2022-12-01&checkout=2022-12-02&dest_id=-2437894&dest_type=city&group_adults=2&req_adults=2&no_rooms=1&group_children=0&req_children=0&hpos=2&hapos=202&sr_order=popularity&nflt=ht_id%3D204&srpvid=7ca3572c9035002e&srepoch=1669119883&all_sr_blocks=570753504_0_2_0_0&highlighted_blocks=570753504_0_2_0_0&matching_block_id=570753504_0_2_0_0&sr_pri_blocks=570753504_0_2_0_0__1582&tpi_r=1&from=searchresults#hotelTmpl\n",
      "Done Exporting Data\n",
      "Closed Driver\n"
     ]
    },
    {
     "name": "stderr",
     "output_type": "stream",
     "text": [
      "2it [01:19, 40.84s/it]"
     ]
    },
    {
     "name": "stdout",
     "output_type": "stream",
     "text": [
      "7 7\n",
      "surroundings qc\n",
      "30 30\n",
      "facilities qc\n",
      "6 5\n",
      " \n",
      "\n",
      "\n",
      "\n",
      "\n",
      "Opening link- 2 https://www.booking.com/hotel/ph/oyo-862-jqv.html?label=gen173nr-1FCAEoggI46AdIM1gEaLQBiAEBmAEJuAEXyAEM2AEB6AEB-AELiAIBqAIDuALa9-ebBsACAdICJDNiMWUxMTlhLTc3ODEtNGI3NC05MWVlLTQ5MDA0MDQzYzY5NNgCBuACAQ&sid=b3a20c12be6b3d4d9b1b0a71b11d8898&aid=304142&ucfs=1&arphpl=1&checkin=2022-12-01&checkout=2022-12-02&dest_id=-2437894&dest_type=city&group_adults=2&req_adults=2&no_rooms=1&group_children=0&req_children=0&hpos=3&hapos=203&sr_order=popularity&nflt=ht_id%3D204&srpvid=7ca3572c9035002e&srepoch=1669119883&all_sr_blocks=835866402_349422105_2_0_0&highlighted_blocks=835866402_349422105_2_0_0&matching_block_id=835866402_349422105_2_0_0&sr_pri_blocks=835866402_349422105_2_0_0__78747&tpi_r=2&from=searchresults#hotelTmpl\n",
      "Done Exporting Data\n",
      "Closed Driver\n"
     ]
    },
    {
     "name": "stderr",
     "output_type": "stream",
     "text": [
      "3it [02:03, 41.97s/it]"
     ]
    },
    {
     "name": "stdout",
     "output_type": "stream",
     "text": [
      "7 7\n",
      "surroundings qc\n",
      "24 24\n",
      "facilities qc\n",
      "10 10\n",
      " \n",
      "\n",
      "\n",
      "\n",
      "\n",
      "Opening link- 3 https://www.booking.com/hotel/ph/reddoorz-near-pnr-espana-manila.html?label=gen173nr-1FCAEoggI46AdIM1gEaLQBiAEBmAEJuAEXyAEM2AEB6AEB-AELiAIBqAIDuALa9-ebBsACAdICJDNiMWUxMTlhLTc3ODEtNGI3NC05MWVlLTQ5MDA0MDQzYzY5NNgCBuACAQ&sid=b3a20c12be6b3d4d9b1b0a71b11d8898&aid=304142&ucfs=1&arphpl=1&checkin=2022-12-01&checkout=2022-12-02&dest_id=-2437894&dest_type=city&group_adults=2&req_adults=2&no_rooms=1&group_children=0&req_children=0&hpos=4&hapos=204&sr_order=popularity&nflt=ht_id%3D204&srpvid=7ca3572c9035002e&srepoch=1669119883&all_sr_blocks=556997201_0_2_0_0&highlighted_blocks=556997201_0_2_0_0&matching_block_id=556997201_0_2_0_0&sr_pri_blocks=556997201_0_2_0_0__1239&tpi_r=1&from=searchresults#hotelTmpl\n",
      "Done Exporting Data\n",
      "Closed Driver\n"
     ]
    },
    {
     "name": "stderr",
     "output_type": "stream",
     "text": [
      "4it [02:49, 43.72s/it]"
     ]
    },
    {
     "name": "stdout",
     "output_type": "stream",
     "text": [
      "7 7\n",
      "surroundings qc\n",
      "35 35\n",
      "facilities qc\n",
      "8 7\n",
      " \n",
      "\n",
      "\n",
      "\n",
      "\n",
      "Opening link- 4 https://www.booking.com/hotel/ph/finnex-dormitory.html?label=gen173nr-1FCAEoggI46AdIM1gEaLQBiAEBmAEJuAEXyAEM2AEB6AEB-AELiAIBqAIDuALa9-ebBsACAdICJDNiMWUxMTlhLTc3ODEtNGI3NC05MWVlLTQ5MDA0MDQzYzY5NNgCBuACAQ&sid=b3a20c12be6b3d4d9b1b0a71b11d8898&aid=304142&ucfs=1&arphpl=1&checkin=2022-12-01&checkout=2022-12-02&dest_id=-2437894&dest_type=city&group_adults=2&req_adults=2&no_rooms=1&group_children=0&req_children=0&hpos=5&hapos=205&sr_order=popularity&nflt=ht_id%3D204&srpvid=7ca3572c9035002e&srepoch=1669119883&all_sr_blocks=625200905_357533944_2_0_0&highlighted_blocks=625200905_357533944_2_0_0&matching_block_id=625200905_357533944_2_0_0&sr_pri_blocks=625200905_357533944_2_0_0__95416&tpi_r=2&from=searchresults#hotelTmpl\n",
      "Done Exporting Data\n",
      "Closed Driver\n"
     ]
    },
    {
     "name": "stderr",
     "output_type": "stream",
     "text": [
      "5it [03:35, 44.42s/it]"
     ]
    },
    {
     "name": "stdout",
     "output_type": "stream",
     "text": [
      "7 7\n",
      "surroundings qc\n",
      "35 35\n",
      "facilities qc\n",
      "9 8\n",
      " \n",
      "\n",
      "\n",
      "\n",
      "\n",
      "Opening link- 5 https://www.booking.com/hotel/ph/reddoorz-grand-lodge-of-free-and-accepted-masons.html?label=gen173nr-1FCAEoggI46AdIM1gEaLQBiAEBmAEJuAEXyAEM2AEB6AEB-AELiAIBqAIDuALa9-ebBsACAdICJDNiMWUxMTlhLTc3ODEtNGI3NC05MWVlLTQ5MDA0MDQzYzY5NNgCBuACAQ&sid=b3a20c12be6b3d4d9b1b0a71b11d8898&aid=304142&ucfs=1&arphpl=1&checkin=2022-12-01&checkout=2022-12-02&dest_id=-2437894&dest_type=city&group_adults=2&req_adults=2&no_rooms=1&group_children=0&req_children=0&hpos=6&hapos=206&sr_order=popularity&nflt=ht_id%3D204&srpvid=7ca3572c9035002e&srepoch=1669119883&all_sr_blocks=568893101_0_2_0_0&highlighted_blocks=568893101_0_2_0_0&matching_block_id=568893101_0_2_0_0&sr_pri_blocks=568893101_0_2_0_0__1873&tpi_r=1&from=searchresults#hotelTmpl\n",
      "Done Exporting Data\n",
      "Closed Driver\n"
     ]
    },
    {
     "name": "stderr",
     "output_type": "stream",
     "text": [
      "6it [04:20, 44.77s/it]"
     ]
    },
    {
     "name": "stdout",
     "output_type": "stream",
     "text": [
      "7 7\n",
      "surroundings qc\n",
      "34 34\n",
      "facilities qc\n",
      "9 8\n",
      " \n",
      "\n",
      "\n",
      "\n",
      "\n",
      "Opening link- 6 https://www.booking.com/hotel/ph/oyo-563-mytown-new-york.html?label=gen173nr-1FCAEoggI46AdIM1gEaLQBiAEBmAEJuAEXyAEM2AEB6AEB-AELiAIBqAIDuALa9-ebBsACAdICJDNiMWUxMTlhLTc3ODEtNGI3NC05MWVlLTQ5MDA0MDQzYzY5NNgCBuACAQ&sid=b3a20c12be6b3d4d9b1b0a71b11d8898&aid=304142&ucfs=1&arphpl=1&checkin=2022-12-01&checkout=2022-12-02&dest_id=-2437894&dest_type=city&group_adults=2&req_adults=2&no_rooms=1&group_children=0&req_children=0&hpos=7&hapos=207&sr_order=popularity&nflt=ht_id%3D204&srpvid=7ca3572c9035002e&srepoch=1669119883&all_sr_blocks=0_0_2_0_0&highlighted_blocks=0_0_2_0_0&matching_block_id=0_0_2_0_0&sr_pri_blocks=0_0_2_0_0__1435&tpi_r=1&from=searchresults#hotelTmpl\n",
      "Done Exporting Data\n",
      "Closed Driver\n"
     ]
    },
    {
     "name": "stderr",
     "output_type": "stream",
     "text": [
      "7it [04:47, 38.90s/it]"
     ]
    },
    {
     "name": "stdout",
     "output_type": "stream",
     "text": [
      "7 7\n",
      "surroundings qc\n",
      "35 35\n",
      "facilities qc\n",
      "9 8\n",
      " \n",
      "\n",
      "\n",
      "\n",
      "\n",
      "Opening link- 7 https://www.booking.com/hotel/ph/amelie-manila.html?label=gen173nr-1FCAEoggI46AdIM1gEaLQBiAEBmAEJuAEXyAEM2AEB6AEB-AELiAIBqAIDuALa9-ebBsACAdICJDNiMWUxMTlhLTc3ODEtNGI3NC05MWVlLTQ5MDA0MDQzYzY5NNgCBuACAQ&sid=b3a20c12be6b3d4d9b1b0a71b11d8898&aid=304142&ucfs=1&arphpl=1&checkin=2022-12-01&checkout=2022-12-02&dest_id=-2437894&dest_type=city&group_adults=2&req_adults=2&no_rooms=1&group_children=0&req_children=0&hpos=8&hapos=208&sr_order=popularity&nflt=ht_id%3D204&srpvid=7ca3572c9035002e&srepoch=1669119883&all_sr_blocks=117886901_0_2_0_0&highlighted_blocks=117886901_0_2_0_0&matching_block_id=117886901_0_2_0_0&sr_pri_blocks=117886901_0_2_0_0__6346&tpi_r=1&from=searchresults#hotelTmpl\n",
      "Done Exporting Data\n",
      "Closed Driver\n"
     ]
    },
    {
     "name": "stderr",
     "output_type": "stream",
     "text": [
      "8it [05:35, 41.74s/it]"
     ]
    },
    {
     "name": "stdout",
     "output_type": "stream",
     "text": [
      "7 7\n",
      "surroundings qc\n",
      "33 33\n",
      "facilities qc\n",
      "17 16\n",
      " \n",
      "\n",
      "\n",
      "\n",
      "\n",
      "Opening link- 8 https://www.booking.com/hotel/ph/guijo-suites-makati.html?label=gen173nr-1FCAEoggI46AdIM1gEaLQBiAEBmAEJuAEXyAEM2AEB6AEB-AELiAIBqAIDuALa9-ebBsACAdICJDNiMWUxMTlhLTc3ODEtNGI3NC05MWVlLTQ5MDA0MDQzYzY5NNgCBuACAQ&sid=b3a20c12be6b3d4d9b1b0a71b11d8898&aid=304142&ucfs=1&arphpl=1&checkin=2022-12-01&checkout=2022-12-02&dest_id=-2437894&dest_type=city&group_adults=2&req_adults=2&no_rooms=1&group_children=0&req_children=0&hpos=9&hapos=209&sr_order=popularity&nflt=ht_id%3D204&srpvid=7ca3572c9035002e&srepoch=1669119883&all_sr_blocks=34081301_357564301_0_0_0&highlighted_blocks=34081301_357564301_0_0_0&matching_block_id=34081301_357564301_0_0_0&sr_pri_blocks=34081301_357564301_0_0_0__154693&tpi_r=2&from_sustainable_property_sr=1&from=searchresults#hotelTmpl\n",
      "Done Exporting Data\n",
      "Closed Driver\n"
     ]
    },
    {
     "name": "stderr",
     "output_type": "stream",
     "text": [
      "9it [06:20, 42.79s/it]"
     ]
    },
    {
     "name": "stdout",
     "output_type": "stream",
     "text": [
      "7 7\n",
      "surroundings qc\n",
      "31 31\n",
      "facilities qc\n",
      "7 6\n",
      " \n",
      "\n",
      "\n",
      "\n",
      "\n",
      "Opening link- 9 https://www.booking.com/hotel/ph/sun-star-grand.html?label=gen173nr-1FCAEoggI46AdIM1gEaLQBiAEBmAEJuAEXyAEM2AEB6AEB-AELiAIBqAIDuALa9-ebBsACAdICJDNiMWUxMTlhLTc3ODEtNGI3NC05MWVlLTQ5MDA0MDQzYzY5NNgCBuACAQ&sid=b3a20c12be6b3d4d9b1b0a71b11d8898&aid=304142&ucfs=1&arphpl=1&checkin=2022-12-01&checkout=2022-12-02&dest_id=-2437894&dest_type=city&group_adults=2&req_adults=2&no_rooms=1&group_children=0&req_children=0&hpos=10&hapos=210&sr_order=popularity&nflt=ht_id%3D204&srpvid=7ca3572c9035002e&srepoch=1669119883&all_sr_blocks=157968801_0_2_0_0&highlighted_blocks=157968801_0_2_0_0&matching_block_id=157968801_0_2_0_0&sr_pri_blocks=157968801_0_2_0_0__2314&tpi_r=1&from=searchresults#hotelTmpl\n",
      "Done Exporting Data\n",
      "Closed Driver\n"
     ]
    },
    {
     "name": "stderr",
     "output_type": "stream",
     "text": [
      "10it [07:07, 44.20s/it]"
     ]
    },
    {
     "name": "stdout",
     "output_type": "stream",
     "text": [
      "7 7\n",
      "surroundings qc\n",
      "35 35\n",
      "facilities qc\n",
      "12 11\n",
      " \n",
      "\n",
      "\n",
      "\n",
      "\n",
      "Opening link- 10 https://www.booking.com/hotel/ph/crown-regency-makati.html?label=gen173nr-1FCAEoggI46AdIM1gEaLQBiAEBmAEJuAEXyAEM2AEB6AEB-AELiAIBqAIDuALa9-ebBsACAdICJDNiMWUxMTlhLTc3ODEtNGI3NC05MWVlLTQ5MDA0MDQzYzY5NNgCBuACAQ&sid=b3a20c12be6b3d4d9b1b0a71b11d8898&aid=304142&ucfs=1&arphpl=1&checkin=2022-12-01&checkout=2022-12-02&dest_id=-2437894&dest_type=city&group_adults=2&req_adults=2&no_rooms=1&group_children=0&req_children=0&hpos=11&hapos=211&sr_order=popularity&nflt=ht_id%3D204&srpvid=7ca3572c9035002e&srepoch=1669119883&all_sr_blocks=24150601_332795296_0_2_0&highlighted_blocks=24150601_332795296_0_2_0&matching_block_id=24150601_332795296_0_2_0&sr_pri_blocks=24150601_332795296_0_2_0__292188&tpi_r=2&from=searchresults#hotelTmpl\n",
      "Done Exporting Data\n",
      "Closed Driver\n"
     ]
    },
    {
     "name": "stderr",
     "output_type": "stream",
     "text": [
      "11it [07:54, 44.90s/it]"
     ]
    },
    {
     "name": "stdout",
     "output_type": "stream",
     "text": [
      "7 7\n",
      "surroundings qc\n",
      "34 34\n",
      "facilities qc\n",
      "17 17\n",
      " \n",
      "\n",
      "\n",
      "\n",
      "\n",
      "Opening link- 11 https://www.booking.com/hotel/ph/dela-chambre.html?label=gen173nr-1FCAEoggI46AdIM1gEaLQBiAEBmAEJuAEXyAEM2AEB6AEB-AELiAIBqAIDuALa9-ebBsACAdICJDNiMWUxMTlhLTc3ODEtNGI3NC05MWVlLTQ5MDA0MDQzYzY5NNgCBuACAQ&sid=b3a20c12be6b3d4d9b1b0a71b11d8898&aid=304142&ucfs=1&arphpl=1&checkin=2022-12-01&checkout=2022-12-02&dest_id=-2437894&dest_type=city&group_adults=2&req_adults=2&no_rooms=1&group_children=0&req_children=0&hpos=12&hapos=212&sr_order=popularity&nflt=ht_id%3D204&srpvid=7ca3572c9035002e&srepoch=1669119883&all_sr_blocks=65306401_348245057_0_1_0&highlighted_blocks=65306401_348245057_0_1_0&matching_block_id=65306401_348245057_0_1_0&sr_pri_blocks=65306401_348245057_0_1_0__247500&tpi_r=2&from=searchresults#hotelTmpl\n",
      "Done Exporting Data\n",
      "Closed Driver\n"
     ]
    },
    {
     "name": "stderr",
     "output_type": "stream",
     "text": [
      "12it [08:42, 45.97s/it]"
     ]
    },
    {
     "name": "stdout",
     "output_type": "stream",
     "text": [
      "7 7\n",
      "surroundings qc\n",
      "34 34\n",
      "facilities qc\n",
      "17 16\n",
      " \n",
      "\n",
      "\n",
      "\n",
      "\n",
      "Opening link- 12 https://www.booking.com/hotel/ph/reddoorz-near-quirino-station-manila1.html?label=gen173nr-1FCAEoggI46AdIM1gEaLQBiAEBmAEJuAEXyAEM2AEB6AEB-AELiAIBqAIDuALa9-ebBsACAdICJDNiMWUxMTlhLTc3ODEtNGI3NC05MWVlLTQ5MDA0MDQzYzY5NNgCBuACAQ&sid=b3a20c12be6b3d4d9b1b0a71b11d8898&aid=304142&ucfs=1&arphpl=1&checkin=2022-12-01&checkout=2022-12-02&dest_id=-2437894&dest_type=city&group_adults=2&req_adults=2&no_rooms=1&group_children=0&req_children=0&hpos=13&hapos=213&sr_order=popularity&nflt=ht_id%3D204&srpvid=7ca3572c9035002e&srepoch=1669119883&all_sr_blocks=358709101_0_2_0_0&highlighted_blocks=358709101_0_2_0_0&matching_block_id=358709101_0_2_0_0&sr_pri_blocks=358709101_0_2_0_0__1505&tpi_r=1&from=searchresults#hotelTmpl\n",
      "Done Exporting Data\n",
      "Closed Driver\n"
     ]
    },
    {
     "name": "stderr",
     "output_type": "stream",
     "text": [
      "13it [09:27, 45.52s/it]"
     ]
    },
    {
     "name": "stdout",
     "output_type": "stream",
     "text": [
      "7 7\n",
      "surroundings qc\n",
      "33 33\n",
      "facilities qc\n",
      "9 8\n",
      " \n",
      "\n",
      "\n",
      "\n",
      "\n",
      "Opening link- 13 https://www.booking.com/hotel/ph/pearl-manila.html?label=gen173nr-1FCAEoggI46AdIM1gEaLQBiAEBmAEJuAEXyAEM2AEB6AEB-AELiAIBqAIDuALa9-ebBsACAdICJDNiMWUxMTlhLTc3ODEtNGI3NC05MWVlLTQ5MDA0MDQzYzY5NNgCBuACAQ&sid=b3a20c12be6b3d4d9b1b0a71b11d8898&aid=304142&ucfs=1&arphpl=1&checkin=2022-12-01&checkout=2022-12-02&dest_id=-2437894&dest_type=city&group_adults=2&req_adults=2&no_rooms=1&group_children=0&req_children=0&hpos=14&hapos=214&sr_order=popularity&nflt=ht_id%3D204&srpvid=7ca3572c9035002e&srepoch=1669119883&all_sr_blocks=108093304_202119848_2_0_0&highlighted_blocks=108093304_202119848_2_0_0&matching_block_id=108093304_202119848_2_0_0&sr_pri_blocks=108093304_202119848_2_0_0__186021&tpi_r=2&from=searchresults#hotelTmpl\n",
      "Done Exporting Data\n",
      "Closed Driver\n"
     ]
    },
    {
     "name": "stderr",
     "output_type": "stream",
     "text": [
      "14it [10:19, 47.66s/it]"
     ]
    },
    {
     "name": "stdout",
     "output_type": "stream",
     "text": [
      "7 7\n",
      "surroundings qc\n",
      "29 29\n",
      "facilities qc\n",
      "16 16\n",
      " \n",
      "\n",
      "\n",
      "\n",
      "\n",
      "Opening link- 14 https://www.booking.com/hotel/ph/the-at-greensun.html?label=gen173nr-1FCAEoggI46AdIM1gEaLQBiAEBmAEJuAEXyAEM2AEB6AEB-AELiAIBqAIDuALa9-ebBsACAdICJDNiMWUxMTlhLTc3ODEtNGI3NC05MWVlLTQ5MDA0MDQzYzY5NNgCBuACAQ&sid=b3a20c12be6b3d4d9b1b0a71b11d8898&aid=304142&ucfs=1&arphpl=1&checkin=2022-12-01&checkout=2022-12-02&dest_id=-2437894&dest_type=city&group_adults=2&req_adults=2&no_rooms=1&group_children=0&req_children=0&hpos=15&hapos=215&sr_order=popularity&nflt=ht_id%3D204&srpvid=7ca3572c9035002e&srepoch=1669119883&all_sr_blocks=120254701_0_2_0_0&highlighted_blocks=120254701_0_2_0_0&matching_block_id=120254701_0_2_0_0&sr_pri_blocks=120254701_0_2_0_0__3297&tpi_r=1&from=searchresults#hotelTmpl\n",
      "Done Exporting Data\n",
      "Closed Driver\n"
     ]
    },
    {
     "name": "stderr",
     "output_type": "stream",
     "text": [
      "15it [11:05, 46.96s/it]"
     ]
    },
    {
     "name": "stdout",
     "output_type": "stream",
     "text": [
      "7 7\n",
      "surroundings qc\n",
      "32 32\n",
      "facilities qc\n",
      "13 13\n",
      " \n",
      "\n",
      "\n",
      "\n",
      "\n",
      "Opening link- 15 https://www.booking.com/hotel/ph/reddoorz-premium-alpina-heights-condominium.html?label=gen173nr-1FCAEoggI46AdIM1gEaLQBiAEBmAEJuAEXyAEM2AEB6AEB-AELiAIBqAIDuALa9-ebBsACAdICJDNiMWUxMTlhLTc3ODEtNGI3NC05MWVlLTQ5MDA0MDQzYzY5NNgCBuACAQ&sid=b3a20c12be6b3d4d9b1b0a71b11d8898&aid=304142&ucfs=1&arphpl=1&checkin=2022-12-01&checkout=2022-12-02&dest_id=-2437894&dest_type=city&group_adults=2&req_adults=2&no_rooms=1&group_children=0&req_children=0&hpos=16&hapos=216&sr_order=popularity&nflt=ht_id%3D204&srpvid=7ca3572c9035002e&srepoch=1669119883&all_sr_blocks=705105501_0_2_0_0&highlighted_blocks=705105501_0_2_0_0&matching_block_id=705105501_0_2_0_0&sr_pri_blocks=705105501_0_2_0_0__1205&tpi_r=1&from=searchresults#hotelTmpl\n",
      "Done Exporting Data\n",
      "Closed Driver\n"
     ]
    },
    {
     "name": "stderr",
     "output_type": "stream",
     "text": [
      "16it [12:32, 59.15s/it]"
     ]
    },
    {
     "name": "stdout",
     "output_type": "stream",
     "text": [
      "7 7\n",
      "surroundings qc\n",
      "33 33\n",
      "facilities qc\n",
      "9 8\n",
      " \n",
      "\n",
      "\n",
      "\n",
      "\n",
      "Opening link- 16 https://www.booking.com/hotel/ph/gilmore-tower-suites-by-sms-hospitality.html?label=gen173nr-1FCAEoggI46AdIM1gEaLQBiAEBmAEJuAEXyAEM2AEB6AEB-AELiAIBqAIDuALa9-ebBsACAdICJDNiMWUxMTlhLTc3ODEtNGI3NC05MWVlLTQ5MDA0MDQzYzY5NNgCBuACAQ&sid=b3a20c12be6b3d4d9b1b0a71b11d8898&aid=304142&ucfs=1&arphpl=1&checkin=2022-12-01&checkout=2022-12-02&dest_id=-2437894&dest_type=city&group_adults=2&req_adults=2&no_rooms=1&group_children=0&req_children=0&hpos=17&hapos=217&sr_order=popularity&nflt=ht_id%3D204&srpvid=7ca3572c9035002e&srepoch=1669119883&all_sr_blocks=754329101_0_2_0_0&highlighted_blocks=754329101_0_2_0_0&matching_block_id=754329101_0_2_0_0&sr_pri_blocks=754329101_0_2_0_0__2521&tpi_r=1&from=searchresults#hotelTmpl\n",
      "Done Exporting Data\n",
      "Closed Driver\n"
     ]
    },
    {
     "name": "stderr",
     "output_type": "stream",
     "text": [
      "17it [13:44, 62.94s/it]"
     ]
    },
    {
     "name": "stdout",
     "output_type": "stream",
     "text": [
      "7 7\n",
      "surroundings qc\n",
      "35 35\n",
      "facilities qc\n",
      "17 16\n",
      " \n",
      "\n",
      "\n",
      "\n",
      "\n",
      "Opening link- 17 https://www.booking.com/hotel/ph/reddoorz-plus-boni-ave-mandaluyong.html?label=gen173nr-1FCAEoggI46AdIM1gEaLQBiAEBmAEJuAEXyAEM2AEB6AEB-AELiAIBqAIDuALa9-ebBsACAdICJDNiMWUxMTlhLTc3ODEtNGI3NC05MWVlLTQ5MDA0MDQzYzY5NNgCBuACAQ&sid=b3a20c12be6b3d4d9b1b0a71b11d8898&aid=304142&ucfs=1&arphpl=1&checkin=2022-12-01&checkout=2022-12-02&dest_id=-2437894&dest_type=city&group_adults=2&req_adults=2&no_rooms=1&group_children=0&req_children=0&hpos=18&hapos=218&sr_order=popularity&nflt=ht_id%3D204&srpvid=7ca3572c9035002e&srepoch=1669119883&all_sr_blocks=332704401_0_2_0_0&highlighted_blocks=332704401_0_2_0_0&matching_block_id=332704401_0_2_0_0&sr_pri_blocks=332704401_0_2_0_0__1471&tpi_r=1&from=searchresults#hotelTmpl\n",
      "Done Exporting Data\n",
      "Closed Driver\n"
     ]
    },
    {
     "name": "stderr",
     "output_type": "stream",
     "text": [
      "18it [14:29, 57.60s/it]"
     ]
    },
    {
     "name": "stdout",
     "output_type": "stream",
     "text": [
      "7 7\n",
      "surroundings qc\n",
      "35 35\n",
      "facilities qc\n",
      "8 7\n",
      " \n",
      "\n",
      "\n",
      "\n",
      "\n",
      "Opening link- 18 https://www.booking.com/hotel/ph/reddoorz-near-c45-kalayaan-avenue-makati.html?label=gen173nr-1FCAEoggI46AdIM1gEaLQBiAEBmAEJuAEXyAEM2AEB6AEB-AELiAIBqAIDuALa9-ebBsACAdICJDNiMWUxMTlhLTc3ODEtNGI3NC05MWVlLTQ5MDA0MDQzYzY5NNgCBuACAQ&sid=b3a20c12be6b3d4d9b1b0a71b11d8898&aid=304142&ucfs=1&arphpl=1&checkin=2022-12-01&checkout=2022-12-02&dest_id=-2437894&dest_type=city&group_adults=2&req_adults=2&no_rooms=1&group_children=0&req_children=0&hpos=19&hapos=219&sr_order=popularity&nflt=ht_id%3D204&srpvid=7ca3572c9035002e&srepoch=1669119883&all_sr_blocks=547945901_0_2_0_0&highlighted_blocks=547945901_0_2_0_0&matching_block_id=547945901_0_2_0_0&sr_pri_blocks=547945901_0_2_0_0__1355&tpi_r=1&from=searchresults#hotelTmpl\n",
      "Done Exporting Data\n",
      "Closed Driver\n"
     ]
    },
    {
     "name": "stderr",
     "output_type": "stream",
     "text": [
      "19it [15:12, 53.31s/it]"
     ]
    },
    {
     "name": "stdout",
     "output_type": "stream",
     "text": [
      "7 7\n",
      "surroundings qc\n",
      "35 35\n",
      "facilities qc\n",
      "8 7\n",
      " \n",
      "\n",
      "\n",
      "\n",
      "\n",
      "Opening link- 19 https://www.booking.com/hotel/ph/sequoia-manila-bay.html?label=gen173nr-1FCAEoggI46AdIM1gEaLQBiAEBmAEJuAEXyAEM2AEB6AEB-AELiAIBqAIDuALa9-ebBsACAdICJDNiMWUxMTlhLTc3ODEtNGI3NC05MWVlLTQ5MDA0MDQzYzY5NNgCBuACAQ&sid=b3a20c12be6b3d4d9b1b0a71b11d8898&aid=304142&ucfs=1&arphpl=1&checkin=2022-12-01&checkout=2022-12-02&dest_id=-2437894&dest_type=city&group_adults=2&req_adults=2&no_rooms=1&group_children=0&req_children=0&hpos=20&hapos=220&sr_order=popularity&nflt=ht_id%3D204&srpvid=7ca3572c9035002e&srepoch=1669119883&all_sr_blocks=619640001_0_2_0_0&highlighted_blocks=619640001_0_2_0_0&matching_block_id=619640001_0_2_0_0&sr_pri_blocks=619640001_0_2_0_0__4761&tpi_r=1&from_sustainable_property_sr=1&from=searchresults#hotelTmpl\n",
      "Done Exporting Data\n",
      "Closed Driver\n"
     ]
    },
    {
     "name": "stderr",
     "output_type": "stream",
     "text": [
      "20it [16:02, 52.33s/it]"
     ]
    },
    {
     "name": "stdout",
     "output_type": "stream",
     "text": [
      "7 7\n",
      "surroundings qc\n",
      "35 35\n",
      "facilities qc\n",
      "16 16\n",
      " \n",
      "\n",
      "\n",
      "\n",
      "\n",
      "Opening link- 20 https://www.booking.com/hotel/ph/oyo-794-regatta-residences.html?label=gen173nr-1FCAEoggI46AdIM1gEaLQBiAEBmAEJuAEXyAEM2AEB6AEB-AELiAIBqAIDuALa9-ebBsACAdICJDNiMWUxMTlhLTc3ODEtNGI3NC05MWVlLTQ5MDA0MDQzYzY5NNgCBuACAQ&sid=b3a20c12be6b3d4d9b1b0a71b11d8898&aid=304142&ucfs=1&arphpl=1&checkin=2022-12-01&checkout=2022-12-02&dest_id=-2437894&dest_type=city&group_adults=2&req_adults=2&no_rooms=1&group_children=0&req_children=0&hpos=21&hapos=221&sr_order=popularity&nflt=ht_id%3D204&srpvid=7ca3572c9035002e&srepoch=1669119883&all_sr_blocks=737800403_344107198_2_0_0&highlighted_blocks=737800403_344107198_2_0_0&matching_block_id=737800403_344107198_2_0_0&sr_pri_blocks=737800403_344107198_2_0_0__88208&tpi_r=2&from=searchresults#hotelTmpl\n",
      "Done Exporting Data\n",
      "Closed Driver\n"
     ]
    },
    {
     "name": "stderr",
     "output_type": "stream",
     "text": [
      "21it [16:46, 49.68s/it]"
     ]
    },
    {
     "name": "stdout",
     "output_type": "stream",
     "text": [
      "7 7\n",
      "surroundings qc\n",
      "35 35\n",
      "facilities qc\n",
      "6 5\n",
      " \n",
      "\n",
      "\n",
      "\n",
      "\n",
      "Opening link- 21 https://www.booking.com/hotel/ph/zen-rooms-golden-panda-qc.html?label=gen173nr-1FCAEoggI46AdIM1gEaLQBiAEBmAEJuAEXyAEM2AEB6AEB-AELiAIBqAIDuALa9-ebBsACAdICJDNiMWUxMTlhLTc3ODEtNGI3NC05MWVlLTQ5MDA0MDQzYzY5NNgCBuACAQ&sid=b3a20c12be6b3d4d9b1b0a71b11d8898&aid=304142&ucfs=1&arphpl=1&checkin=2022-12-01&checkout=2022-12-02&dest_id=-2437894&dest_type=city&group_adults=2&req_adults=2&no_rooms=1&group_children=0&req_children=0&hpos=22&hapos=222&sr_order=popularity&nflt=ht_id%3D204&srpvid=7ca3572c9035002e&srepoch=1669119883&all_sr_blocks=430046909_310855824_0_0_0&highlighted_blocks=430046909_310855824_0_0_0&matching_block_id=430046909_310855824_0_0_0&sr_pri_blocks=430046909_310855824_0_0_0__99180&tpi_r=2&from_sustainable_property_sr=1&from=searchresults#hotelTmpl\n",
      "Done Exporting Data\n",
      "Closed Driver\n"
     ]
    },
    {
     "name": "stderr",
     "output_type": "stream",
     "text": [
      "22it [17:32, 48.74s/it]"
     ]
    },
    {
     "name": "stdout",
     "output_type": "stream",
     "text": [
      "7 7\n",
      "surroundings qc\n",
      "35 35\n",
      "facilities qc\n",
      "7 6\n",
      " \n",
      "\n",
      "\n",
      "\n",
      "\n",
      "Opening link- 22 https://www.booking.com/hotel/ph/white-knight-intramuros.html?label=gen173nr-1FCAEoggI46AdIM1gEaLQBiAEBmAEJuAEXyAEM2AEB6AEB-AELiAIBqAIDuALa9-ebBsACAdICJDNiMWUxMTlhLTc3ODEtNGI3NC05MWVlLTQ5MDA0MDQzYzY5NNgCBuACAQ&sid=b3a20c12be6b3d4d9b1b0a71b11d8898&aid=304142&ucfs=1&arphpl=1&checkin=2022-12-01&checkout=2022-12-02&dest_id=-2437894&dest_type=city&group_adults=2&req_adults=2&no_rooms=1&group_children=0&req_children=0&hpos=23&hapos=223&sr_order=popularity&nflt=ht_id%3D204&srpvid=7ca3572c9035002e&srepoch=1669119883&all_sr_blocks=28811501_0_2_0_0&highlighted_blocks=28811501_0_2_0_0&matching_block_id=28811501_0_2_0_0&sr_pri_blocks=28811501_0_2_0_0__3991&tpi_r=1&from_sustainable_property_sr=1&from=searchresults#hotelTmpl\n",
      "Done Exporting Data\n",
      "Closed Driver\n"
     ]
    },
    {
     "name": "stderr",
     "output_type": "stream",
     "text": [
      "23it [18:21, 48.66s/it]"
     ]
    },
    {
     "name": "stdout",
     "output_type": "stream",
     "text": [
      "7 7\n",
      "surroundings qc\n",
      "33 33\n",
      "facilities qc\n",
      "10 9\n",
      " \n",
      "\n",
      "\n",
      "\n",
      "\n",
      "Opening link- 23 https://www.booking.com/hotel/ph/lucky-chinatown.html?label=gen173nr-1FCAEoggI46AdIM1gEaLQBiAEBmAEJuAEXyAEM2AEB6AEB-AELiAIBqAIDuALa9-ebBsACAdICJDNiMWUxMTlhLTc3ODEtNGI3NC05MWVlLTQ5MDA0MDQzYzY5NNgCBuACAQ&sid=b3a20c12be6b3d4d9b1b0a71b11d8898&aid=304142&ucfs=1&arphpl=1&checkin=2022-12-01&checkout=2022-12-02&dest_id=-2437894&dest_type=city&group_adults=2&req_adults=2&no_rooms=1&group_children=0&req_children=0&hpos=24&hapos=224&sr_order=popularity&nflt=ht_id%3D204&srpvid=7ca3572c9035002e&srepoch=1669119883&all_sr_blocks=466386602_268801983_0_0_0&highlighted_blocks=466386602_268801983_0_0_0&matching_block_id=466386602_268801983_0_0_0&sr_pri_blocks=466386602_268801983_0_0_0__237506&tpi_r=2&from_sustainable_property_sr=1&from=searchresults#hotelTmpl\n",
      "Done Exporting Data\n",
      "Closed Driver\n"
     ]
    },
    {
     "name": "stderr",
     "output_type": "stream",
     "text": [
      "24it [19:11, 49.01s/it]"
     ]
    },
    {
     "name": "stdout",
     "output_type": "stream",
     "text": [
      "7 7\n",
      "surroundings qc\n",
      "33 33\n",
      "facilities qc\n",
      "17 17\n",
      " \n",
      "\n",
      "\n",
      "\n",
      "\n",
      "Opening link- 24 https://www.booking.com/hotel/ph/paragon-tower.html?label=gen173nr-1FCAEoggI46AdIM1gEaLQBiAEBmAEJuAEXyAEM2AEB6AEB-AELiAIBqAIDuALa9-ebBsACAdICJDNiMWUxMTlhLTc3ODEtNGI3NC05MWVlLTQ5MDA0MDQzYzY5NNgCBuACAQ&sid=b3a20c12be6b3d4d9b1b0a71b11d8898&aid=304142&ucfs=1&arphpl=1&checkin=2022-12-01&checkout=2022-12-02&dest_id=-2437894&dest_type=city&group_adults=2&req_adults=2&no_rooms=1&group_children=0&req_children=0&hpos=25&hapos=225&sr_order=popularity&nflt=ht_id%3D204&srpvid=7ca3572c9035002e&srepoch=1669119883&all_sr_blocks=30041410_0_2_0_0&highlighted_blocks=30041410_0_2_0_0&matching_block_id=30041410_0_2_0_0&sr_pri_blocks=30041410_0_2_0_0__2862&tpi_r=1&from=searchresults#hotelTmpl\n",
      "Done Exporting Data\n",
      "Closed Driver\n"
     ]
    },
    {
     "name": "stderr",
     "output_type": "stream",
     "text": [
      "25it [19:59, 48.67s/it]"
     ]
    },
    {
     "name": "stdout",
     "output_type": "stream",
     "text": [
      "7 7\n",
      "surroundings qc\n",
      "29 29\n",
      "facilities qc\n",
      "11 10\n",
      " \n",
      "\n",
      "\n",
      "\n",
      "\n",
      "Opening link- 25 https://www.booking.com/hotel/ph/town-and-country-vmapa-by-sms-hospitality.html?label=gen173nr-1FCAEoggI46AdIM1gEaLQBiAEBmAEJuAEXyAEM2AEB6AEB-AELiAIBqAIDuALa9-ebBsACAdICJDNiMWUxMTlhLTc3ODEtNGI3NC05MWVlLTQ5MDA0MDQzYzY5NNgCBuACAQ&sid=b3a20c12be6b3d4d9b1b0a71b11d8898&aid=304142&ucfs=1&arphpl=1&checkin=2022-12-01&checkout=2022-12-02&dest_id=-2437894&dest_type=city&group_adults=2&req_adults=2&no_rooms=1&group_children=0&req_children=0&hpos=1&hapos=226&sr_order=popularity&nflt=ht_id%3D204&srpvid=7ca3572c9035002e&srepoch=1669119888&all_sr_blocks=868994902_355406325_2_0_0&highlighted_blocks=868994902_355406325_2_0_0&matching_block_id=868994902_355406325_2_0_0&sr_pri_blocks=868994902_355406325_2_0_0__94500&tpi_r=2&from=searchresults#hotelTmpl\n",
      "Done Exporting Data\n",
      "Closed Driver\n"
     ]
    },
    {
     "name": "stderr",
     "output_type": "stream",
     "text": [
      "26it [20:29, 43.17s/it]"
     ]
    },
    {
     "name": "stdout",
     "output_type": "stream",
     "text": [
      "7 7\n",
      "surroundings qc\n",
      "32 32\n",
      "facilities qc\n",
      "12 12\n",
      " \n",
      "\n",
      "\n",
      "\n",
      "\n",
      "Opening link- 26 https://www.booking.com/hotel/ph/the-studio-89-residences.html?label=gen173nr-1FCAEoggI46AdIM1gEaLQBiAEBmAEJuAEXyAEM2AEB6AEB-AELiAIBqAIDuALa9-ebBsACAdICJDNiMWUxMTlhLTc3ODEtNGI3NC05MWVlLTQ5MDA0MDQzYzY5NNgCBuACAQ&sid=b3a20c12be6b3d4d9b1b0a71b11d8898&aid=304142&ucfs=1&arphpl=1&checkin=2022-12-01&checkout=2022-12-02&dest_id=-2437894&dest_type=city&group_adults=2&req_adults=2&no_rooms=1&group_children=0&req_children=0&hpos=2&hapos=227&sr_order=popularity&nflt=ht_id%3D204&srpvid=7ca3572c9035002e&srepoch=1669119888&all_sr_blocks=0_0_2_0_0&highlighted_blocks=0_0_2_0_0&matching_block_id=0_0_2_0_0&sr_pri_blocks=0_0_2_0_0__2392&tpi_r=1&from=searchresults#hotelTmpl\n",
      "Done Exporting Data\n",
      "Closed Driver\n"
     ]
    },
    {
     "name": "stderr",
     "output_type": "stream",
     "text": [
      "27it [21:20, 45.47s/it]"
     ]
    },
    {
     "name": "stdout",
     "output_type": "stream",
     "text": [
      "7 7\n",
      "surroundings qc\n",
      "31 31\n",
      "facilities qc\n",
      "13 13\n",
      " \n",
      "\n",
      "\n",
      "\n",
      "\n",
      "Opening link- 27 https://www.booking.com/hotel/ph/oyo-490-vcat-apartelle.html?label=gen173nr-1FCAEoggI46AdIM1gEaLQBiAEBmAEJuAEXyAEM2AEB6AEB-AELiAIBqAIDuALa9-ebBsACAdICJDNiMWUxMTlhLTc3ODEtNGI3NC05MWVlLTQ5MDA0MDQzYzY5NNgCBuACAQ&sid=b3a20c12be6b3d4d9b1b0a71b11d8898&aid=304142&ucfs=1&arphpl=1&checkin=2022-12-01&checkout=2022-12-02&dest_id=-2437894&dest_type=city&group_adults=2&req_adults=2&no_rooms=1&group_children=0&req_children=0&hpos=3&hapos=228&sr_order=popularity&nflt=ht_id%3D204&srpvid=7ca3572c9035002e&srepoch=1669119888&all_sr_blocks=586812802_0_2_0_0&highlighted_blocks=586812802_0_2_0_0&matching_block_id=586812802_0_2_0_0&sr_pri_blocks=586812802_0_2_0_0__1477&tpi_r=1&from=searchresults#hotelTmpl\n",
      "Done Exporting Data\n",
      "Closed Driver\n"
     ]
    },
    {
     "name": "stderr",
     "output_type": "stream",
     "text": [
      "28it [22:07, 45.89s/it]"
     ]
    },
    {
     "name": "stdout",
     "output_type": "stream",
     "text": [
      "7 7\n",
      "surroundings qc\n",
      "32 32\n",
      "facilities qc\n",
      "7 7\n",
      " \n",
      "\n",
      "\n",
      "\n",
      "\n",
      "Opening link- 28 https://www.booking.com/hotel/ph/oyo-190-anglo-residences.html?label=gen173nr-1FCAEoggI46AdIM1gEaLQBiAEBmAEJuAEXyAEM2AEB6AEB-AELiAIBqAIDuALa9-ebBsACAdICJDNiMWUxMTlhLTc3ODEtNGI3NC05MWVlLTQ5MDA0MDQzYzY5NNgCBuACAQ&sid=b3a20c12be6b3d4d9b1b0a71b11d8898&aid=304142&ucfs=1&arphpl=1&checkin=2022-12-01&checkout=2022-12-02&dest_id=-2437894&dest_type=city&group_adults=2&req_adults=2&no_rooms=1&group_children=0&req_children=0&hpos=4&hapos=229&sr_order=popularity&nflt=ht_id%3D204&srpvid=7ca3572c9035002e&srepoch=1669119888&all_sr_blocks=519750302_0_2_0_0&highlighted_blocks=519750302_0_2_0_0&matching_block_id=519750302_0_2_0_0&sr_pri_blocks=519750302_0_2_0_0__1665&tpi_r=1&from=searchresults#hotelTmpl\n",
      "Done Exporting Data\n",
      "Closed Driver\n"
     ]
    },
    {
     "name": "stderr",
     "output_type": "stream",
     "text": [
      "29it [22:52, 45.87s/it]"
     ]
    },
    {
     "name": "stdout",
     "output_type": "stream",
     "text": [
      "7 7\n",
      "surroundings qc\n",
      "35 35\n",
      "facilities qc\n",
      "5 5\n",
      " \n",
      "\n",
      "\n",
      "\n",
      "\n",
      "Opening link- 29 https://www.booking.com/hotel/ph/maine-city-residences-leveriza.html?label=gen173nr-1FCAEoggI46AdIM1gEaLQBiAEBmAEJuAEXyAEM2AEB6AEB-AELiAIBqAIDuALa9-ebBsACAdICJDNiMWUxMTlhLTc3ODEtNGI3NC05MWVlLTQ5MDA0MDQzYzY5NNgCBuACAQ&sid=b3a20c12be6b3d4d9b1b0a71b11d8898&aid=304142&ucfs=1&arphpl=1&checkin=2022-12-01&checkout=2022-12-02&dest_id=-2437894&dest_type=city&group_adults=2&req_adults=2&no_rooms=1&group_children=0&req_children=0&hpos=5&hapos=230&sr_order=popularity&nflt=ht_id%3D204&srpvid=7ca3572c9035002e&srepoch=1669119888&all_sr_blocks=799689102_357101580_2_0_0&highlighted_blocks=799689102_357101580_2_0_0&matching_block_id=799689102_357101580_2_0_0&sr_pri_blocks=799689102_357101580_2_0_0__91630&tpi_r=2&from_sustainable_property_sr=1&from=searchresults#hotelTmpl\n",
      "Done Exporting Data\n",
      "Closed Driver\n"
     ]
    },
    {
     "name": "stderr",
     "output_type": "stream",
     "text": [
      "30it [23:38, 45.72s/it]"
     ]
    },
    {
     "name": "stdout",
     "output_type": "stream",
     "text": [
      "\n",
      "Error:\n",
      "list index out of range\n",
      "Skipping due to error\n",
      "\n",
      "\n",
      "Opening link- 30 https://www.booking.com/hotel/ph/the-hub-district-garden-suites.html?label=gen173nr-1FCAEoggI46AdIM1gEaLQBiAEBmAEJuAEXyAEM2AEB6AEB-AELiAIBqAIDuALa9-ebBsACAdICJDNiMWUxMTlhLTc3ODEtNGI3NC05MWVlLTQ5MDA0MDQzYzY5NNgCBuACAQ&sid=b3a20c12be6b3d4d9b1b0a71b11d8898&aid=304142&ucfs=1&arphpl=1&checkin=2022-12-01&checkout=2022-12-02&dest_id=-2437894&dest_type=city&group_adults=2&req_adults=2&no_rooms=1&group_children=0&req_children=0&hpos=6&hapos=231&sr_order=popularity&nflt=ht_id%3D204&srpvid=7ca3572c9035002e&srepoch=1669119888&all_sr_blocks=547995807_358926156_2_2_0&highlighted_blocks=547995807_358926156_2_2_0&matching_block_id=547995807_358926156_2_2_0&sr_pri_blocks=547995807_358926156_2_2_0__164560&tpi_r=2&from=searchresults#hotelTmpl\n",
      "Done Exporting Data\n",
      "Closed Driver\n"
     ]
    },
    {
     "name": "stderr",
     "output_type": "stream",
     "text": [
      "31it [24:23, 45.53s/it]"
     ]
    },
    {
     "name": "stdout",
     "output_type": "stream",
     "text": [
      "\n",
      "Error:\n",
      "list index out of range\n",
      "Skipping due to error\n",
      "\n",
      "\n",
      "Opening link- 31 https://www.booking.com/hotel/ph/fersal-manila.html?label=gen173nr-1FCAEoggI46AdIM1gEaLQBiAEBmAEJuAEXyAEM2AEB6AEB-AELiAIBqAIDuALa9-ebBsACAdICJDNiMWUxMTlhLTc3ODEtNGI3NC05MWVlLTQ5MDA0MDQzYzY5NNgCBuACAQ&sid=b3a20c12be6b3d4d9b1b0a71b11d8898&aid=304142&ucfs=1&arphpl=1&checkin=2022-12-01&checkout=2022-12-02&dest_id=-2437894&dest_type=city&group_adults=2&req_adults=2&no_rooms=1&group_children=0&req_children=0&hpos=7&hapos=232&sr_order=popularity&nflt=ht_id%3D204&srpvid=7ca3572c9035002e&srepoch=1669119888&all_sr_blocks=26976903_262139412_0_0_0&highlighted_blocks=26976903_262139412_0_0_0&matching_block_id=26976903_262139412_0_0_0&sr_pri_blocks=26976903_262139412_0_0_0__107752&tpi_r=2&from=searchresults#hotelTmpl\n",
      "Done Exporting Data\n",
      "Closed Driver\n"
     ]
    },
    {
     "name": "stderr",
     "output_type": "stream",
     "text": [
      "32it [24:53, 41.03s/it]"
     ]
    },
    {
     "name": "stdout",
     "output_type": "stream",
     "text": [
      "7 7\n",
      "surroundings qc\n",
      "35 35\n",
      "facilities qc\n",
      "10 10\n",
      " \n",
      "\n",
      "\n",
      "\n",
      "\n",
      "Opening link- 32 https://www.booking.com/hotel/ph/870-hostel.html?label=gen173nr-1FCAEoggI46AdIM1gEaLQBiAEBmAEJuAEXyAEM2AEB6AEB-AELiAIBqAIDuALa9-ebBsACAdICJDNiMWUxMTlhLTc3ODEtNGI3NC05MWVlLTQ5MDA0MDQzYzY5NNgCBuACAQ&sid=b3a20c12be6b3d4d9b1b0a71b11d8898&aid=304142&ucfs=1&arphpl=1&checkin=2022-12-01&checkout=2022-12-02&dest_id=-2437894&dest_type=city&group_adults=2&req_adults=2&no_rooms=1&group_children=0&req_children=0&hpos=8&hapos=233&sr_order=popularity&nflt=ht_id%3D204&srpvid=7ca3572c9035002e&srepoch=1669119888&all_sr_blocks=196476325_0_2_0_0&highlighted_blocks=196476325_0_2_0_0&matching_block_id=196476325_0_2_0_0&sr_pri_blocks=196476325_0_2_0_0__1497&tpi_r=1&from=searchresults#hotelTmpl\n",
      "Done Exporting Data\n",
      "Closed Driver\n"
     ]
    },
    {
     "name": "stderr",
     "output_type": "stream",
     "text": [
      "33it [25:40, 42.60s/it]"
     ]
    },
    {
     "name": "stdout",
     "output_type": "stream",
     "text": [
      "7 7\n",
      "surroundings qc\n",
      "35 35\n",
      "facilities qc\n",
      "5 4\n",
      " \n",
      "\n",
      "\n",
      "\n",
      "\n",
      "Opening link- 33 https://www.booking.com/hotel/ph/oyo-416-lucky.html?label=gen173nr-1FCAEoggI46AdIM1gEaLQBiAEBmAEJuAEXyAEM2AEB6AEB-AELiAIBqAIDuALa9-ebBsACAdICJDNiMWUxMTlhLTc3ODEtNGI3NC05MWVlLTQ5MDA0MDQzYzY5NNgCBuACAQ&sid=b3a20c12be6b3d4d9b1b0a71b11d8898&aid=304142&ucfs=1&arphpl=1&checkin=2022-12-01&checkout=2022-12-02&dest_id=-2437894&dest_type=city&group_adults=2&req_adults=2&no_rooms=1&group_children=0&req_children=0&hpos=9&hapos=234&sr_order=popularity&nflt=ht_id%3D204&srpvid=7ca3572c9035002e&srepoch=1669119888&all_sr_blocks=570753504_0_2_0_0&highlighted_blocks=570753504_0_2_0_0&matching_block_id=570753504_0_2_0_0&sr_pri_blocks=570753504_0_2_0_0__1582&tpi_r=1&from=searchresults#hotelTmpl\n",
      "Done Exporting Data\n",
      "Closed Driver\n"
     ]
    },
    {
     "name": "stderr",
     "output_type": "stream",
     "text": [
      "34it [26:26, 43.66s/it]"
     ]
    },
    {
     "name": "stdout",
     "output_type": "stream",
     "text": [
      "7 7\n",
      "surroundings qc\n",
      "33 33\n",
      "facilities qc\n",
      "6 5\n",
      " \n",
      "\n",
      "\n",
      "\n",
      "\n",
      "Opening link- 34 https://www.booking.com/hotel/ph/pearl-manila.html?label=gen173nr-1FCAEoggI46AdIM1gEaLQBiAEBmAEJuAEXyAEM2AEB6AEB-AELiAIBqAIDuALa9-ebBsACAdICJDNiMWUxMTlhLTc3ODEtNGI3NC05MWVlLTQ5MDA0MDQzYzY5NNgCBuACAQ&sid=b3a20c12be6b3d4d9b1b0a71b11d8898&aid=304142&ucfs=1&arphpl=1&checkin=2022-12-01&checkout=2022-12-02&dest_id=-2437894&dest_type=city&group_adults=2&req_adults=2&no_rooms=1&group_children=0&req_children=0&hpos=10&hapos=235&sr_order=popularity&nflt=ht_id%3D204&srpvid=7ca3572c9035002e&srepoch=1669119888&all_sr_blocks=108093304_202119848_2_0_0&highlighted_blocks=108093304_202119848_2_0_0&matching_block_id=108093304_202119848_2_0_0&sr_pri_blocks=108093304_202119848_2_0_0__186021&tpi_r=2&from=searchresults#hotelTmpl\n",
      "Done Exporting Data\n",
      "Closed Driver\n"
     ]
    },
    {
     "name": "stderr",
     "output_type": "stream",
     "text": [
      "35it [27:16, 45.61s/it]"
     ]
    },
    {
     "name": "stdout",
     "output_type": "stream",
     "text": [
      "7 7\n",
      "surroundings qc\n",
      "29 29\n",
      "facilities qc\n",
      "16 16\n",
      " \n",
      "\n",
      "\n",
      "\n",
      "\n",
      "Opening link- 35 https://www.booking.com/hotel/ph/lucky-chinatown.html?label=gen173nr-1FCAEoggI46AdIM1gEaLQBiAEBmAEJuAEXyAEM2AEB6AEB-AELiAIBqAIDuALa9-ebBsACAdICJDNiMWUxMTlhLTc3ODEtNGI3NC05MWVlLTQ5MDA0MDQzYzY5NNgCBuACAQ&sid=b3a20c12be6b3d4d9b1b0a71b11d8898&aid=304142&ucfs=1&arphpl=1&checkin=2022-12-01&checkout=2022-12-02&dest_id=-2437894&dest_type=city&group_adults=2&req_adults=2&no_rooms=1&group_children=0&req_children=0&hpos=11&hapos=236&sr_order=popularity&nflt=ht_id%3D204&srpvid=7ca3572c9035002e&srepoch=1669119888&all_sr_blocks=466386602_268801983_0_0_0&highlighted_blocks=466386602_268801983_0_0_0&matching_block_id=466386602_268801983_0_0_0&sr_pri_blocks=466386602_268801983_0_0_0__237506&tpi_r=2&from_sustainable_property_sr=1&from=searchresults#hotelTmpl\n",
      "Done Exporting Data\n",
      "Closed Driver\n"
     ]
    },
    {
     "name": "stderr",
     "output_type": "stream",
     "text": [
      "36it [28:05, 46.70s/it]"
     ]
    },
    {
     "name": "stdout",
     "output_type": "stream",
     "text": [
      "7 7\n",
      "surroundings qc\n",
      "30 30\n",
      "facilities qc\n",
      "17 17\n",
      " \n",
      "\n",
      "\n",
      "\n",
      "\n",
      "Opening link- 36 https://www.booking.com/hotel/ph/meaco-royal-tayuman.html?label=gen173nr-1FCAEoggI46AdIM1gEaLQBiAEBmAEJuAEXyAEM2AEB6AEB-AELiAIBqAIDuALa9-ebBsACAdICJDNiMWUxMTlhLTc3ODEtNGI3NC05MWVlLTQ5MDA0MDQzYzY5NNgCBuACAQ&sid=b3a20c12be6b3d4d9b1b0a71b11d8898&aid=304142&ucfs=1&arphpl=1&checkin=2022-12-01&checkout=2022-12-02&dest_id=-2437894&dest_type=city&group_adults=2&req_adults=2&no_rooms=1&group_children=0&req_children=0&hpos=12&hapos=237&sr_order=popularity&nflt=ht_id%3D204&srpvid=7ca3572c9035002e&srepoch=1669119888&all_sr_blocks=323494201_114593088_2_0_0&highlighted_blocks=323494201_114593088_2_0_0&matching_block_id=323494201_114593088_2_0_0&sr_pri_blocks=323494201_114593088_2_0_0__136607&tpi_r=2&from=searchresults#hotelTmpl\n",
      "Done Exporting Data\n",
      "Closed Driver\n"
     ]
    },
    {
     "name": "stderr",
     "output_type": "stream",
     "text": [
      "37it [28:34, 41.24s/it]"
     ]
    },
    {
     "name": "stdout",
     "output_type": "stream",
     "text": [
      "\n",
      "Error:\n",
      "list index out of range\n",
      "Skipping due to error\n",
      "\n",
      "\n",
      "Opening link- 37 https://www.booking.com/hotel/ph/oyo-605-the-quarters.html?label=gen173nr-1FCAEoggI46AdIM1gEaLQBiAEBmAEJuAEXyAEM2AEB6AEB-AELiAIBqAIDuALa9-ebBsACAdICJDNiMWUxMTlhLTc3ODEtNGI3NC05MWVlLTQ5MDA0MDQzYzY5NNgCBuACAQ&sid=b3a20c12be6b3d4d9b1b0a71b11d8898&aid=304142&ucfs=1&arphpl=1&checkin=2022-12-01&checkout=2022-12-02&dest_id=-2437894&dest_type=city&group_adults=2&req_adults=2&no_rooms=1&group_children=0&req_children=0&hpos=13&hapos=238&sr_order=popularity&nflt=ht_id%3D204&srpvid=7ca3572c9035002e&srepoch=1669119888&all_sr_blocks=655623002_357534424_2_0_0&highlighted_blocks=655623002_357534424_2_0_0&matching_block_id=655623002_357534424_2_0_0&sr_pri_blocks=655623002_357534424_2_0_0__108625&tpi_r=2&from=searchresults#hotelTmpl\n",
      "Done Exporting Data\n",
      "Closed Driver\n"
     ]
    },
    {
     "name": "stderr",
     "output_type": "stream",
     "text": [
      "38it [29:36, 47.64s/it]"
     ]
    },
    {
     "name": "stdout",
     "output_type": "stream",
     "text": [
      "7 7\n",
      "surroundings qc\n",
      "35 35\n",
      "facilities qc\n",
      "10 9\n",
      " \n",
      "\n",
      "\n",
      "\n",
      "\n",
      "Opening link- 38 https://www.booking.com/hotel/ph/reddoorz-near-quirino-station-manila1.html?label=gen173nr-1FCAEoggI46AdIM1gEaLQBiAEBmAEJuAEXyAEM2AEB6AEB-AELiAIBqAIDuALa9-ebBsACAdICJDNiMWUxMTlhLTc3ODEtNGI3NC05MWVlLTQ5MDA0MDQzYzY5NNgCBuACAQ&sid=b3a20c12be6b3d4d9b1b0a71b11d8898&aid=304142&ucfs=1&arphpl=1&checkin=2022-12-01&checkout=2022-12-02&dest_id=-2437894&dest_type=city&group_adults=2&req_adults=2&no_rooms=1&group_children=0&req_children=0&hpos=14&hapos=239&sr_order=popularity&nflt=ht_id%3D204&srpvid=7ca3572c9035002e&srepoch=1669119888&all_sr_blocks=358709101_0_2_0_0&highlighted_blocks=358709101_0_2_0_0&matching_block_id=358709101_0_2_0_0&sr_pri_blocks=358709101_0_2_0_0__1505&tpi_r=1&from=searchresults#hotelTmpl\n",
      "Done Exporting Data\n",
      "Closed Driver\n"
     ]
    },
    {
     "name": "stderr",
     "output_type": "stream",
     "text": [
      "39it [30:21, 46.73s/it]"
     ]
    },
    {
     "name": "stdout",
     "output_type": "stream",
     "text": [
      "7 7\n",
      "surroundings qc\n",
      "33 33\n",
      "facilities qc\n",
      "9 8\n",
      " \n",
      "\n",
      "\n",
      "\n",
      "\n",
      "Opening link- 39 https://www.booking.com/hotel/ph/oyo-806-pattaui-residences.html?label=gen173nr-1FCAEoggI46AdIM1gEaLQBiAEBmAEJuAEXyAEM2AEB6AEB-AELiAIBqAIDuALa9-ebBsACAdICJDNiMWUxMTlhLTc3ODEtNGI3NC05MWVlLTQ5MDA0MDQzYzY5NNgCBuACAQ&sid=b3a20c12be6b3d4d9b1b0a71b11d8898&aid=304142&ucfs=1&arphpl=1&checkin=2022-12-01&checkout=2022-12-02&dest_id=-2437894&dest_type=city&group_adults=2&req_adults=2&no_rooms=1&group_children=0&req_children=0&hpos=15&hapos=240&sr_order=popularity&nflt=ht_id%3D204&srpvid=7ca3572c9035002e&srepoch=1669119888&all_sr_blocks=759812302_357545408_2_0_0&highlighted_blocks=759812302_357545408_2_0_0&matching_block_id=759812302_357545408_2_0_0&sr_pri_blocks=759812302_357545408_2_0_0__105219&tpi_r=2&from=searchresults#hotelTmpl\n",
      "Done Exporting Data\n",
      "Closed Driver\n"
     ]
    },
    {
     "name": "stderr",
     "output_type": "stream",
     "text": [
      "40it [31:12, 47.96s/it]"
     ]
    },
    {
     "name": "stdout",
     "output_type": "stream",
     "text": [
      "7 7\n",
      "surroundings qc\n",
      "35 35\n",
      "facilities qc\n",
      "11 10\n",
      " \n",
      "\n",
      "\n",
      "\n",
      "\n",
      "Opening link- 40 https://www.booking.com/hotel/ph/city-park-manila.html?label=gen173nr-1FCAEoggI46AdIM1gEaLQBiAEBmAEJuAEXyAEM2AEB6AEB-AELiAIBqAIDuALa9-ebBsACAdICJDNiMWUxMTlhLTc3ODEtNGI3NC05MWVlLTQ5MDA0MDQzYzY5NNgCBuACAQ&sid=b3a20c12be6b3d4d9b1b0a71b11d8898&aid=304142&ucfs=1&arphpl=1&checkin=2022-12-01&checkout=2022-12-02&dest_id=-2437894&dest_type=city&group_adults=2&req_adults=2&no_rooms=1&group_children=0&req_children=0&hpos=16&hapos=241&sr_order=popularity&nflt=ht_id%3D204&srpvid=7ca3572c9035002e&srepoch=1669119888&all_sr_blocks=388012307_0_2_0_0&highlighted_blocks=388012307_0_2_0_0&matching_block_id=388012307_0_2_0_0&sr_pri_blocks=388012307_0_2_0_0__2707&tpi_r=1&from_sustainable_property_sr=1&from=searchresults#hotelTmpl\n",
      "Done Exporting Data\n",
      "Closed Driver\n"
     ]
    },
    {
     "name": "stderr",
     "output_type": "stream",
     "text": [
      "41it [32:02, 48.60s/it]"
     ]
    },
    {
     "name": "stdout",
     "output_type": "stream",
     "text": [
      "\n",
      "Error:\n",
      "list index out of range\n",
      "Skipping due to error\n",
      "\n",
      "\n",
      "Opening link- 41 https://www.booking.com/hotel/ph/reddoorz-near-pnr-espana-manila.html?label=gen173nr-1FCAEoggI46AdIM1gEaLQBiAEBmAEJuAEXyAEM2AEB6AEB-AELiAIBqAIDuALa9-ebBsACAdICJDNiMWUxMTlhLTc3ODEtNGI3NC05MWVlLTQ5MDA0MDQzYzY5NNgCBuACAQ&sid=b3a20c12be6b3d4d9b1b0a71b11d8898&aid=304142&ucfs=1&arphpl=1&checkin=2022-12-01&checkout=2022-12-02&dest_id=-2437894&dest_type=city&group_adults=2&req_adults=2&no_rooms=1&group_children=0&req_children=0&hpos=17&hapos=242&sr_order=popularity&nflt=ht_id%3D204&srpvid=7ca3572c9035002e&srepoch=1669119888&all_sr_blocks=556997201_0_2_0_0&highlighted_blocks=556997201_0_2_0_0&matching_block_id=556997201_0_2_0_0&sr_pri_blocks=556997201_0_2_0_0__1205&tpi_r=1&from=searchresults#hotelTmpl\n",
      "Done Exporting Data\n",
      "Closed Driver\n"
     ]
    },
    {
     "name": "stderr",
     "output_type": "stream",
     "text": [
      "42it [32:32, 43.05s/it]"
     ]
    },
    {
     "name": "stdout",
     "output_type": "stream",
     "text": [
      "7 7\n",
      "surroundings qc\n",
      "35 35\n",
      "facilities qc\n",
      "8 7\n",
      " \n",
      "\n",
      "\n",
      "\n",
      "\n",
      "Opening link- 42 https://www.booking.com/hotel/ph/oyo-868-solanos-transient-house.html?label=gen173nr-1FCAEoggI46AdIM1gEaLQBiAEBmAEJuAEXyAEM2AEB6AEB-AELiAIBqAIDuALa9-ebBsACAdICJDNiMWUxMTlhLTc3ODEtNGI3NC05MWVlLTQ5MDA0MDQzYzY5NNgCBuACAQ&sid=b3a20c12be6b3d4d9b1b0a71b11d8898&aid=304142&ucfs=1&arphpl=1&checkin=2022-12-01&checkout=2022-12-02&dest_id=-2437894&dest_type=city&group_adults=2&req_adults=2&no_rooms=1&group_children=0&req_children=0&hpos=18&hapos=243&sr_order=popularity&nflt=ht_id%3D204&srpvid=7ca3572c9035002e&srepoch=1669119888&all_sr_blocks=846577303_357551615_2_0_0&highlighted_blocks=846577303_357551615_2_0_0&matching_block_id=846577303_357551615_2_0_0&sr_pri_blocks=846577303_357551615_2_0_0__116229&tpi_r=2&from=searchresults#hotelTmpl\n",
      "Done Exporting Data\n",
      "Closed Driver\n"
     ]
    },
    {
     "name": "stderr",
     "output_type": "stream",
     "text": [
      "43it [33:16, 43.46s/it]"
     ]
    },
    {
     "name": "stdout",
     "output_type": "stream",
     "text": [
      "7 7\n",
      "surroundings qc\n",
      "32 32\n",
      "facilities qc\n",
      "7 7\n",
      " \n",
      "\n",
      "\n",
      "\n",
      "\n",
      "Opening link- 43 https://www.booking.com/hotel/ph/oyo-805-jmdc-apartelle-i.html?label=gen173nr-1FCAEoggI46AdIM1gEaLQBiAEBmAEJuAEXyAEM2AEB6AEB-AELiAIBqAIDuALa9-ebBsACAdICJDNiMWUxMTlhLTc3ODEtNGI3NC05MWVlLTQ5MDA0MDQzYzY5NNgCBuACAQ&sid=b3a20c12be6b3d4d9b1b0a71b11d8898&aid=304142&ucfs=1&arphpl=1&checkin=2022-12-01&checkout=2022-12-02&dest_id=-2437894&dest_type=city&group_adults=2&req_adults=2&no_rooms=1&group_children=0&req_children=0&hpos=19&hapos=244&sr_order=popularity&nflt=ht_id%3D204&srpvid=7ca3572c9035002e&srepoch=1669119888&all_sr_blocks=759887602_357532444_2_0_0&highlighted_blocks=759887602_357532444_2_0_0&matching_block_id=759887602_357532444_2_0_0&sr_pri_blocks=759887602_357532444_2_0_0__109561&tpi_r=2&from=searchresults#hotelTmpl\n",
      "Done Exporting Data\n",
      "Closed Driver\n"
     ]
    },
    {
     "name": "stderr",
     "output_type": "stream",
     "text": [
      "44it [34:04, 44.61s/it]"
     ]
    },
    {
     "name": "stdout",
     "output_type": "stream",
     "text": [
      "7 7\n",
      "surroundings qc\n",
      "30 30\n",
      "facilities qc\n",
      "10 10\n",
      " \n",
      "\n",
      "\n",
      "\n",
      "\n",
      "Opening link- 44 https://www.booking.com/hotel/ph/oyo-474-nizami-condotel.html?label=gen173nr-1FCAEoggI46AdIM1gEaLQBiAEBmAEJuAEXyAEM2AEB6AEB-AELiAIBqAIDuALa9-ebBsACAdICJDNiMWUxMTlhLTc3ODEtNGI3NC05MWVlLTQ5MDA0MDQzYzY5NNgCBuACAQ&sid=b3a20c12be6b3d4d9b1b0a71b11d8898&aid=304142&ucfs=1&arphpl=1&checkin=2022-12-01&checkout=2022-12-02&dest_id=-2437894&dest_type=city&group_adults=2&req_adults=2&no_rooms=1&group_children=0&req_children=0&hpos=20&hapos=245&sr_order=popularity&nflt=ht_id%3D204&srpvid=7ca3572c9035002e&srepoch=1669119888&all_sr_blocks=586813802_357532448_2_0_0&highlighted_blocks=586813802_357532448_2_0_0&matching_block_id=586813802_357532448_2_0_0&sr_pri_blocks=586813802_357532448_2_0_0__146322&tpi_r=2&from=searchresults#hotelTmpl\n",
      "Done Exporting Data\n",
      "Closed Driver\n"
     ]
    },
    {
     "name": "stderr",
     "output_type": "stream",
     "text": [
      "45it [34:48, 44.42s/it]"
     ]
    },
    {
     "name": "stdout",
     "output_type": "stream",
     "text": [
      "7 7\n",
      "surroundings qc\n",
      "35 35\n",
      "facilities qc\n",
      "4 3\n",
      " \n",
      "\n",
      "\n",
      "\n",
      "\n",
      "Opening link- 45 https://www.booking.com/hotel/ph/baymont-suites-amp-residences.html?label=gen173nr-1FCAEoggI46AdIM1gEaLQBiAEBmAEJuAEXyAEM2AEB6AEB-AELiAIBqAIDuALa9-ebBsACAdICJDNiMWUxMTlhLTc3ODEtNGI3NC05MWVlLTQ5MDA0MDQzYzY5NNgCBuACAQ&sid=b3a20c12be6b3d4d9b1b0a71b11d8898&aid=304142&ucfs=1&arphpl=1&checkin=2022-12-01&checkout=2022-12-02&dest_id=-2437894&dest_type=city&group_adults=2&req_adults=2&no_rooms=1&group_children=0&req_children=0&hpos=21&hapos=246&sr_order=popularity&nflt=ht_id%3D204&srpvid=7ca3572c9035002e&srepoch=1669119888&all_sr_blocks=176868907_90854790_0_0_0&highlighted_blocks=176868907_90854790_0_0_0&matching_block_id=176868907_90854790_0_0_0&sr_pri_blocks=176868907_90854790_0_0_0__184275&tpi_r=2&from=searchresults#hotelTmpl\n",
      "Done Exporting Data\n",
      "Closed Driver\n"
     ]
    },
    {
     "name": "stderr",
     "output_type": "stream",
     "text": [
      "46it [35:19, 40.44s/it]"
     ]
    },
    {
     "name": "stdout",
     "output_type": "stream",
     "text": [
      "7 7\n",
      "surroundings qc\n",
      "35 35\n",
      "facilities qc\n",
      "12 11\n",
      " \n",
      "\n",
      "\n",
      "\n",
      "\n",
      "Opening link- 46 https://www.booking.com/hotel/ph/oyo-854-busline-apartelle.html?label=gen173nr-1FCAEoggI46AdIM1gEaLQBiAEBmAEJuAEXyAEM2AEB6AEB-AELiAIBqAIDuALa9-ebBsACAdICJDNiMWUxMTlhLTc3ODEtNGI3NC05MWVlLTQ5MDA0MDQzYzY5NNgCBuACAQ&sid=b3a20c12be6b3d4d9b1b0a71b11d8898&aid=304142&ucfs=1&arphpl=1&checkin=2022-12-01&checkout=2022-12-02&dest_id=-2437894&dest_type=city&group_adults=2&req_adults=2&no_rooms=1&group_children=0&req_children=0&hpos=22&hapos=247&sr_order=popularity&nflt=ht_id%3D204&srpvid=7ca3572c9035002e&srepoch=1669119888&all_sr_blocks=826213502_360074042_2_0_0&highlighted_blocks=826213502_360074042_2_0_0&matching_block_id=826213502_360074042_2_0_0&sr_pri_blocks=826213502_360074042_2_0_0__74152&tpi_r=2&from=searchresults#hotelTmpl\n",
      "Done Exporting Data\n",
      "Closed Driver\n"
     ]
    },
    {
     "name": "stderr",
     "output_type": "stream",
     "text": [
      "47it [36:02, 41.36s/it]"
     ]
    },
    {
     "name": "stdout",
     "output_type": "stream",
     "text": [
      "7 7\n",
      "surroundings qc\n",
      "35 35\n",
      "facilities qc\n",
      "8 8\n",
      " \n",
      "\n",
      "\n",
      "\n",
      "\n",
      "Opening link- 47 https://www.booking.com/hotel/ph/camelot.html?label=gen173nr-1FCAEoggI46AdIM1gEaLQBiAEBmAEJuAEXyAEM2AEB6AEB-AELiAIBqAIDuALa9-ebBsACAdICJDNiMWUxMTlhLTc3ODEtNGI3NC05MWVlLTQ5MDA0MDQzYzY5NNgCBuACAQ&sid=b3a20c12be6b3d4d9b1b0a71b11d8898&aid=304142&ucfs=1&arphpl=1&checkin=2022-12-01&checkout=2022-12-02&dest_id=-2437894&dest_type=city&group_adults=2&req_adults=2&no_rooms=1&group_children=0&req_children=0&hpos=23&hapos=248&sr_order=popularity&nflt=ht_id%3D204&srpvid=7ca3572c9035002e&srepoch=1669119888&all_sr_blocks=0_0_2_0_0&highlighted_blocks=0_0_2_0_0&matching_block_id=0_0_2_0_0&sr_pri_blocks=0_0_2_0_0__2763&tpi_r=1&from=searchresults#hotelTmpl\n",
      "Done Exporting Data\n",
      "Closed Driver\n"
     ]
    },
    {
     "name": "stderr",
     "output_type": "stream",
     "text": [
      "48it [36:47, 42.35s/it]"
     ]
    },
    {
     "name": "stdout",
     "output_type": "stream",
     "text": [
      "7 7\n",
      "surroundings qc\n",
      "31 31\n",
      "facilities qc\n",
      "11 11\n",
      " \n",
      "\n",
      "\n",
      "\n",
      "\n",
      "Opening link- 48 https://www.booking.com/hotel/ph/reddoorz-plus-jardin-suites-guadalupe-nuevo.html?label=gen173nr-1FCAEoggI46AdIM1gEaLQBiAEBmAEJuAEXyAEM2AEB6AEB-AELiAIBqAIDuALa9-ebBsACAdICJDNiMWUxMTlhLTc3ODEtNGI3NC05MWVlLTQ5MDA0MDQzYzY5NNgCBuACAQ&sid=b3a20c12be6b3d4d9b1b0a71b11d8898&aid=304142&ucfs=1&arphpl=1&checkin=2022-12-01&checkout=2022-12-02&dest_id=-2437894&dest_type=city&group_adults=2&req_adults=2&no_rooms=1&group_children=0&req_children=0&hpos=24&hapos=249&sr_order=popularity&nflt=ht_id%3D204&srpvid=7ca3572c9035002e&srepoch=1669119888&all_sr_blocks=651134403_278242579_0_0_0&highlighted_blocks=651134403_278242579_0_0_0&matching_block_id=651134403_278242579_0_0_0&sr_pri_blocks=651134403_278242579_0_0_0__84405&tpi_r=2&from=searchresults#hotelTmpl\n",
      "Done Exporting Data\n",
      "Closed Driver\n"
     ]
    },
    {
     "name": "stderr",
     "output_type": "stream",
     "text": [
      "49it [37:30, 42.62s/it]"
     ]
    },
    {
     "name": "stdout",
     "output_type": "stream",
     "text": [
      "7 7\n",
      "surroundings qc\n",
      "35 35\n",
      "facilities qc\n",
      "7 6\n",
      " \n",
      "\n",
      "\n",
      "\n",
      "\n",
      "Opening link- 49 https://www.booking.com/hotel/ph/reddoorz-plus-near-johnson-and-johnson-paranaque.html?label=gen173nr-1FCAEoggI46AdIM1gEaLQBiAEBmAEJuAEXyAEM2AEB6AEB-AELiAIBqAIDuALa9-ebBsACAdICJDNiMWUxMTlhLTc3ODEtNGI3NC05MWVlLTQ5MDA0MDQzYzY5NNgCBuACAQ&sid=b3a20c12be6b3d4d9b1b0a71b11d8898&aid=304142&ucfs=1&arphpl=1&checkin=2022-12-01&checkout=2022-12-02&dest_id=-2437894&dest_type=city&group_adults=2&req_adults=2&no_rooms=1&group_children=0&req_children=0&hpos=25&hapos=250&sr_order=popularity&nflt=ht_id%3D204&srpvid=7ca3572c9035002e&srepoch=1669119888&all_sr_blocks=594268601_310855538_0_0_0&highlighted_blocks=594268601_310855538_0_0_0&matching_block_id=594268601_310855538_0_0_0&sr_pri_blocks=594268601_310855538_0_0_0__79601&tpi_r=2&from=searchresults#hotelTmpl\n",
      "Done Exporting Data\n",
      "Closed Driver\n"
     ]
    },
    {
     "name": "stderr",
     "output_type": "stream",
     "text": [
      "50it [38:16, 43.55s/it]"
     ]
    },
    {
     "name": "stdout",
     "output_type": "stream",
     "text": [
      "7 7\n",
      "surroundings qc\n",
      "35 35\n",
      "facilities qc\n",
      "9 8\n",
      " \n",
      "\n",
      "\n",
      "\n",
      "\n",
      "Opening link- 50 https://www.booking.com/hotel/ph/reddoorz-plus-kaizen-suites-taft-avenue.html?label=gen173nr-1FCAEoggI46AdIM1gEaLQBiAEBmAEJuAEXyAEM2AEB6AEB-AELiAIBqAIDuALa9-ebBsACAdICJDNiMWUxMTlhLTc3ODEtNGI3NC05MWVlLTQ5MDA0MDQzYzY5NNgCBuACAQ&sid=b3a20c12be6b3d4d9b1b0a71b11d8898&aid=304142&ucfs=1&arphpl=1&checkin=2022-12-01&checkout=2022-12-02&dest_id=-2437894&dest_type=city&group_adults=2&req_adults=2&no_rooms=1&group_children=0&req_children=0&hpos=1&hapos=251&sr_order=popularity&nflt=ht_id%3D204&srpvid=7ca3572c9035002e&srepoch=1669119893&all_sr_blocks=876953006_359461735_0_0_0&highlighted_blocks=876953006_359461735_0_0_0&matching_block_id=876953006_359461735_0_0_0&sr_pri_blocks=876953006_359461735_0_0_0__159271&tpi_r=2&from_sustainable_property_sr=1&from=searchresults#hotelTmpl\n",
      "Done Exporting Data\n",
      "Closed Driver\n"
     ]
    },
    {
     "name": "stderr",
     "output_type": "stream",
     "text": [
      "51it [39:03, 44.52s/it]"
     ]
    },
    {
     "name": "stdout",
     "output_type": "stream",
     "text": [
      "7 7\n",
      "surroundings qc\n",
      "30 30\n",
      "facilities qc\n",
      "9 8\n",
      " \n",
      "\n",
      "\n",
      "\n",
      "\n",
      "Opening link- 51 https://www.booking.com/hotel/ph/town-and-country-vmapa-by-sms-hospitality.html?label=gen173nr-1FCAEoggI46AdIM1gEaLQBiAEBmAEJuAEXyAEM2AEB6AEB-AELiAIBqAIDuALa9-ebBsACAdICJDNiMWUxMTlhLTc3ODEtNGI3NC05MWVlLTQ5MDA0MDQzYzY5NNgCBuACAQ&sid=b3a20c12be6b3d4d9b1b0a71b11d8898&aid=304142&ucfs=1&arphpl=1&checkin=2022-12-01&checkout=2022-12-02&dest_id=-2437894&dest_type=city&group_adults=2&req_adults=2&no_rooms=1&group_children=0&req_children=0&hpos=2&hapos=252&sr_order=popularity&nflt=ht_id%3D204&srpvid=7ca3572c9035002e&srepoch=1669119893&all_sr_blocks=868994902_355406325_2_0_0&highlighted_blocks=868994902_355406325_2_0_0&matching_block_id=868994902_355406325_2_0_0&sr_pri_blocks=868994902_355406325_2_0_0__94500&tpi_r=2&from=searchresults#hotelTmpl\n",
      "Done Exporting Data\n",
      "Closed Driver\n"
     ]
    },
    {
     "name": "stderr",
     "output_type": "stream",
     "text": [
      "52it [39:49, 44.90s/it]"
     ]
    },
    {
     "name": "stdout",
     "output_type": "stream",
     "text": [
      "7 7\n",
      "surroundings qc\n",
      "32 32\n",
      "facilities qc\n",
      "12 12\n",
      " \n",
      "\n",
      "\n",
      "\n",
      "\n",
      "Opening link- 52 https://www.booking.com/hotel/ph/reddoorz-plus-san-marcelino-malate.html?label=gen173nr-1FCAEoggI46AdIM1gEaLQBiAEBmAEJuAEXyAEM2AEB6AEB-AELiAIBqAIDuALa9-ebBsACAdICJDNiMWUxMTlhLTc3ODEtNGI3NC05MWVlLTQ5MDA0MDQzYzY5NNgCBuACAQ&sid=b3a20c12be6b3d4d9b1b0a71b11d8898&aid=304142&ucfs=1&arphpl=1&checkin=2022-12-01&checkout=2022-12-02&dest_id=-2437894&dest_type=city&group_adults=2&req_adults=2&no_rooms=1&group_children=0&req_children=0&hpos=3&hapos=253&sr_order=popularity&nflt=ht_id%3D204&srpvid=7ca3572c9035002e&srepoch=1669119893&all_sr_blocks=671018601_0_2_0_0&highlighted_blocks=671018601_0_2_0_0&matching_block_id=671018601_0_2_0_0&sr_pri_blocks=671018601_0_2_0_0__1506&tpi_r=1&from=searchresults#hotelTmpl\n",
      "Done Exporting Data\n",
      "Closed Driver\n"
     ]
    },
    {
     "name": "stderr",
     "output_type": "stream",
     "text": [
      "53it [40:32, 44.59s/it]"
     ]
    },
    {
     "name": "stdout",
     "output_type": "stream",
     "text": [
      "7 7\n",
      "surroundings qc\n",
      "30 30\n",
      "facilities qc\n",
      "7 6\n",
      " \n",
      "\n",
      "\n",
      "\n",
      "\n",
      "Opening link- 53 https://www.booking.com/hotel/ph/oyo-490-vcat-apartelle.html?label=gen173nr-1FCAEoggI46AdIM1gEaLQBiAEBmAEJuAEXyAEM2AEB6AEB-AELiAIBqAIDuALa9-ebBsACAdICJDNiMWUxMTlhLTc3ODEtNGI3NC05MWVlLTQ5MDA0MDQzYzY5NNgCBuACAQ&sid=b3a20c12be6b3d4d9b1b0a71b11d8898&aid=304142&ucfs=1&arphpl=1&checkin=2022-12-01&checkout=2022-12-02&dest_id=-2437894&dest_type=city&group_adults=2&req_adults=2&no_rooms=1&group_children=0&req_children=0&hpos=4&hapos=254&sr_order=popularity&nflt=ht_id%3D204&srpvid=7ca3572c9035002e&srepoch=1669119893&all_sr_blocks=586812802_0_2_0_0&highlighted_blocks=586812802_0_2_0_0&matching_block_id=586812802_0_2_0_0&sr_pri_blocks=586812802_0_2_0_0__1475&tpi_r=1&from=searchresults#hotelTmpl\n",
      "Done Exporting Data\n",
      "Closed Driver\n"
     ]
    },
    {
     "name": "stderr",
     "output_type": "stream",
     "text": [
      "54it [41:18, 45.01s/it]"
     ]
    },
    {
     "name": "stdout",
     "output_type": "stream",
     "text": [
      "7 7\n",
      "surroundings qc\n",
      "35 35\n",
      "facilities qc\n",
      "7 7\n",
      " \n",
      "\n",
      "\n",
      "\n",
      "\n",
      "Opening link- 54 https://www.booking.com/hotel/ph/oyo-806-pattaui-residences.html?label=gen173nr-1FCAEoggI46AdIM1gEaLQBiAEBmAEJuAEXyAEM2AEB6AEB-AELiAIBqAIDuALa9-ebBsACAdICJDNiMWUxMTlhLTc3ODEtNGI3NC05MWVlLTQ5MDA0MDQzYzY5NNgCBuACAQ&sid=b3a20c12be6b3d4d9b1b0a71b11d8898&aid=304142&ucfs=1&arphpl=1&checkin=2022-12-01&checkout=2022-12-02&dest_id=-2437894&dest_type=city&group_adults=2&req_adults=2&no_rooms=1&group_children=0&req_children=0&hpos=5&hapos=255&sr_order=popularity&nflt=ht_id%3D204&srpvid=7ca3572c9035002e&srepoch=1669119893&all_sr_blocks=759812302_357545408_2_0_0&highlighted_blocks=759812302_357545408_2_0_0&matching_block_id=759812302_357545408_2_0_0&sr_pri_blocks=759812302_357545408_2_0_0__105219&tpi_r=2&from=searchresults#hotelTmpl\n",
      "Done Exporting Data\n",
      "Closed Driver\n"
     ]
    },
    {
     "name": "stderr",
     "output_type": "stream",
     "text": [
      "55it [41:49, 40.79s/it]"
     ]
    },
    {
     "name": "stdout",
     "output_type": "stream",
     "text": [
      "7 7\n",
      "surroundings qc\n",
      "35 35\n",
      "facilities qc\n",
      "11 10\n",
      " \n",
      "\n",
      "\n",
      "\n",
      "\n",
      "Opening link- 55 https://www.booking.com/hotel/ph/axiaa.html?label=gen173nr-1FCAEoggI46AdIM1gEaLQBiAEBmAEJuAEXyAEM2AEB6AEB-AELiAIBqAIDuALa9-ebBsACAdICJDNiMWUxMTlhLTc3ODEtNGI3NC05MWVlLTQ5MDA0MDQzYzY5NNgCBuACAQ&sid=b3a20c12be6b3d4d9b1b0a71b11d8898&aid=304142&ucfs=1&arphpl=1&checkin=2022-12-01&checkout=2022-12-02&dest_id=-2437894&dest_type=city&group_adults=2&req_adults=2&no_rooms=1&group_children=0&req_children=0&hpos=6&hapos=256&sr_order=popularity&nflt=ht_id%3D204&srpvid=7ca3572c9035002e&srepoch=1669119893&all_sr_blocks=342112501_116897705_2_0_0&highlighted_blocks=342112501_116897705_2_0_0&matching_block_id=342112501_116897705_2_0_0&sr_pri_blocks=342112501_116897705_2_0_0__287280&tpi_r=2&from=searchresults#hotelTmpl\n",
      "Done Exporting Data\n",
      "Closed Driver\n"
     ]
    },
    {
     "name": "stderr",
     "output_type": "stream",
     "text": [
      "56it [42:38, 43.01s/it]"
     ]
    },
    {
     "name": "stdout",
     "output_type": "stream",
     "text": [
      "7 7\n",
      "surroundings qc\n",
      "34 34\n",
      "facilities qc\n",
      "18 18\n",
      " \n",
      "\n",
      "\n",
      "\n",
      "\n",
      "Opening link- 56 https://www.booking.com/hotel/ph/oyo-152-sangco-condotel.html?label=gen173nr-1FCAEoggI46AdIM1gEaLQBiAEBmAEJuAEXyAEM2AEB6AEB-AELiAIBqAIDuALa9-ebBsACAdICJDNiMWUxMTlhLTc3ODEtNGI3NC05MWVlLTQ5MDA0MDQzYzY5NNgCBuACAQ&sid=b3a20c12be6b3d4d9b1b0a71b11d8898&aid=304142&ucfs=1&arphpl=1&checkin=2022-12-01&checkout=2022-12-02&dest_id=-2437894&dest_type=city&group_adults=2&req_adults=2&no_rooms=1&group_children=0&req_children=0&hpos=7&hapos=257&sr_order=popularity&nflt=ht_id%3D204&srpvid=7ca3572c9035002e&srepoch=1669119893&all_sr_blocks=469416601_357533950_2_0_0&highlighted_blocks=469416601_357533950_2_0_0&matching_block_id=469416601_357533950_2_0_0&sr_pri_blocks=469416601_357533950_2_0_0__109938&tpi_r=2&from=searchresults#hotelTmpl\n",
      "Done Exporting Data\n",
      "Closed Driver\n"
     ]
    },
    {
     "name": "stderr",
     "output_type": "stream",
     "text": [
      "57it [43:30, 45.95s/it]"
     ]
    },
    {
     "name": "stdout",
     "output_type": "stream",
     "text": [
      "7 7\n",
      "surroundings qc\n",
      "33 33\n",
      "facilities qc\n",
      "11 11\n",
      " \n",
      "\n",
      "\n",
      "\n",
      "\n",
      "Opening link- 57 https://www.booking.com/hotel/ph/durban.html?label=gen173nr-1FCAEoggI46AdIM1gEaLQBiAEBmAEJuAEXyAEM2AEB6AEB-AELiAIBqAIDuALa9-ebBsACAdICJDNiMWUxMTlhLTc3ODEtNGI3NC05MWVlLTQ5MDA0MDQzYzY5NNgCBuACAQ&sid=b3a20c12be6b3d4d9b1b0a71b11d8898&aid=304142&ucfs=1&arphpl=1&checkin=2022-12-01&checkout=2022-12-02&dest_id=-2437894&dest_type=city&group_adults=2&req_adults=2&no_rooms=1&group_children=0&req_children=0&hpos=8&hapos=258&sr_order=popularity&nflt=ht_id%3D204&srpvid=7ca3572c9035002e&srepoch=1669119893&all_sr_blocks=198836213_265010109_0_2_0&highlighted_blocks=198836213_265010109_0_2_0&matching_block_id=198836213_265010109_0_2_0&sr_pri_blocks=198836213_265010109_0_2_0__199856&tpi_r=2&from_sustainable_property_sr=1&from=searchresults#hotelTmpl\n",
      "Done Exporting Data\n",
      "Closed Driver\n"
     ]
    },
    {
     "name": "stderr",
     "output_type": "stream",
     "text": [
      "58it [44:20, 46.97s/it]"
     ]
    },
    {
     "name": "stdout",
     "output_type": "stream",
     "text": [
      "7 7\n",
      "surroundings qc\n",
      "31 31\n",
      "facilities qc\n",
      "13 12\n",
      " \n",
      "\n",
      "\n",
      "\n",
      "\n",
      "Opening link- 58 https://www.booking.com/hotel/ph/tropicana-suites.html?label=gen173nr-1FCAEoggI46AdIM1gEaLQBiAEBmAEJuAEXyAEM2AEB6AEB-AELiAIBqAIDuALa9-ebBsACAdICJDNiMWUxMTlhLTc3ODEtNGI3NC05MWVlLTQ5MDA0MDQzYzY5NNgCBuACAQ&sid=b3a20c12be6b3d4d9b1b0a71b11d8898&aid=304142&ucfs=1&arphpl=1&checkin=2022-12-01&checkout=2022-12-02&dest_id=-2437894&dest_type=city&group_adults=2&req_adults=2&no_rooms=1&group_children=0&req_children=0&hpos=9&hapos=259&sr_order=popularity&nflt=ht_id%3D204&srpvid=7ca3572c9035002e&srepoch=1669119893&all_sr_blocks=368534707_119478904_0_0_0&highlighted_blocks=368534707_119478904_0_0_0&matching_block_id=368534707_119478904_0_0_0&sr_pri_blocks=368534707_119478904_0_0_0__309672&tpi_r=2&from=searchresults#hotelTmpl\n",
      "Done Exporting Data\n",
      "Closed Driver\n"
     ]
    },
    {
     "name": "stderr",
     "output_type": "stream",
     "text": [
      "59it [44:55, 43.35s/it]"
     ]
    },
    {
     "name": "stdout",
     "output_type": "stream",
     "text": [
      "7 7\n",
      "surroundings qc\n",
      "30 30\n",
      "facilities qc\n",
      "17 17\n",
      " \n",
      "\n",
      "\n",
      "\n",
      "\n",
      "Opening link- 59 https://www.booking.com/hotel/ph/reddoorz-plus-benitez-cubao.html?label=gen173nr-1FCAEoggI46AdIM1gEaLQBiAEBmAEJuAEXyAEM2AEB6AEB-AELiAIBqAIDuALa9-ebBsACAdICJDNiMWUxMTlhLTc3ODEtNGI3NC05MWVlLTQ5MDA0MDQzYzY5NNgCBuACAQ&sid=b3a20c12be6b3d4d9b1b0a71b11d8898&aid=304142&ucfs=1&arphpl=1&checkin=2022-12-01&checkout=2022-12-02&dest_id=-2437894&dest_type=city&group_adults=2&req_adults=2&no_rooms=1&group_children=0&req_children=0&hpos=10&hapos=260&sr_order=popularity&nflt=ht_id%3D204&srpvid=7ca3572c9035002e&srepoch=1669119893&all_sr_blocks=469302601_0_2_0_0&highlighted_blocks=469302601_0_2_0_0&matching_block_id=469302601_0_2_0_0&sr_pri_blocks=469302601_0_2_0_0__1347&tpi_r=1&from=searchresults#hotelTmpl\n",
      "Done Exporting Data\n",
      "Closed Driver\n"
     ]
    },
    {
     "name": "stderr",
     "output_type": "stream",
     "text": [
      "60it [45:22, 38.48s/it]"
     ]
    },
    {
     "name": "stdout",
     "output_type": "stream",
     "text": [
      "7 7\n",
      "surroundings qc\n",
      "35 35\n",
      "facilities qc\n",
      "7 6\n",
      " \n",
      "\n",
      "\n",
      "\n",
      "\n",
      "Opening link- 60 https://www.booking.com/hotel/ph/reddoorz-near-tambo-quirino-avenue.html?label=gen173nr-1FCAEoggI46AdIM1gEaLQBiAEBmAEJuAEXyAEM2AEB6AEB-AELiAIBqAIDuALa9-ebBsACAdICJDNiMWUxMTlhLTc3ODEtNGI3NC05MWVlLTQ5MDA0MDQzYzY5NNgCBuACAQ&sid=b3a20c12be6b3d4d9b1b0a71b11d8898&aid=304142&ucfs=1&arphpl=1&checkin=2022-12-01&checkout=2022-12-02&dest_id=-2437894&dest_type=city&group_adults=2&req_adults=2&no_rooms=1&group_children=0&req_children=0&hpos=11&hapos=261&sr_order=popularity&nflt=ht_id%3D204&srpvid=7ca3572c9035002e&srepoch=1669119893&all_sr_blocks=746403801_0_2_0_0&highlighted_blocks=746403801_0_2_0_0&matching_block_id=746403801_0_2_0_0&sr_pri_blocks=746403801_0_2_0_0__1473&tpi_r=1&from=searchresults#hotelTmpl\n",
      "Done Exporting Data\n",
      "Closed Driver\n"
     ]
    },
    {
     "name": "stderr",
     "output_type": "stream",
     "text": [
      "61it [46:06, 40.18s/it]"
     ]
    },
    {
     "name": "stdout",
     "output_type": "stream",
     "text": [
      "7 7\n",
      "surroundings qc\n",
      "32 32\n",
      "facilities qc\n",
      "8 7\n",
      " \n",
      "\n",
      "\n",
      "\n",
      "\n",
      "Opening link- 61 https://www.booking.com/hotel/ph/west-avenue-suites.html?label=gen173nr-1FCAEoggI46AdIM1gEaLQBiAEBmAEJuAEXyAEM2AEB6AEB-AELiAIBqAIDuALa9-ebBsACAdICJDNiMWUxMTlhLTc3ODEtNGI3NC05MWVlLTQ5MDA0MDQzYzY5NNgCBuACAQ&sid=b3a20c12be6b3d4d9b1b0a71b11d8898&aid=304142&ucfs=1&arphpl=1&checkin=2022-12-01&checkout=2022-12-02&dest_id=-2437894&dest_type=city&group_adults=2&req_adults=2&no_rooms=1&group_children=0&req_children=0&hpos=12&hapos=262&sr_order=popularity&nflt=ht_id%3D204&srpvid=7ca3572c9035002e&srepoch=1669119893&all_sr_blocks=275390109_362052606_0_0_0&highlighted_blocks=275390109_362052606_0_0_0&matching_block_id=275390109_362052606_0_0_0&sr_pri_blocks=275390109_362052606_0_0_0__143425&tpi_r=2&from=searchresults#hotelTmpl\n",
      "Done Exporting Data\n",
      "Closed Driver\n"
     ]
    },
    {
     "name": "stderr",
     "output_type": "stream",
     "text": [
      "62it [46:52, 41.96s/it]"
     ]
    },
    {
     "name": "stdout",
     "output_type": "stream",
     "text": [
      "7 7\n",
      "surroundings qc\n",
      "32 32\n",
      "facilities qc\n",
      "9 9\n",
      " \n",
      "\n",
      "\n",
      "\n",
      "\n",
      "Opening link- 62 https://www.booking.com/hotel/ph/spiral-suites.html?label=gen173nr-1FCAEoggI46AdIM1gEaLQBiAEBmAEJuAEXyAEM2AEB6AEB-AELiAIBqAIDuALa9-ebBsACAdICJDNiMWUxMTlhLTc3ODEtNGI3NC05MWVlLTQ5MDA0MDQzYzY5NNgCBuACAQ&sid=b3a20c12be6b3d4d9b1b0a71b11d8898&aid=304142&ucfs=1&arphpl=1&checkin=2022-12-01&checkout=2022-12-02&dest_id=-2437894&dest_type=city&group_adults=2&req_adults=2&no_rooms=1&group_children=0&req_children=0&hpos=13&hapos=263&sr_order=popularity&nflt=ht_id%3D204&srpvid=7ca3572c9035002e&srepoch=1669119893&all_sr_blocks=796815401_364624553_2_42_0&highlighted_blocks=796815401_364624553_2_42_0&matching_block_id=796815401_364624553_2_42_0&sr_pri_blocks=796815401_364624553_2_42_0__98175&tpi_r=2&from=searchresults#hotelTmpl\n",
      "Done Exporting Data\n",
      "Closed Driver\n"
     ]
    },
    {
     "name": "stderr",
     "output_type": "stream",
     "text": [
      "63it [47:40, 43.72s/it]"
     ]
    },
    {
     "name": "stdout",
     "output_type": "stream",
     "text": [
      "\n",
      "Error:\n",
      "list index out of range\n",
      "Skipping due to error\n",
      "\n",
      "\n",
      "Opening link- 63 https://www.booking.com/hotel/ph/sola-eleganza-apartelle.html?label=gen173nr-1FCAEoggI46AdIM1gEaLQBiAEBmAEJuAEXyAEM2AEB6AEB-AELiAIBqAIDuALa9-ebBsACAdICJDNiMWUxMTlhLTc3ODEtNGI3NC05MWVlLTQ5MDA0MDQzYzY5NNgCBuACAQ&sid=b3a20c12be6b3d4d9b1b0a71b11d8898&aid=304142&ucfs=1&arphpl=1&checkin=2022-12-01&checkout=2022-12-02&dest_id=-2437894&dest_type=city&group_adults=2&req_adults=2&no_rooms=1&group_children=0&req_children=0&hpos=14&hapos=264&sr_order=popularity&nflt=ht_id%3D204&srpvid=7ca3572c9035002e&srepoch=1669119893&all_sr_blocks=431667801_272212077_2_0_0&highlighted_blocks=431667801_272212077_2_0_0&matching_block_id=431667801_272212077_2_0_0&sr_pri_blocks=431667801_272212077_2_0_0__112200&tpi_r=2&from=searchresults#hotelTmpl\n",
      "Done Exporting Data\n",
      "Closed Driver\n"
     ]
    },
    {
     "name": "stderr",
     "output_type": "stream",
     "text": [
      "64it [48:25, 44.29s/it]"
     ]
    },
    {
     "name": "stdout",
     "output_type": "stream",
     "text": [
      "\n",
      "Error:\n",
      "list index out of range\n",
      "Skipping due to error\n",
      "\n",
      "\n",
      "Opening link- 64 https://www.booking.com/hotel/ph/dg-budget.html?label=gen173nr-1FCAEoggI46AdIM1gEaLQBiAEBmAEJuAEXyAEM2AEB6AEB-AELiAIBqAIDuALa9-ebBsACAdICJDNiMWUxMTlhLTc3ODEtNGI3NC05MWVlLTQ5MDA0MDQzYzY5NNgCBuACAQ&sid=b3a20c12be6b3d4d9b1b0a71b11d8898&aid=304142&ucfs=1&arphpl=1&checkin=2022-12-01&checkout=2022-12-02&dest_id=-2437894&dest_type=city&group_adults=2&req_adults=2&no_rooms=1&group_children=0&req_children=0&hpos=15&hapos=265&sr_order=popularity&nflt=ht_id%3D204&srpvid=7ca3572c9035002e&srepoch=1669119893&all_sr_blocks=60457510_0_2_0_0&highlighted_blocks=60457510_0_2_0_0&matching_block_id=60457510_0_2_0_0&sr_pri_blocks=60457510_0_2_0_0__1612&tpi_r=1&from=searchresults#hotelTmpl\n",
      "Done Exporting Data\n",
      "Closed Driver\n"
     ]
    },
    {
     "name": "stderr",
     "output_type": "stream",
     "text": [
      "65it [49:13, 45.23s/it]"
     ]
    },
    {
     "name": "stdout",
     "output_type": "stream",
     "text": [
      "7 7\n",
      "surroundings qc\n",
      "33 33\n",
      "facilities qc\n",
      "7 6\n",
      " \n",
      "\n",
      "\n",
      "\n",
      "\n",
      "Opening link- 65 https://www.booking.com/hotel/ph/oyo-474-nizami-condotel.html?label=gen173nr-1FCAEoggI46AdIM1gEaLQBiAEBmAEJuAEXyAEM2AEB6AEB-AELiAIBqAIDuALa9-ebBsACAdICJDNiMWUxMTlhLTc3ODEtNGI3NC05MWVlLTQ5MDA0MDQzYzY5NNgCBuACAQ&sid=b3a20c12be6b3d4d9b1b0a71b11d8898&aid=304142&ucfs=1&arphpl=1&checkin=2022-12-01&checkout=2022-12-02&dest_id=-2437894&dest_type=city&group_adults=2&req_adults=2&no_rooms=1&group_children=0&req_children=0&hpos=16&hapos=266&sr_order=popularity&nflt=ht_id%3D204&srpvid=7ca3572c9035002e&srepoch=1669119893&all_sr_blocks=586813802_357532448_2_0_0&highlighted_blocks=586813802_357532448_2_0_0&matching_block_id=586813802_357532448_2_0_0&sr_pri_blocks=586813802_357532448_2_0_0__146322&tpi_r=2&from=searchresults#hotelTmpl\n",
      "Done Exporting Data\n",
      "Closed Driver\n"
     ]
    },
    {
     "name": "stderr",
     "output_type": "stream",
     "text": [
      "66it [49:40, 39.91s/it]"
     ]
    },
    {
     "name": "stdout",
     "output_type": "stream",
     "text": [
      "7 7\n",
      "surroundings qc\n",
      "35 35\n",
      "facilities qc\n",
      "4 3\n",
      " \n",
      "\n",
      "\n",
      "\n",
      "\n",
      "Opening link- 66 https://www.booking.com/hotel/ph/eustacia-suites.html?label=gen173nr-1FCAEoggI46AdIM1gEaLQBiAEBmAEJuAEXyAEM2AEB6AEB-AELiAIBqAIDuALa9-ebBsACAdICJDNiMWUxMTlhLTc3ODEtNGI3NC05MWVlLTQ5MDA0MDQzYzY5NNgCBuACAQ&sid=b3a20c12be6b3d4d9b1b0a71b11d8898&aid=304142&ucfs=1&arphpl=1&checkin=2022-12-01&checkout=2022-12-02&dest_id=-2437894&dest_type=city&group_adults=2&req_adults=2&no_rooms=1&group_children=0&req_children=0&hpos=17&hapos=267&sr_order=popularity&nflt=ht_id%3D204&srpvid=7ca3572c9035002e&srepoch=1669119893&all_sr_blocks=254791204_204206809_0_2_0&highlighted_blocks=254791204_204206809_0_2_0&matching_block_id=254791204_204206809_0_2_0&sr_pri_blocks=254791204_204206809_0_2_0__133800&tpi_r=2&from=searchresults#hotelTmpl\n",
      "Done Exporting Data\n",
      "Closed Driver\n"
     ]
    },
    {
     "name": "stderr",
     "output_type": "stream",
     "text": [
      "67it [50:09, 36.41s/it]"
     ]
    },
    {
     "name": "stdout",
     "output_type": "stream",
     "text": [
      "7 7\n",
      "surroundings qc\n",
      "35 35\n",
      "facilities qc\n",
      "11 11\n",
      " \n",
      "\n",
      "\n",
      "\n",
      "\n",
      "Opening link- 67 https://www.booking.com/hotel/ph/the-residences-at-bcct.html?label=gen173nr-1FCAEoggI46AdIM1gEaLQBiAEBmAEJuAEXyAEM2AEB6AEB-AELiAIBqAIDuALa9-ebBsACAdICJDNiMWUxMTlhLTc3ODEtNGI3NC05MWVlLTQ5MDA0MDQzYzY5NNgCBuACAQ&sid=b3a20c12be6b3d4d9b1b0a71b11d8898&aid=304142&ucfs=1&arphpl=1&checkin=2022-12-01&checkout=2022-12-02&dest_id=-2437894&dest_type=city&group_adults=2&req_adults=2&no_rooms=1&group_children=0&req_children=0&hpos=18&hapos=268&sr_order=popularity&nflt=ht_id%3D204&srpvid=7ca3572c9035002e&srepoch=1669119893&all_sr_blocks=896083703_360197884_3_0_0&highlighted_blocks=896083703_360197884_3_0_0&matching_block_id=896083703_360197884_3_0_0&sr_pri_blocks=896083703_360197884_3_0_0__711068&tpi_r=2&from_sustainable_property_sr=1&from=searchresults#hotelTmpl\n",
      "Done Exporting Data\n",
      "Closed Driver\n"
     ]
    },
    {
     "name": "stderr",
     "output_type": "stream",
     "text": [
      "68it [50:58, 40.28s/it]"
     ]
    },
    {
     "name": "stdout",
     "output_type": "stream",
     "text": [
      "7 7\n",
      "surroundings qc\n",
      "35 35\n",
      "facilities qc\n",
      "17 16\n",
      " \n",
      "\n",
      "\n",
      "\n",
      "\n",
      "Opening link- 68 https://www.booking.com/hotel/ph/reddoorz-plus-jardin-suites-guadalupe-nuevo.html?label=gen173nr-1FCAEoggI46AdIM1gEaLQBiAEBmAEJuAEXyAEM2AEB6AEB-AELiAIBqAIDuALa9-ebBsACAdICJDNiMWUxMTlhLTc3ODEtNGI3NC05MWVlLTQ5MDA0MDQzYzY5NNgCBuACAQ&sid=b3a20c12be6b3d4d9b1b0a71b11d8898&aid=304142&ucfs=1&arphpl=1&checkin=2022-12-01&checkout=2022-12-02&dest_id=-2437894&dest_type=city&group_adults=2&req_adults=2&no_rooms=1&group_children=0&req_children=0&hpos=19&hapos=269&sr_order=popularity&nflt=ht_id%3D204&srpvid=7ca3572c9035002e&srepoch=1669119893&all_sr_blocks=651134403_278242579_0_0_0&highlighted_blocks=651134403_278242579_0_0_0&matching_block_id=651134403_278242579_0_0_0&sr_pri_blocks=651134403_278242579_0_0_0__84405&tpi_r=2&from=searchresults#hotelTmpl\n",
      "Done Exporting Data\n",
      "Closed Driver\n"
     ]
    },
    {
     "name": "stderr",
     "output_type": "stream",
     "text": [
      "69it [51:25, 36.35s/it]"
     ]
    },
    {
     "name": "stdout",
     "output_type": "stream",
     "text": [
      "7 7\n",
      "surroundings qc\n",
      "32 32\n",
      "facilities qc\n",
      "7 6\n",
      " \n",
      "\n",
      "\n",
      "\n",
      "\n",
      "Opening link- 69 https://www.booking.com/hotel/ph/tower-inn-makati-city.html?label=gen173nr-1FCAEoggI46AdIM1gEaLQBiAEBmAEJuAEXyAEM2AEB6AEB-AELiAIBqAIDuALa9-ebBsACAdICJDNiMWUxMTlhLTc3ODEtNGI3NC05MWVlLTQ5MDA0MDQzYzY5NNgCBuACAQ&sid=b3a20c12be6b3d4d9b1b0a71b11d8898&aid=304142&ucfs=1&arphpl=1&checkin=2022-12-01&checkout=2022-12-02&dest_id=-2437894&dest_type=city&group_adults=2&req_adults=2&no_rooms=1&group_children=0&req_children=0&hpos=20&hapos=270&sr_order=popularity&nflt=ht_id%3D204&srpvid=7ca3572c9035002e&srepoch=1669119893&all_sr_blocks=517332302_222205688_2_1_0&highlighted_blocks=517332302_222205688_2_1_0&matching_block_id=517332302_222205688_2_1_0&sr_pri_blocks=517332302_222205688_2_1_0__275902&tpi_r=2&from=searchresults#hotelTmpl\n",
      "Done Exporting Data\n",
      "Closed Driver\n"
     ]
    },
    {
     "name": "stderr",
     "output_type": "stream",
     "text": [
      "70it [52:11, 39.18s/it]"
     ]
    },
    {
     "name": "stdout",
     "output_type": "stream",
     "text": [
      "7 7\n",
      "surroundings qc\n",
      "34 34\n",
      "facilities qc\n",
      "9 8\n",
      " \n",
      "\n",
      "\n",
      "\n",
      "\n",
      "Opening link- 70 https://www.booking.com/hotel/ph/oyo-902-comfy-inn-manila.html?label=gen173nr-1FCAEoggI46AdIM1gEaLQBiAEBmAEJuAEXyAEM2AEB6AEB-AELiAIBqAIDuALa9-ebBsACAdICJDNiMWUxMTlhLTc3ODEtNGI3NC05MWVlLTQ5MDA0MDQzYzY5NNgCBuACAQ&sid=b3a20c12be6b3d4d9b1b0a71b11d8898&aid=304142&ucfs=1&arphpl=1&checkin=2022-12-01&checkout=2022-12-02&dest_id=-2437894&dest_type=city&group_adults=2&req_adults=2&no_rooms=1&group_children=0&req_children=0&hpos=21&hapos=271&sr_order=popularity&nflt=ht_id%3D204&srpvid=7ca3572c9035002e&srepoch=1669119893&all_sr_blocks=903084602_361116592_2_0_0&highlighted_blocks=903084602_361116592_2_0_0&matching_block_id=903084602_361116592_2_0_0&sr_pri_blocks=903084602_361116592_2_0_0__174524&tpi_r=2&from=searchresults#hotelTmpl\n",
      "Done Exporting Data\n",
      "Closed Driver\n"
     ]
    },
    {
     "name": "stderr",
     "output_type": "stream",
     "text": [
      "71it [52:56, 40.83s/it]"
     ]
    },
    {
     "name": "stdout",
     "output_type": "stream",
     "text": [
      "7 7\n",
      "surroundings qc\n",
      "33 33\n",
      "facilities qc\n",
      "9 8\n",
      " \n",
      "\n",
      "\n",
      "\n",
      "\n",
      "Opening link- 71 https://www.booking.com/hotel/ph/reddoorz-near-east-avenue-medical-center.html?label=gen173nr-1FCAEoggI46AdIM1gEaLQBiAEBmAEJuAEXyAEM2AEB6AEB-AELiAIBqAIDuALa9-ebBsACAdICJDNiMWUxMTlhLTc3ODEtNGI3NC05MWVlLTQ5MDA0MDQzYzY5NNgCBuACAQ&sid=b3a20c12be6b3d4d9b1b0a71b11d8898&aid=304142&ucfs=1&arphpl=1&checkin=2022-12-01&checkout=2022-12-02&dest_id=-2437894&dest_type=city&group_adults=2&req_adults=2&no_rooms=1&group_children=0&req_children=0&hpos=22&hapos=272&sr_order=popularity&nflt=ht_id%3D204&srpvid=7ca3572c9035002e&srepoch=1669119893&all_sr_blocks=591802305_0_2_0_0&highlighted_blocks=591802305_0_2_0_0&matching_block_id=591802305_0_2_0_0&sr_pri_blocks=591802305_0_2_0_0__1655&tpi_r=1&from=searchresults#hotelTmpl\n",
      "Done Exporting Data\n",
      "Closed Driver\n"
     ]
    },
    {
     "name": "stderr",
     "output_type": "stream",
     "text": [
      "72it [53:43, 42.77s/it]"
     ]
    },
    {
     "name": "stdout",
     "output_type": "stream",
     "text": [
      "7 7\n",
      "surroundings qc\n",
      "34 34\n",
      "facilities qc\n",
      "8 7\n",
      " \n",
      "\n",
      "\n",
      "\n",
      "\n",
      "Opening link- 72 https://www.booking.com/hotel/ph/oyo-518-mytown-amsterdam-manila.html?label=gen173nr-1FCAEoggI46AdIM1gEaLQBiAEBmAEJuAEXyAEM2AEB6AEB-AELiAIBqAIDuALa9-ebBsACAdICJDNiMWUxMTlhLTc3ODEtNGI3NC05MWVlLTQ5MDA0MDQzYzY5NNgCBuACAQ&sid=b3a20c12be6b3d4d9b1b0a71b11d8898&aid=304142&ucfs=1&arphpl=1&checkin=2022-12-01&checkout=2022-12-02&dest_id=-2437894&dest_type=city&group_adults=2&req_adults=2&no_rooms=1&group_children=0&req_children=0&hpos=23&hapos=273&sr_order=popularity&nflt=ht_id%3D204&srpvid=7ca3572c9035002e&srepoch=1669119893&all_sr_blocks=601616502_0_2_0_0&highlighted_blocks=601616502_0_2_0_0&matching_block_id=601616502_0_2_0_0&sr_pri_blocks=601616502_0_2_0_0__1430&tpi_r=1&from=searchresults#hotelTmpl\n",
      "Done Exporting Data\n",
      "Closed Driver\n"
     ]
    },
    {
     "name": "stderr",
     "output_type": "stream",
     "text": [
      "73it [54:29, 43.81s/it]"
     ]
    },
    {
     "name": "stdout",
     "output_type": "stream",
     "text": [
      "7 7\n",
      "surroundings qc\n",
      "35 35\n",
      "facilities qc\n",
      "7 6\n",
      " \n",
      "\n",
      "\n",
      "\n",
      "\n",
      "Opening link- 73 https://www.booking.com/hotel/ph/urbanview-san-antonio-39-s-place-sampaloc-manila.html?label=gen173nr-1FCAEoggI46AdIM1gEaLQBiAEBmAEJuAEXyAEM2AEB6AEB-AELiAIBqAIDuALa9-ebBsACAdICJDNiMWUxMTlhLTc3ODEtNGI3NC05MWVlLTQ5MDA0MDQzYzY5NNgCBuACAQ&sid=b3a20c12be6b3d4d9b1b0a71b11d8898&aid=304142&ucfs=1&arphpl=1&checkin=2022-12-01&checkout=2022-12-02&dest_id=-2437894&dest_type=city&group_adults=2&req_adults=2&no_rooms=1&group_children=0&req_children=0&hpos=24&hapos=274&sr_order=popularity&nflt=ht_id%3D204&srpvid=7ca3572c9035002e&srepoch=1669119893&all_sr_blocks=877567201_0_2_0_0&highlighted_blocks=877567201_0_2_0_0&matching_block_id=877567201_0_2_0_0&sr_pri_blocks=877567201_0_2_0_0__1895&tpi_r=1&from=searchresults#hotelTmpl\n",
      "Done Exporting Data\n",
      "Closed Driver\n"
     ]
    },
    {
     "name": "stderr",
     "output_type": "stream",
     "text": [
      "74it [54:56, 38.64s/it]"
     ]
    },
    {
     "name": "stdout",
     "output_type": "stream",
     "text": [
      "7 7\n",
      "surroundings qc\n",
      "31 31\n",
      "facilities qc\n",
      "9 8\n",
      " \n",
      "\n",
      "\n",
      "\n",
      "\n",
      "Opening link- 74 https://www.booking.com/hotel/ph/99.html?label=gen173nr-1FCAEoggI46AdIM1gEaLQBiAEBmAEJuAEXyAEM2AEB6AEB-AELiAIBqAIDuALa9-ebBsACAdICJDNiMWUxMTlhLTc3ODEtNGI3NC05MWVlLTQ5MDA0MDQzYzY5NNgCBuACAQ&sid=b3a20c12be6b3d4d9b1b0a71b11d8898&aid=304142&ucfs=1&arphpl=1&checkin=2022-12-01&checkout=2022-12-02&dest_id=-2437894&dest_type=city&group_adults=2&req_adults=2&no_rooms=1&group_children=0&req_children=0&hpos=25&hapos=275&sr_order=popularity&nflt=ht_id%3D204&srpvid=7ca3572c9035002e&srepoch=1669119893&all_sr_blocks=72782903_0_2_0_0&highlighted_blocks=72782903_0_2_0_0&matching_block_id=72782903_0_2_0_0&sr_pri_blocks=72782903_0_2_0_0__1557&tpi_r=1&from=searchresults#hotelTmpl\n",
      "Done Exporting Data\n",
      "Closed Driver\n"
     ]
    },
    {
     "name": "stderr",
     "output_type": "stream",
     "text": [
      "75it [55:41, 40.68s/it]"
     ]
    },
    {
     "name": "stdout",
     "output_type": "stream",
     "text": [
      "7 7\n",
      "surroundings qc\n",
      "32 32\n",
      "facilities qc\n",
      "13 12\n",
      " \n",
      "\n",
      "\n",
      "\n",
      "\n",
      "Opening link- 75 https://www.booking.com/hotel/ph/reddoorz-plus-near-johnson-and-johnson-paranaque.html?label=gen173nr-1FCAEoggI46AdIM1gEaLQBiAEBmAEJuAEXyAEM2AEB6AEB-AELiAIBqAIDuALa9-ebBsACAdICJDNiMWUxMTlhLTc3ODEtNGI3NC05MWVlLTQ5MDA0MDQzYzY5NNgCBuACAQ&sid=b3a20c12be6b3d4d9b1b0a71b11d8898&aid=304142&ucfs=1&arphpl=1&checkin=2022-12-01&checkout=2022-12-02&dest_id=-2437894&dest_type=city&group_adults=2&req_adults=2&no_rooms=1&group_children=0&req_children=0&hpos=1&hapos=276&sr_order=popularity&nflt=ht_id%3D204&srpvid=7ca3572c9035002e&srepoch=1669119898&all_sr_blocks=594268601_310855538_0_0_0&highlighted_blocks=594268601_310855538_0_0_0&matching_block_id=594268601_310855538_0_0_0&sr_pri_blocks=594268601_310855538_0_0_0__79601&tpi_r=2&from=searchresults#hotelTmpl\n",
      "Done Exporting Data\n",
      "Closed Driver\n",
      "7 7\n",
      "surroundings qc\n",
      "32 32\n",
      "facilities qc\n",
      "9 8\n",
      " \n",
      "\n",
      "\n"
     ]
    },
    {
     "name": "stderr",
     "output_type": "stream",
     "text": [
      "76it [56:26, 41.90s/it]"
     ]
    },
    {
     "name": "stdout",
     "output_type": "stream",
     "text": [
      "\n",
      "\n",
      "Opening link- 76 https://www.booking.com/hotel/ph/reddoorz-near-quiapo-church-manila.html?label=gen173nr-1FCAEoggI46AdIM1gEaLQBiAEBmAEJuAEXyAEM2AEB6AEB-AELiAIBqAIDuALa9-ebBsACAdICJDNiMWUxMTlhLTc3ODEtNGI3NC05MWVlLTQ5MDA0MDQzYzY5NNgCBuACAQ&sid=b3a20c12be6b3d4d9b1b0a71b11d8898&aid=304142&ucfs=1&arphpl=1&checkin=2022-12-01&checkout=2022-12-02&dest_id=-2437894&dest_type=city&group_adults=2&req_adults=2&no_rooms=1&group_children=0&req_children=0&hpos=2&hapos=277&sr_order=popularity&nflt=ht_id%3D204&srpvid=7ca3572c9035002e&srepoch=1669119898&all_sr_blocks=614960101_0_2_0_0&highlighted_blocks=614960101_0_2_0_0&matching_block_id=614960101_0_2_0_0&sr_pri_blocks=614960101_0_2_0_0__1211&tpi_r=1&from=searchresults#hotelTmpl\n",
      "Done Exporting Data\n",
      "Closed Driver\n"
     ]
    },
    {
     "name": "stderr",
     "output_type": "stream",
     "text": [
      "77it [57:10, 42.52s/it]"
     ]
    },
    {
     "name": "stdout",
     "output_type": "stream",
     "text": [
      "7 7\n",
      "surroundings qc\n",
      "32 32\n",
      "facilities qc\n",
      "7 6\n",
      " \n",
      "\n",
      "\n",
      "\n",
      "\n",
      "Opening link- 77 https://www.booking.com/hotel/ph/sola-eleganza-apartelle.html?label=gen173nr-1FCAEoggI46AdIM1gEaLQBiAEBmAEJuAEXyAEM2AEB6AEB-AELiAIBqAIDuALa9-ebBsACAdICJDNiMWUxMTlhLTc3ODEtNGI3NC05MWVlLTQ5MDA0MDQzYzY5NNgCBuACAQ&sid=b3a20c12be6b3d4d9b1b0a71b11d8898&aid=304142&ucfs=1&arphpl=1&checkin=2022-12-01&checkout=2022-12-02&dest_id=-2437894&dest_type=city&group_adults=2&req_adults=2&no_rooms=1&group_children=0&req_children=0&hpos=3&hapos=278&sr_order=popularity&nflt=ht_id%3D204&srpvid=7ca3572c9035002e&srepoch=1669119898&all_sr_blocks=431667801_272212077_2_0_0&highlighted_blocks=431667801_272212077_2_0_0&matching_block_id=431667801_272212077_2_0_0&sr_pri_blocks=431667801_272212077_2_0_0__112200&tpi_r=2&from=searchresults#hotelTmpl\n",
      "Done Exporting Data\n",
      "Closed Driver\n"
     ]
    },
    {
     "name": "stderr",
     "output_type": "stream",
     "text": [
      "78it [57:57, 44.02s/it]"
     ]
    },
    {
     "name": "stdout",
     "output_type": "stream",
     "text": [
      "\n",
      "Error:\n",
      "list index out of range\n",
      "Skipping due to error\n",
      "\n",
      "\n",
      "Opening link- 78 https://www.booking.com/hotel/ph/d-39-builders-rooms-new-lower-bicutan.html?label=gen173nr-1FCAEoggI46AdIM1gEaLQBiAEBmAEJuAEXyAEM2AEB6AEB-AELiAIBqAIDuALa9-ebBsACAdICJDNiMWUxMTlhLTc3ODEtNGI3NC05MWVlLTQ5MDA0MDQzYzY5NNgCBuACAQ&sid=b3a20c12be6b3d4d9b1b0a71b11d8898&aid=304142&ucfs=1&arphpl=1&checkin=2022-12-01&checkout=2022-12-02&dest_id=-2437894&dest_type=city&group_adults=2&req_adults=2&no_rooms=1&group_children=0&req_children=0&hpos=4&hapos=279&sr_order=popularity&nflt=ht_id%3D204&srpvid=7ca3572c9035002e&srepoch=1669119898&all_sr_blocks=391549403_339137719_0_0_0&highlighted_blocks=391549403_339137719_0_0_0&matching_block_id=391549403_339137719_0_0_0&sr_pri_blocks=391549403_339137719_0_0_0__90273&tpi_r=2&from=searchresults#hotelTmpl\n",
      "Done Exporting Data\n",
      "Closed Driver\n"
     ]
    },
    {
     "name": "stderr",
     "output_type": "stream",
     "text": [
      "79it [58:42, 44.10s/it]"
     ]
    },
    {
     "name": "stdout",
     "output_type": "stream",
     "text": [
      "7 7\n",
      "surroundings qc\n",
      "34 34\n",
      "facilities qc\n",
      "8 7\n",
      " \n",
      "\n",
      "\n",
      "\n",
      "\n",
      "Opening link- 79 https://www.booking.com/hotel/ph/reddoorz-plus-robinson-39-s-circle.html?label=gen173nr-1FCAEoggI46AdIM1gEaLQBiAEBmAEJuAEXyAEM2AEB6AEB-AELiAIBqAIDuALa9-ebBsACAdICJDNiMWUxMTlhLTc3ODEtNGI3NC05MWVlLTQ5MDA0MDQzYzY5NNgCBuACAQ&sid=b3a20c12be6b3d4d9b1b0a71b11d8898&aid=304142&ucfs=1&arphpl=1&checkin=2022-12-01&checkout=2022-12-02&dest_id=-2437894&dest_type=city&group_adults=2&req_adults=2&no_rooms=1&group_children=0&req_children=0&hpos=5&hapos=280&sr_order=popularity&nflt=ht_id%3D204&srpvid=7ca3572c9035002e&srepoch=1669119898&all_sr_blocks=714949301_0_2_0_0&highlighted_blocks=714949301_0_2_0_0&matching_block_id=714949301_0_2_0_0&sr_pri_blocks=714949301_0_2_0_0__1514&tpi_r=1&from=searchresults#hotelTmpl\n",
      "Done Exporting Data\n",
      "Closed Driver\n"
     ]
    },
    {
     "name": "stderr",
     "output_type": "stream",
     "text": [
      "80it [59:25, 43.87s/it]"
     ]
    },
    {
     "name": "stdout",
     "output_type": "stream",
     "text": [
      "7 7\n",
      "surroundings qc\n",
      "32 32\n",
      "facilities qc\n",
      "8 7\n",
      " \n",
      "\n",
      "\n",
      "\n",
      "\n",
      "Opening link- 80 https://www.booking.com/hotel/ph/la-belle-residences.html?label=gen173nr-1FCAEoggI46AdIM1gEaLQBiAEBmAEJuAEXyAEM2AEB6AEB-AELiAIBqAIDuALa9-ebBsACAdICJDNiMWUxMTlhLTc3ODEtNGI3NC05MWVlLTQ5MDA0MDQzYzY5NNgCBuACAQ&sid=b3a20c12be6b3d4d9b1b0a71b11d8898&aid=304142&ucfs=1&arphpl=1&checkin=2022-12-01&checkout=2022-12-02&dest_id=-2437894&dest_type=city&group_adults=2&req_adults=2&no_rooms=1&group_children=0&req_children=0&hpos=6&hapos=281&sr_order=popularity&nflt=ht_id%3D204&srpvid=7ca3572c9035002e&srepoch=1669119898&all_sr_blocks=714489002_0_2_0_0&highlighted_blocks=714489002_0_2_0_0&matching_block_id=714489002_0_2_0_0&sr_pri_blocks=714489002_0_2_0_0__1942&tpi_r=1&from=searchresults#hotelTmpl\n",
      "Done Exporting Data\n",
      "Closed Driver\n"
     ]
    },
    {
     "name": "stderr",
     "output_type": "stream",
     "text": [
      "81it [1:00:09, 43.90s/it]"
     ]
    },
    {
     "name": "stdout",
     "output_type": "stream",
     "text": [
      "\n",
      "Error:\n",
      "list index out of range\n",
      "Skipping due to error\n",
      "\n",
      "\n",
      "Opening link- 81 https://www.booking.com/hotel/ph/99-monumento.html?label=gen173nr-1FCAEoggI46AdIM1gEaLQBiAEBmAEJuAEXyAEM2AEB6AEB-AELiAIBqAIDuALa9-ebBsACAdICJDNiMWUxMTlhLTc3ODEtNGI3NC05MWVlLTQ5MDA0MDQzYzY5NNgCBuACAQ&sid=b3a20c12be6b3d4d9b1b0a71b11d8898&aid=304142&ucfs=1&arphpl=1&checkin=2022-12-01&checkout=2022-12-02&dest_id=-2437894&dest_type=city&group_adults=2&req_adults=2&no_rooms=1&group_children=0&req_children=0&hpos=7&hapos=282&sr_order=popularity&nflt=ht_id%3D204&srpvid=7ca3572c9035002e&srepoch=1669119898&all_sr_blocks=224345602_0_2_0_0&highlighted_blocks=224345602_0_2_0_0&matching_block_id=224345602_0_2_0_0&sr_pri_blocks=224345602_0_2_0_0__1929&tpi_r=1&from=searchresults#hotelTmpl\n",
      "Done Exporting Data\n",
      "Closed Driver\n"
     ]
    },
    {
     "name": "stderr",
     "output_type": "stream",
     "text": [
      "82it [1:00:57, 45.07s/it]"
     ]
    },
    {
     "name": "stdout",
     "output_type": "stream",
     "text": [
      "7 7\n",
      "surroundings qc\n",
      "32 32\n",
      "facilities qc\n",
      "12 11\n",
      " \n",
      "\n",
      "\n",
      "\n",
      "\n",
      "Opening link- 82 https://www.booking.com/hotel/ph/soleste-suites.html?label=gen173nr-1FCAEoggI46AdIM1gEaLQBiAEBmAEJuAEXyAEM2AEB6AEB-AELiAIBqAIDuALa9-ebBsACAdICJDNiMWUxMTlhLTc3ODEtNGI3NC05MWVlLTQ5MDA0MDQzYzY5NNgCBuACAQ&sid=b3a20c12be6b3d4d9b1b0a71b11d8898&aid=304142&ucfs=1&arphpl=1&checkin=2022-12-01&checkout=2022-12-02&dest_id=-2437894&dest_type=city&group_adults=2&req_adults=2&no_rooms=1&group_children=0&req_children=0&hpos=8&hapos=283&sr_order=popularity&nflt=ht_id%3D204&srpvid=7ca3572c9035002e&srepoch=1669119898&all_sr_blocks=63198804_0_2_1_0&highlighted_blocks=63198804_0_2_1_0&matching_block_id=63198804_0_2_1_0&sr_pri_blocks=63198804_0_2_1_0__7877&tpi_r=1&from=searchresults#hotelTmpl\n",
      "Done Exporting Data\n",
      "Closed Driver\n"
     ]
    },
    {
     "name": "stderr",
     "output_type": "stream",
     "text": [
      "83it [1:01:44, 45.72s/it]"
     ]
    },
    {
     "name": "stdout",
     "output_type": "stream",
     "text": [
      "7 7\n",
      "surroundings qc\n",
      "34 34\n",
      "facilities qc\n",
      "13 13\n",
      " \n",
      "\n",
      "\n",
      "\n",
      "\n",
      "Opening link- 83 https://www.booking.com/hotel/ph/lourdes-suites.html?label=gen173nr-1FCAEoggI46AdIM1gEaLQBiAEBmAEJuAEXyAEM2AEB6AEB-AELiAIBqAIDuALa9-ebBsACAdICJDNiMWUxMTlhLTc3ODEtNGI3NC05MWVlLTQ5MDA0MDQzYzY5NNgCBuACAQ&sid=b3a20c12be6b3d4d9b1b0a71b11d8898&aid=304142&ucfs=1&arphpl=1&checkin=2022-12-01&checkout=2022-12-02&dest_id=-2437894&dest_type=city&group_adults=2&req_adults=2&no_rooms=1&group_children=0&req_children=0&hpos=9&hapos=284&sr_order=popularity&nflt=ht_id%3D204&srpvid=7ca3572c9035002e&srepoch=1669119898&all_sr_blocks=36702701_0_2_0_0&highlighted_blocks=36702701_0_2_0_0&matching_block_id=36702701_0_2_0_0&sr_pri_blocks=36702701_0_2_0_0__3402&tpi_r=1&from=searchresults#hotelTmpl\n",
      "Done Exporting Data\n",
      "Closed Driver\n"
     ]
    },
    {
     "name": "stderr",
     "output_type": "stream",
     "text": [
      "84it [1:02:29, 45.39s/it]"
     ]
    },
    {
     "name": "stdout",
     "output_type": "stream",
     "text": [
      "7 7\n",
      "surroundings qc\n",
      "31 31\n",
      "facilities qc\n",
      "12 12\n",
      " \n",
      "\n",
      "\n",
      "\n",
      "\n",
      "Opening link- 84 https://www.booking.com/hotel/ph/urbanview-san-antonio-39-s-place-sampaloc-manila.html?label=gen173nr-1FCAEoggI46AdIM1gEaLQBiAEBmAEJuAEXyAEM2AEB6AEB-AELiAIBqAIDuALa9-ebBsACAdICJDNiMWUxMTlhLTc3ODEtNGI3NC05MWVlLTQ5MDA0MDQzYzY5NNgCBuACAQ&sid=b3a20c12be6b3d4d9b1b0a71b11d8898&aid=304142&ucfs=1&arphpl=1&checkin=2022-12-01&checkout=2022-12-02&dest_id=-2437894&dest_type=city&group_adults=2&req_adults=2&no_rooms=1&group_children=0&req_children=0&hpos=10&hapos=285&sr_order=popularity&nflt=ht_id%3D204&srpvid=7ca3572c9035002e&srepoch=1669119898&all_sr_blocks=877567201_0_2_0_0&highlighted_blocks=877567201_0_2_0_0&matching_block_id=877567201_0_2_0_0&sr_pri_blocks=877567201_0_2_0_0__1895&tpi_r=1&from=searchresults#hotelTmpl\n",
      "Done Exporting Data\n",
      "Closed Driver\n"
     ]
    },
    {
     "name": "stderr",
     "output_type": "stream",
     "text": [
      "85it [1:03:13, 45.11s/it]"
     ]
    },
    {
     "name": "stdout",
     "output_type": "stream",
     "text": [
      "7 7\n",
      "surroundings qc\n",
      "34 34\n",
      "facilities qc\n",
      "9 8\n",
      " \n",
      "\n",
      "\n",
      "\n",
      "\n",
      "Opening link- 85 https://www.booking.com/hotel/ph/99-quiapo.html?label=gen173nr-1FCAEoggI46AdIM1gEaLQBiAEBmAEJuAEXyAEM2AEB6AEB-AELiAIBqAIDuALa9-ebBsACAdICJDNiMWUxMTlhLTc3ODEtNGI3NC05MWVlLTQ5MDA0MDQzYzY5NNgCBuACAQ&sid=b3a20c12be6b3d4d9b1b0a71b11d8898&aid=304142&ucfs=1&arphpl=1&checkin=2022-12-01&checkout=2022-12-02&dest_id=-2437894&dest_type=city&group_adults=2&req_adults=2&no_rooms=1&group_children=0&req_children=0&hpos=11&hapos=286&sr_order=popularity&nflt=ht_id%3D204&srpvid=7ca3572c9035002e&srepoch=1669119898&all_sr_blocks=206903302_0_2_0_0&highlighted_blocks=206903302_0_2_0_0&matching_block_id=206903302_0_2_0_0&sr_pri_blocks=206903302_0_2_0_0__1878&tpi_r=1&from=searchresults#hotelTmpl\n",
      "Done Exporting Data\n",
      "Closed Driver\n"
     ]
    },
    {
     "name": "stderr",
     "output_type": "stream",
     "text": [
      "86it [1:04:00, 45.81s/it]"
     ]
    },
    {
     "name": "stdout",
     "output_type": "stream",
     "text": [
      "7 7\n",
      "surroundings qc\n",
      "31 31\n",
      "facilities qc\n",
      "12 11\n",
      " \n",
      "\n",
      "\n",
      "\n",
      "\n",
      "Opening link- 86 https://www.booking.com/hotel/ph/99.html?label=gen173nr-1FCAEoggI46AdIM1gEaLQBiAEBmAEJuAEXyAEM2AEB6AEB-AELiAIBqAIDuALa9-ebBsACAdICJDNiMWUxMTlhLTc3ODEtNGI3NC05MWVlLTQ5MDA0MDQzYzY5NNgCBuACAQ&sid=b3a20c12be6b3d4d9b1b0a71b11d8898&aid=304142&ucfs=1&arphpl=1&checkin=2022-12-01&checkout=2022-12-02&dest_id=-2437894&dest_type=city&group_adults=2&req_adults=2&no_rooms=1&group_children=0&req_children=0&hpos=12&hapos=287&sr_order=popularity&nflt=ht_id%3D204&srpvid=7ca3572c9035002e&srepoch=1669119898&all_sr_blocks=72782903_0_2_0_0&highlighted_blocks=72782903_0_2_0_0&matching_block_id=72782903_0_2_0_0&sr_pri_blocks=72782903_0_2_0_0__1557&tpi_r=1&from=searchresults#hotelTmpl\n",
      "Done Exporting Data\n",
      "Closed Driver\n"
     ]
    },
    {
     "name": "stderr",
     "output_type": "stream",
     "text": [
      "87it [1:04:32, 41.42s/it]"
     ]
    },
    {
     "name": "stdout",
     "output_type": "stream",
     "text": [
      "7 7\n",
      "surroundings qc\n",
      "32 32\n",
      "facilities qc\n",
      "13 12\n",
      " \n",
      "\n",
      "\n",
      "\n",
      "\n",
      "Opening link- 87 https://www.booking.com/hotel/ph/reddoorz-near-tambo-quirino-avenue.html?label=gen173nr-1FCAEoggI46AdIM1gEaLQBiAEBmAEJuAEXyAEM2AEB6AEB-AELiAIBqAIDuALa9-ebBsACAdICJDNiMWUxMTlhLTc3ODEtNGI3NC05MWVlLTQ5MDA0MDQzYzY5NNgCBuACAQ&sid=b3a20c12be6b3d4d9b1b0a71b11d8898&aid=304142&ucfs=1&arphpl=1&checkin=2022-12-01&checkout=2022-12-02&dest_id=-2437894&dest_type=city&group_adults=2&req_adults=2&no_rooms=1&group_children=0&req_children=0&hpos=13&hapos=288&sr_order=popularity&nflt=ht_id%3D204&srpvid=7ca3572c9035002e&srepoch=1669119898&all_sr_blocks=746403801_0_2_0_0&highlighted_blocks=746403801_0_2_0_0&matching_block_id=746403801_0_2_0_0&sr_pri_blocks=746403801_0_2_0_0__1473&tpi_r=1&from=searchresults#hotelTmpl\n",
      "Done Exporting Data\n",
      "Closed Driver\n"
     ]
    },
    {
     "name": "stderr",
     "output_type": "stream",
     "text": [
      "88it [1:05:16, 42.25s/it]"
     ]
    },
    {
     "name": "stdout",
     "output_type": "stream",
     "text": [
      "7 7\n",
      "surroundings qc\n",
      "35 35\n",
      "facilities qc\n",
      "8 7\n",
      " \n",
      "\n",
      "\n",
      "\n",
      "\n",
      "Opening link- 88 https://www.booking.com/hotel/ph/eustacia-suites.html?label=gen173nr-1FCAEoggI46AdIM1gEaLQBiAEBmAEJuAEXyAEM2AEB6AEB-AELiAIBqAIDuALa9-ebBsACAdICJDNiMWUxMTlhLTc3ODEtNGI3NC05MWVlLTQ5MDA0MDQzYzY5NNgCBuACAQ&sid=b3a20c12be6b3d4d9b1b0a71b11d8898&aid=304142&ucfs=1&arphpl=1&checkin=2022-12-01&checkout=2022-12-02&dest_id=-2437894&dest_type=city&group_adults=2&req_adults=2&no_rooms=1&group_children=0&req_children=0&hpos=14&hapos=289&sr_order=popularity&nflt=ht_id%3D204&srpvid=7ca3572c9035002e&srepoch=1669119898&all_sr_blocks=254791204_204206809_0_2_0&highlighted_blocks=254791204_204206809_0_2_0&matching_block_id=254791204_204206809_0_2_0&sr_pri_blocks=254791204_204206809_0_2_0__133800&tpi_r=2&from=searchresults#hotelTmpl\n",
      "Done Exporting Data\n",
      "Closed Driver\n"
     ]
    },
    {
     "name": "stderr",
     "output_type": "stream",
     "text": [
      "89it [1:05:45, 38.23s/it]"
     ]
    },
    {
     "name": "stdout",
     "output_type": "stream",
     "text": [
      "7 7\n",
      "surroundings qc\n",
      "32 32\n",
      "facilities qc\n",
      "11 11\n",
      " \n",
      "\n",
      "\n",
      "\n",
      "\n",
      "Opening link- 89 https://www.booking.com/hotel/ph/prime.html?label=gen173nr-1FCAEoggI46AdIM1gEaLQBiAEBmAEJuAEXyAEM2AEB6AEB-AELiAIBqAIDuALa9-ebBsACAdICJDNiMWUxMTlhLTc3ODEtNGI3NC05MWVlLTQ5MDA0MDQzYzY5NNgCBuACAQ&sid=b3a20c12be6b3d4d9b1b0a71b11d8898&aid=304142&ucfs=1&arphpl=1&checkin=2022-12-01&checkout=2022-12-02&dest_id=-2437894&dest_type=city&group_adults=2&req_adults=2&no_rooms=1&group_children=0&req_children=0&hpos=15&hapos=290&sr_order=popularity&nflt=ht_id%3D204&srpvid=7ca3572c9035002e&srepoch=1669119898&all_sr_blocks=273488501_0_2_0_0&highlighted_blocks=273488501_0_2_0_0&matching_block_id=273488501_0_2_0_0&sr_pri_blocks=273488501_0_2_0_0__2992&tpi_r=1&from=searchresults#hotelTmpl\n",
      "Done Exporting Data\n",
      "Closed Driver\n"
     ]
    },
    {
     "name": "stderr",
     "output_type": "stream",
     "text": [
      "90it [1:06:15, 35.98s/it]"
     ]
    },
    {
     "name": "stdout",
     "output_type": "stream",
     "text": [
      "7 7\n",
      "surroundings qc\n",
      "35 35\n",
      "facilities qc\n",
      "15 14\n",
      " \n",
      "\n",
      "\n",
      "\n",
      "\n",
      "Opening link- 90 https://www.booking.com/hotel/ph/tower-inn-makati-city.html?label=gen173nr-1FCAEoggI46AdIM1gEaLQBiAEBmAEJuAEXyAEM2AEB6AEB-AELiAIBqAIDuALa9-ebBsACAdICJDNiMWUxMTlhLTc3ODEtNGI3NC05MWVlLTQ5MDA0MDQzYzY5NNgCBuACAQ&sid=b3a20c12be6b3d4d9b1b0a71b11d8898&aid=304142&ucfs=1&arphpl=1&checkin=2022-12-01&checkout=2022-12-02&dest_id=-2437894&dest_type=city&group_adults=2&req_adults=2&no_rooms=1&group_children=0&req_children=0&hpos=16&hapos=291&sr_order=popularity&nflt=ht_id%3D204&srpvid=7ca3572c9035002e&srepoch=1669119898&all_sr_blocks=517332302_222205688_2_1_0&highlighted_blocks=517332302_222205688_2_1_0&matching_block_id=517332302_222205688_2_1_0&sr_pri_blocks=517332302_222205688_2_1_0__275902&tpi_r=2&from=searchresults#hotelTmpl\n",
      "Done Exporting Data\n",
      "Closed Driver\n"
     ]
    },
    {
     "name": "stderr",
     "output_type": "stream",
     "text": [
      "91it [1:06:42, 33.26s/it]"
     ]
    },
    {
     "name": "stdout",
     "output_type": "stream",
     "text": [
      "7 7\n",
      "surroundings qc\n",
      "34 34\n",
      "facilities qc\n",
      "9 8\n",
      " \n",
      "\n",
      "\n",
      "\n",
      "\n",
      "Opening link- 91 https://www.booking.com/hotel/ph/shogun-suite.html?label=gen173nr-1FCAEoggI46AdIM1gEaLQBiAEBmAEJuAEXyAEM2AEB6AEB-AELiAIBqAIDuALa9-ebBsACAdICJDNiMWUxMTlhLTc3ODEtNGI3NC05MWVlLTQ5MDA0MDQzYzY5NNgCBuACAQ&sid=b3a20c12be6b3d4d9b1b0a71b11d8898&aid=304142&ucfs=1&arphpl=1&checkin=2022-12-01&checkout=2022-12-02&dest_id=-2437894&dest_type=city&group_adults=2&req_adults=2&no_rooms=1&group_children=0&req_children=0&hpos=17&hapos=292&sr_order=popularity&nflt=ht_id%3D204&srpvid=7ca3572c9035002e&srepoch=1669119898&all_sr_blocks=30691903_361064791_2_2_0&highlighted_blocks=30691903_361064791_2_2_0&matching_block_id=30691903_361064791_2_2_0&sr_pri_blocks=30691903_361064791_2_2_0__200698&tpi_r=2&from=searchresults#hotelTmpl\n",
      "Done Exporting Data\n",
      "Closed Driver\n"
     ]
    },
    {
     "name": "stderr",
     "output_type": "stream",
     "text": [
      "92it [1:07:12, 32.31s/it]"
     ]
    },
    {
     "name": "stdout",
     "output_type": "stream",
     "text": [
      "7 7\n",
      "surroundings qc\n",
      "32 32\n",
      "facilities qc\n",
      "11 11\n",
      " \n",
      "\n",
      "\n",
      "\n",
      "\n",
      "Opening link- 92 https://www.booking.com/hotel/ph/arzo-makati-annex.html?label=gen173nr-1FCAEoggI46AdIM1gEaLQBiAEBmAEJuAEXyAEM2AEB6AEB-AELiAIBqAIDuALa9-ebBsACAdICJDNiMWUxMTlhLTc3ODEtNGI3NC05MWVlLTQ5MDA0MDQzYzY5NNgCBuACAQ&sid=b3a20c12be6b3d4d9b1b0a71b11d8898&aid=304142&ucfs=1&arphpl=1&checkin=2022-12-01&checkout=2022-12-02&dest_id=-2437894&dest_type=city&group_adults=2&req_adults=2&no_rooms=1&group_children=0&req_children=0&hpos=18&hapos=293&sr_order=popularity&nflt=ht_id%3D204&srpvid=7ca3572c9035002e&srepoch=1669119898&all_sr_blocks=858859302_353571848_2_0_0&highlighted_blocks=858859302_353571848_2_0_0&matching_block_id=858859302_353571848_2_0_0&sr_pri_blocks=858859302_353571848_2_0_0__150535&tpi_r=2&from=searchresults#hotelTmpl\n",
      "Done Exporting Data\n",
      "Closed Driver\n"
     ]
    },
    {
     "name": "stderr",
     "output_type": "stream",
     "text": [
      "93it [1:07:40, 31.01s/it]"
     ]
    },
    {
     "name": "stdout",
     "output_type": "stream",
     "text": [
      "7 7\n",
      "surroundings qc\n",
      "31 31\n",
      "facilities qc\n",
      "11 10\n",
      " \n",
      "\n",
      "\n",
      "\n",
      "\n",
      "Opening link- 93 https://www.booking.com/hotel/ph/oyo-118-merlo.html?label=gen173nr-1FCAEoggI46AdIM1gEaLQBiAEBmAEJuAEXyAEM2AEB6AEB-AELiAIBqAIDuALa9-ebBsACAdICJDNiMWUxMTlhLTc3ODEtNGI3NC05MWVlLTQ5MDA0MDQzYzY5NNgCBuACAQ&sid=b3a20c12be6b3d4d9b1b0a71b11d8898&aid=304142&ucfs=1&arphpl=1&checkin=2022-12-01&checkout=2022-12-02&dest_id=-2437894&dest_type=city&group_adults=2&req_adults=2&no_rooms=1&group_children=0&req_children=0&hpos=19&hapos=294&sr_order=popularity&nflt=ht_id%3D204&srpvid=7ca3572c9035002e&srepoch=1669119898&all_sr_blocks=450264601_278132167_0_0_0&highlighted_blocks=450264601_278132167_0_0_0&matching_block_id=450264601_278132167_0_0_0&sr_pri_blocks=450264601_278132167_0_0_0__218500&tpi_r=2&from=searchresults#hotelTmpl\n",
      "Done Exporting Data\n",
      "Closed Driver\n"
     ]
    },
    {
     "name": "stderr",
     "output_type": "stream",
     "text": [
      "94it [1:08:11, 30.91s/it]"
     ]
    },
    {
     "name": "stdout",
     "output_type": "stream",
     "text": [
      "7 7\n",
      "surroundings qc\n",
      "31 31\n",
      "facilities qc\n",
      "15 15\n",
      " \n",
      "\n",
      "\n",
      "\n",
      "\n",
      "Opening link- 94 https://www.booking.com/hotel/ph/reddoorz-plus-d-39-builders-poblacion-bgc.html?label=gen173nr-1FCAEoggI46AdIM1gEaLQBiAEBmAEJuAEXyAEM2AEB6AEB-AELiAIBqAIDuALa9-ebBsACAdICJDNiMWUxMTlhLTc3ODEtNGI3NC05MWVlLTQ5MDA0MDQzYzY5NNgCBuACAQ&sid=b3a20c12be6b3d4d9b1b0a71b11d8898&aid=304142&ucfs=1&arphpl=1&checkin=2022-12-01&checkout=2022-12-02&dest_id=-2437894&dest_type=city&group_adults=2&req_adults=2&no_rooms=1&group_children=0&req_children=0&hpos=20&hapos=295&sr_order=popularity&nflt=ht_id%3D204&srpvid=7ca3572c9035002e&srepoch=1669119898&all_sr_blocks=864530302_0_2_0_0&highlighted_blocks=864530302_0_2_0_0&matching_block_id=864530302_0_2_0_0&sr_pri_blocks=864530302_0_2_0_0__1398&tpi_r=1&from=searchresults#hotelTmpl\n",
      "Done Exporting Data\n",
      "Closed Driver\n"
     ]
    },
    {
     "name": "stderr",
     "output_type": "stream",
     "text": [
      "95it [1:08:37, 29.31s/it]"
     ]
    },
    {
     "name": "stdout",
     "output_type": "stream",
     "text": [
      "7 7\n",
      "surroundings qc\n",
      "31 31\n",
      "facilities qc\n",
      "9 8\n",
      " \n",
      "\n",
      "\n",
      "\n",
      "\n",
      "Opening link- 95 https://www.booking.com/hotel/ph/ortigas-budget-kapitolyo.html?label=gen173nr-1FCAEoggI46AdIM1gEaLQBiAEBmAEJuAEXyAEM2AEB6AEB-AELiAIBqAIDuALa9-ebBsACAdICJDNiMWUxMTlhLTc3ODEtNGI3NC05MWVlLTQ5MDA0MDQzYzY5NNgCBuACAQ&sid=b3a20c12be6b3d4d9b1b0a71b11d8898&aid=304142&ucfs=1&arphpl=1&checkin=2022-12-01&checkout=2022-12-02&dest_id=-2437894&dest_type=city&group_adults=2&req_adults=2&no_rooms=1&group_children=0&req_children=0&hpos=21&hapos=296&sr_order=popularity&nflt=ht_id%3D204&srpvid=7ca3572c9035002e&srepoch=1669119898&all_sr_blocks=209121201_95734645_0_0_0&highlighted_blocks=209121201_95734645_0_0_0&matching_block_id=209121201_95734645_0_0_0&sr_pri_blocks=209121201_95734645_0_0_0__153000&tpi_r=2&from=searchresults#hotelTmpl\n",
      "Done Exporting Data\n",
      "Closed Driver\n"
     ]
    },
    {
     "name": "stderr",
     "output_type": "stream",
     "text": [
      "96it [1:09:07, 29.56s/it]"
     ]
    },
    {
     "name": "stdout",
     "output_type": "stream",
     "text": [
      "7 7\n",
      "surroundings qc\n",
      "35 35\n",
      "facilities qc\n",
      "10 10\n",
      " \n",
      "\n",
      "\n",
      "\n",
      "\n",
      "Opening link- 96 https://www.booking.com/hotel/ph/ranchotel-tunasan.html?label=gen173nr-1FCAEoggI46AdIM1gEaLQBiAEBmAEJuAEXyAEM2AEB6AEB-AELiAIBqAIDuALa9-ebBsACAdICJDNiMWUxMTlhLTc3ODEtNGI3NC05MWVlLTQ5MDA0MDQzYzY5NNgCBuACAQ&sid=b3a20c12be6b3d4d9b1b0a71b11d8898&aid=304142&ucfs=1&arphpl=1&checkin=2022-12-01&checkout=2022-12-02&dest_id=-2437894&dest_type=city&group_adults=2&req_adults=2&no_rooms=1&group_children=0&req_children=0&hpos=22&hapos=297&sr_order=popularity&nflt=ht_id%3D204&srpvid=7ca3572c9035002e&srepoch=1669119898&all_sr_blocks=590783503_360702402_2_0_0&highlighted_blocks=590783503_360702402_2_0_0&matching_block_id=590783503_360702402_2_0_0&sr_pri_blocks=590783503_360702402_2_0_0__112534&tpi_r=2&from=searchresults#hotelTmpl\n",
      "Done Exporting Data\n",
      "Closed Driver\n"
     ]
    },
    {
     "name": "stderr",
     "output_type": "stream",
     "text": [
      "97it [1:09:35, 29.16s/it]"
     ]
    },
    {
     "name": "stdout",
     "output_type": "stream",
     "text": [
      "\n",
      "Error:\n",
      "list index out of range\n",
      "Skipping due to error\n",
      "\n",
      "\n",
      "Opening link- 97 https://www.booking.com/hotel/ph/reddoorz-near-edsa-camp-crame.html?label=gen173nr-1FCAEoggI46AdIM1gEaLQBiAEBmAEJuAEXyAEM2AEB6AEB-AELiAIBqAIDuALa9-ebBsACAdICJDNiMWUxMTlhLTc3ODEtNGI3NC05MWVlLTQ5MDA0MDQzYzY5NNgCBuACAQ&sid=b3a20c12be6b3d4d9b1b0a71b11d8898&aid=304142&ucfs=1&arphpl=1&checkin=2022-12-01&checkout=2022-12-02&dest_id=-2437894&dest_type=city&group_adults=2&req_adults=2&no_rooms=1&group_children=0&req_children=0&hpos=23&hapos=298&sr_order=popularity&nflt=ht_id%3D204&srpvid=7ca3572c9035002e&srepoch=1669119898&all_sr_blocks=757374601_0_2_0_0&highlighted_blocks=757374601_0_2_0_0&matching_block_id=757374601_0_2_0_0&sr_pri_blocks=757374601_0_2_0_0__1339&tpi_r=1&from_sustainable_property_sr=1&from=searchresults#hotelTmpl\n",
      "Done Exporting Data\n",
      "Closed Driver\n"
     ]
    },
    {
     "name": "stderr",
     "output_type": "stream",
     "text": [
      "98it [1:10:01, 28.26s/it]"
     ]
    },
    {
     "name": "stdout",
     "output_type": "stream",
     "text": [
      "7 7\n",
      "surroundings qc\n",
      "32 32\n",
      "facilities qc\n",
      "9 8\n",
      " \n",
      "\n",
      "\n",
      "\n",
      "\n",
      "Opening link- 98 https://www.booking.com/hotel/ph/soriente.html?label=gen173nr-1FCAEoggI46AdIM1gEaLQBiAEBmAEJuAEXyAEM2AEB6AEB-AELiAIBqAIDuALa9-ebBsACAdICJDNiMWUxMTlhLTc3ODEtNGI3NC05MWVlLTQ5MDA0MDQzYzY5NNgCBuACAQ&sid=b3a20c12be6b3d4d9b1b0a71b11d8898&aid=304142&ucfs=1&arphpl=1&checkin=2022-12-01&checkout=2022-12-02&dest_id=-2437894&dest_type=city&group_adults=2&req_adults=2&no_rooms=1&group_children=0&req_children=0&hpos=24&hapos=299&sr_order=popularity&nflt=ht_id%3D204&srpvid=7ca3572c9035002e&srepoch=1669119898&all_sr_blocks=41633801_0_2_0_0&highlighted_blocks=41633801_0_2_0_0&matching_block_id=41633801_0_2_0_0&sr_pri_blocks=41633801_0_2_0_0__3225&tpi_r=1&from=searchresults#hotelTmpl\n",
      "Done Exporting Data\n",
      "Closed Driver\n"
     ]
    },
    {
     "name": "stderr",
     "output_type": "stream",
     "text": [
      "99it [1:10:29, 28.14s/it]"
     ]
    },
    {
     "name": "stdout",
     "output_type": "stream",
     "text": [
      "7 7\n",
      "surroundings qc\n",
      "29 29\n",
      "facilities qc\n",
      "7 7\n",
      " \n",
      "\n",
      "\n",
      "\n",
      "\n",
      "Opening link- 99 https://www.booking.com/hotel/ph/skylab213b.html?label=gen173nr-1FCAEoggI46AdIM1gEaLQBiAEBmAEJuAEXyAEM2AEB6AEB-AELiAIBqAIDuALa9-ebBsACAdICJDNiMWUxMTlhLTc3ODEtNGI3NC05MWVlLTQ5MDA0MDQzYzY5NNgCBuACAQ&sid=b3a20c12be6b3d4d9b1b0a71b11d8898&aid=304142&ucfs=1&arphpl=1&checkin=2022-12-01&checkout=2022-12-02&dest_id=-2437894&dest_type=city&group_adults=2&req_adults=2&no_rooms=1&group_children=0&req_children=0&hpos=25&hapos=300&sr_order=popularity&nflt=ht_id%3D204&srpvid=7ca3572c9035002e&srepoch=1669119898&all_sr_blocks=230501003_179876537_2_0_0&highlighted_blocks=230501003_179876537_2_0_0&matching_block_id=230501003_179876537_2_0_0&sr_pri_blocks=230501003_179876537_2_0_0__159801&tpi_r=2&from=searchresults#hotelTmpl\n",
      "Done Exporting Data\n",
      "Closed Driver\n"
     ]
    },
    {
     "name": "stderr",
     "output_type": "stream",
     "text": [
      "100it [1:11:01, 42.61s/it]"
     ]
    },
    {
     "name": "stdout",
     "output_type": "stream",
     "text": [
      "7 7\n",
      "surroundings qc\n",
      "35 35\n",
      "facilities qc\n",
      "20 20\n",
      " \n",
      "\n",
      "\n"
     ]
    },
    {
     "name": "stderr",
     "output_type": "stream",
     "text": [
      "\n"
     ]
    }
   ],
   "source": [
    "## run this chunk to scrape hotel info\n",
    "## check data_scraper.py for full code of functions\n",
    "## the output csv and pkl file can be found on the home directory\n",
    "\n",
    "scrape_hotel_info(urls=\"data/manila_url2.csv\", start_index = 200, end_index = 300)\n",
    "sleep(random.randint(5,10))"
   ]
  }
 ],
 "metadata": {
  "kernelspec": {
   "display_name": "Python 3.9.13 64-bit",
   "language": "python",
   "name": "python3"
  },
  "language_info": {
   "codemirror_mode": {
    "name": "ipython",
    "version": 3
   },
   "file_extension": ".py",
   "mimetype": "text/x-python",
   "name": "python",
   "nbconvert_exporter": "python",
   "pygments_lexer": "ipython3",
   "version": "3.9.13"
  },
  "orig_nbformat": 4,
  "vscode": {
   "interpreter": {
    "hash": "9dab0687f601caaf62d1509275a7d9bd505f2a32cc5f4a04eac762229330bbf1"
   }
  }
 },
 "nbformat": 4,
 "nbformat_minor": 2
}
