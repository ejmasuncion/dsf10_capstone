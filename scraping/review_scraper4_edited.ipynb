{
 "cells": [
  {
   "cell_type": "code",
   "execution_count": 14,
   "id": "9d66ebd1",
   "metadata": {},
   "outputs": [],
   "source": [
    "import bs4\n",
    "import random\n",
    "from lxml import etree\n",
    "\n",
    "import pandas as pd\n",
    "import time\n",
    "from bs4 import BeautifulSoup\n",
    "from selenium import webdriver\n",
    "from selenium.webdriver.common.by import By\n",
    "from selenium.webdriver.support.ui import WebDriverWait\n",
    "from selenium.webdriver.support import expected_conditions as EC\n",
    "from selenium.webdriver.chrome.service import Service\n",
    "from selenium.webdriver.chrome.options import Options\n",
    "from selenium.webdriver.common.keys import Keys\n",
    "from selenium.common.exceptions import TimeoutException\n",
    "from selenium.common.exceptions import NoSuchElementException\n",
    "from time import sleep\n",
    "\n",
    "from webdriver_manager.chrome import ChromeDriverManager"
   ]
  },
  {
   "cell_type": "code",
   "execution_count": 30,
   "id": "bed24ef9",
   "metadata": {},
   "outputs": [
    {
     "data": {
      "text/plain": [
       "'https://www.booking.com/hotel/ph/midas-hotel-and-casino.html?label=gen173nr-1FCAEoggI46AdIM1gEaLQBiAEBmAEJuAEXyAEM2AEB6AEB-AELiAIBqAIDuALa9-ebBsACAdICJDNiMWUxMTlhLTc3ODEtNGI3NC05MWVlLTQ5MDA0MDQzYzY5NNgCBuACAQ&sid=b3a20c12be6b3d4d9b1b0a71b11d8898&aid=304142&ucfs=1&arphpl=1&checkin=2022-12-01&checkout=2022-12-02&dest_id=-2437894&dest_type=city&group_adults=2&req_adults=2&no_rooms=1&group_children=0&req_children=0&hpos=1&hapos=1&sr_order=popularity&nflt=ht_id%3D204&srpvid=7ca3572c9035002e&srepoch=1669119834&all_sr_blocks=63717502_357003256_2_41_0&highlighted_blocks=63717502_357003256_2_41_0&matching_block_id=63717502_357003256_2_41_0&sr_pri_blocks=63717502_357003256_2_41_0__438520&tpi_r=2&from=searchresults#hotelTmpl'"
      ]
     },
     "execution_count": 30,
     "metadata": {},
     "output_type": "execute_result"
    }
   ],
   "source": [
    "df=pd.read_csv(\"data/all_manila_hotels_v2.csv\")\n",
    "links = df.url\n",
    "links = links.head(3)\n",
    "# links.tolist()\n",
    "# links\n",
    "links[0]"
   ]
  },
  {
   "cell_type": "code",
   "execution_count": 53,
   "id": "80ee4430",
   "metadata": {},
   "outputs": [
    {
     "ename": "SyntaxError",
     "evalue": "invalid syntax (2376800835.py, line 109)",
     "output_type": "error",
     "traceback": [
      "\u001b[1;36m  Cell \u001b[1;32mIn [53], line 109\u001b[1;36m\u001b[0m\n\u001b[1;33m    print(\"Current Page- \" +current page)\u001b[0m\n\u001b[1;37m                                    ^\u001b[0m\n\u001b[1;31mSyntaxError\u001b[0m\u001b[1;31m:\u001b[0m invalid syntax\n"
     ]
    }
   ],
   "source": [
    "def review_details(dom,main_dict,current_page):\n",
    "    country_list=[i for i in dom.xpath(\"//div[@class='c-review-block']//div[1]//div[@class='c-review-block__row c-review-block__guest']//div[@class='bui-avatar-block__text']//span[@class='bui-avatar-block__subtitle']//text()\") if i!='\\n']\n",
    "    for count,i in enumerate(dom.xpath(\"//div[@class='c-review-block']\")):\n",
    "        \n",
    "        try:\n",
    "            country=country_list[count]\n",
    "        except:\n",
    "            country=\"\"\n",
    "        inner_dict={}\n",
    "        #Left Block\n",
    "        \n",
    "        try:\n",
    "            name=i.findall(\"div\")[1].findall(\"div//span[@class='bui-avatar-block__title']\")[0].text\n",
    "        except:\n",
    "            name=\"\"\n",
    "        \n",
    "        try:\n",
    "            room_type=i.findall(\"div\")[1].findall(\"div\")[0].findall(\"div[@class='c-review-block__row c-review-block__room-info-row']//ul/li//a//div\")[0].text\n",
    "        except:\n",
    "            room_type=\"\"\n",
    "        \n",
    "        try:\n",
    "            nights_stayed=i.findall(\"div\")[1].findall(\"div\")[0].findall(\"ul[@class='bui-list bui-list--text bui-list--icon bui_font_caption c-review-block__row c-review-block__stay-date']//li//div\")[0].text\n",
    "        except:\n",
    "            nights_stayed=\"\"\n",
    "            \n",
    "        try:\n",
    "            month_stayed=i.findall(\"div\")[1].findall(\"div\")[0].findall(\"ul[@class='bui-list bui-list--text bui-list--icon bui_font_caption c-review-block__row c-review-block__stay-date']//li//div//span\")[0].text\n",
    "        except:\n",
    "            month_stayed=\"\"\n",
    "            \n",
    "            \n",
    "        try:\n",
    "            occupant_type=i.findall(\"div\")[1].findall(\"div\")[0].findall(\"ul[@class='bui-list bui-list--text bui-list--icon bui_font_caption review-panel-wide__traveller_type c-review-block__row']//li//div\")[0].text\n",
    "        except:\n",
    "            occupant_type=\"\"\n",
    "        \n",
    "        try:\n",
    "            date_reviewed=i.findall(\"div\")[1].findall(\"div//span[@class='c-review-block__date']\")[0].text\n",
    "        except:\n",
    "            date_reviewed=\"\"\n",
    "        \n",
    "        try:\n",
    "            review_score=i.findall(\"div\")[1].findall(\"div\")[1].findall(\"div\")[0].findall(\"div[@class='bui-grid']\")[0] \\\n",
    "              .findall(\"div[@class='bui-grid__column-1 bui-u-text-right']//div//div\")[0].text\n",
    "        except:\n",
    "            review_score=\"\"\n",
    "        \n",
    "        #Right Block\n",
    "        \n",
    "        try:\n",
    "            short_review=i.findall(\"div\")[1].findall(\"div//h3\")[0].text\n",
    "        except:\n",
    "            short_review=\"\"\n",
    "            \n",
    "        try:\n",
    "            positive_review=i.findall(\"div\")[1].findall(\"div\")[1].findall(\"div\")[1].findall(\"div//div[@class='c-review__row']\" +\n",
    "                            \"//p//span[@class='c-review__body']\")[0].text\n",
    "        except:\n",
    "            positive_review=\"\"\n",
    "\n",
    "        try:\n",
    "            negative_review=i.findall(\"div\")[1].findall(\"div\")[1].findall(\"div\")[1].findall(\"div//div[@class='c-review__row lalala']\" +\n",
    "                         \"//p//span[@class='c-review__body']\")[0].text\n",
    "        except:\n",
    "            negative_review=\"\"\n",
    "\n",
    "        inner_dict={\"name\":name, \"room_type\":room_type, \"nights_stayed\":nights_stayed, \"month_stayed\":month_stayed,\n",
    "                    \"occupant_type\":occupant_type, \"from_country\":country,\"review_score\":review_score,\n",
    "                   \"date_reviewed\":date_reviewed,\"short_review\":short_review,\"positive_review\":positive_review,\n",
    "                    \"negative_review\":negative_review\n",
    "                   }\n",
    "\n",
    "        main_dict[\"From Page \"+str(current_page)+\", Person- \"+ str(count+1)]=inner_dict\n",
    "\n",
    "\n",
    "\n",
    "\n",
    "def get_review_body(url):\n",
    "    driver = webdriver.Chrome(service=Service(ChromeDriverManager().install()))\n",
    "    driver.get(url)\n",
    "    driver.maximize_window()\n",
    "\n",
    "\n",
    "    time.sleep(3)\n",
    "    driver.execute_script('window.scrollTo(0, 100)')\n",
    "        \n",
    "    #click Read all reviews button\n",
    "    \n",
    "\n",
    "    \n",
    "    \n",
    "    driver.find_element(by=\"xpath\", value=\"//a[@data-target= 'hp-reviews-sliding']\").click()\n",
    "    #Switch to review window\n",
    "    driver.switch_to.window(driver.window_handles[0])\n",
    "\n",
    "    soup = BeautifulSoup(driver.page_source,\"html.parser\")\n",
    "\n",
    "    #get min and max pages\n",
    "    current_page = 1\n",
    "    time.sleep(3)\n",
    "    last = driver.find_element(by=\"xpath\", value=\"//*[@id='review_list_page_container']/div[4]/div/div[1]/div/div[2]/div/div[7]/a/span[2]\").text\n",
    "    last2 = last.split(\" \")\n",
    "    last_page = int(last2[1])\n",
    "    print(\"Total Pages- \" + str(last_page))\n",
    "    review_body=[]\n",
    "    main_dict={}\n",
    "    while current_page <= last_page:\n",
    "        print(\"Current Page- \" +str(current page))\n",
    "        time.sleep(3)\n",
    "        \n",
    "        page_source=driver.page_source\n",
    "        soup=bs4.BeautifulSoup(page_source,'lxml')\n",
    "        dom = etree.HTML(str(soup))\n",
    "        \n",
    "        \n",
    "        review_details(dom,main_dict,current_page)\n",
    "        \n",
    "        time.sleep(3)\n",
    "        if current_page<last_page:\n",
    "            driver.find_element(by=\"xpath\", value=\"//a[contains(@class, 'pagenext')]\").click()\n",
    "        current_page +=1\n",
    "    \n",
    "    driver.quit()\n",
    "    dict_to_df={\"url\":url,\"All_reviews\":main_dict}\n",
    "    df=pd.DataFrame({k: pd.Series([v]) for k,v in dict_to_df.items()})\n",
    "    return df\n"
   ]
  },
  {
   "cell_type": "markdown",
   "id": "8bb6b0d9-7d66-4422-b1ba-748dc713c2ac",
   "metadata": {},
   "source": [
    "# Run on multiple URL's"
   ]
  },
  {
   "cell_type": "code",
   "execution_count": 59,
   "id": "effdfc0d-91b6-4180-ba2d-b83432e526cf",
   "metadata": {},
   "outputs": [
    {
     "name": "stderr",
     "output_type": "stream",
     "text": [
      "0it [00:00, ?it/s]"
     ]
    },
    {
     "name": "stdout",
     "output_type": "stream",
     "text": [
      "Opening link- 0 https://www.booking.com/hotel/ph/seda-residences-makati.html?label=gen173nr-1FCAEoggI46AdIM1gEaLQBiAEBmAEJuAEXyAEM2AEB6AEB-AELiAIBqAIDuALa9-ebBsACAdICJDNiMWUxMTlhLTc3ODEtNGI3NC05MWVlLTQ5MDA0MDQzYzY5NNgCBuACAQ&sid=b3a20c12be6b3d4d9b1b0a71b11d8898&aid=304142&ucfs=1&arphpl=1&checkin=2022-12-01&checkout=2022-12-02&dest_id=-2437894&dest_type=city&group_adults=2&req_adults=2&no_rooms=1&group_children=0&req_children=0&hpos=4&hapos=104&sr_order=popularity&nflt=ht_id%3D204&srpvid=7ca3572c9035002e&srepoch=1669119861&all_sr_blocks=465341501_203119067_0_1_0&highlighted_blocks=465341501_203119067_0_1_0&matching_block_id=465341501_203119067_0_1_0&sr_pri_blocks=465341501_203119067_0_1_0__556325&from=searchresults#hotelTmpl\n"
     ]
    },
    {
     "name": "stderr",
     "output_type": "stream",
     "text": [
      "1it [03:31, 211.86s/it]"
     ]
    },
    {
     "name": "stdout",
     "output_type": "stream",
     "text": [
      " \n",
      "Opening link- 1 https://www.booking.com/hotel/ph/go-hotels-manila-airport-road.html?label=gen173nr-1FCAEoggI46AdIM1gEaLQBiAEBmAEJuAEXyAEM2AEB6AEB-AELiAIBqAIDuALa9-ebBsACAdICJDNiMWUxMTlhLTc3ODEtNGI3NC05MWVlLTQ5MDA0MDQzYzY5NNgCBuACAQ&sid=b3a20c12be6b3d4d9b1b0a71b11d8898&aid=304142&ucfs=1&arphpl=1&checkin=2022-12-01&checkout=2022-12-02&dest_id=-2437894&dest_type=city&group_adults=2&req_adults=2&no_rooms=1&group_children=0&req_children=0&hpos=6&hapos=106&sr_order=popularity&nflt=ht_id%3D204&srpvid=7ca3572c9035002e&srepoch=1669119861&all_sr_blocks=175599003_261884663_0_0_0&highlighted_blocks=175599003_261884663_0_0_0&matching_block_id=175599003_261884663_0_0_0&sr_pri_blocks=175599003_261884663_0_0_0__184400&from=searchresults#hotelTmpl\n"
     ]
    },
    {
     "name": "stderr",
     "output_type": "stream",
     "text": [
      "2it [08:57, 278.70s/it]"
     ]
    },
    {
     "name": "stdout",
     "output_type": "stream",
     "text": [
      " \n",
      "Opening link- 2 https://www.booking.com/hotel/ph/vivere-hotel-and-resorts.html?label=gen173nr-1FCAEoggI46AdIM1gEaLQBiAEBmAEJuAEXyAEM2AEB6AEB-AELiAIBqAIDuALa9-ebBsACAdICJDNiMWUxMTlhLTc3ODEtNGI3NC05MWVlLTQ5MDA0MDQzYzY5NNgCBuACAQ&sid=b3a20c12be6b3d4d9b1b0a71b11d8898&aid=304142&ucfs=1&arphpl=1&checkin=2022-12-01&checkout=2022-12-02&dest_id=-2437894&dest_type=city&group_adults=2&req_adults=2&no_rooms=1&group_children=0&req_children=0&hpos=7&hapos=107&sr_order=popularity&nflt=ht_id%3D204&srpvid=7ca3572c9035002e&srepoch=1669119861&all_sr_blocks=63717401_232584350_0_0_0&highlighted_blocks=63717401_232584350_0_0_0&matching_block_id=63717401_232584350_0_0_0&sr_pri_blocks=63717401_232584350_0_0_0__298893&from=searchresults#hotelTmpl\n"
     ]
    },
    {
     "name": "stderr",
     "output_type": "stream",
     "text": [
      "2it [10:12, 306.06s/it]\n"
     ]
    },
    {
     "ename": "ElementNotInteractableException",
     "evalue": "Message: element not interactable\n  (Session info: chrome=107.0.5304.107)\nStacktrace:\nBacktrace:\n\tOrdinal0 [0x0080ACD3+2075859]\n\tOrdinal0 [0x0079EE61+1633889]\n\tOrdinal0 [0x0069B680+571008]\n\tOrdinal0 [0x006CBBD6+768982]\n\tOrdinal0 [0x006C1C76+728182]\n\tOrdinal0 [0x006E731C+881436]\n\tOrdinal0 [0x006C15BF+726463]\n\tOrdinal0 [0x006E7534+881972]\n\tOrdinal0 [0x006FB56A+963946]\n\tOrdinal0 [0x006E7136+880950]\n\tOrdinal0 [0x006BFEFD+720637]\n\tOrdinal0 [0x006C0F3F+724799]\n\tGetHandleVerifier [0x00ABEED2+2769538]\n\tGetHandleVerifier [0x00AB0D95+2711877]\n\tGetHandleVerifier [0x0089A03A+521194]\n\tGetHandleVerifier [0x00898DA0+516432]\n\tOrdinal0 [0x007A682C+1665068]\n\tOrdinal0 [0x007AB128+1683752]\n\tOrdinal0 [0x007AB215+1683989]\n\tOrdinal0 [0x007B6484+1729668]\n\tBaseThreadInitThunk [0x764AFA29+25]\n\tRtlGetAppContainerNamedObjectPath [0x76EF7A9E+286]\n\tRtlGetAppContainerNamedObjectPath [0x76EF7A6E+238]\n",
     "output_type": "error",
     "traceback": [
      "\u001b[1;31m---------------------------------------------------------------------------\u001b[0m",
      "\u001b[1;31mElementNotInteractableException\u001b[0m           Traceback (most recent call last)",
      "Cell \u001b[1;32mIn [59], line 16\u001b[0m\n\u001b[0;32m     13\u001b[0m \u001b[38;5;28mprint\u001b[39m(\u001b[38;5;124m\"\u001b[39m\u001b[38;5;124mOpening link- \u001b[39m\u001b[38;5;124m\"\u001b[39m\u001b[38;5;241m+\u001b[39m \u001b[38;5;28mstr\u001b[39m(count) \u001b[38;5;241m+\u001b[39m \u001b[38;5;124m\"\u001b[39m\u001b[38;5;124m \u001b[39m\u001b[38;5;124m\"\u001b[39m \u001b[38;5;241m+\u001b[39m \u001b[38;5;28mstr\u001b[39m(i))\n\u001b[0;32m     14\u001b[0m \u001b[38;5;66;03m#print(df.hotel_name[count+start_index])\u001b[39;00m\n\u001b[0;32m     15\u001b[0m \u001b[38;5;66;03m#try:\u001b[39;00m\n\u001b[1;32m---> 16\u001b[0m df_to_append\u001b[38;5;241m=\u001b[39m\u001b[43mget_review_body\u001b[49m\u001b[43m(\u001b[49m\u001b[43mi\u001b[49m\u001b[43m)\u001b[49m\n\u001b[0;32m     17\u001b[0m df_hotels_consolidated\u001b[38;5;241m=\u001b[39mpd\u001b[38;5;241m.\u001b[39mconcat([df_hotels_consolidated,df_to_append])\n\u001b[0;32m     19\u001b[0m \u001b[38;5;66;03m# except Exception as e: \u001b[39;00m\n\u001b[0;32m     20\u001b[0m \u001b[38;5;66;03m#     print(\"\")\u001b[39;00m\n\u001b[0;32m     21\u001b[0m \u001b[38;5;66;03m#     print(\"Error:\")\u001b[39;00m\n\u001b[0;32m     22\u001b[0m \u001b[38;5;66;03m#     print(str(e))\u001b[39;00m\n\u001b[0;32m     23\u001b[0m \u001b[38;5;66;03m#     print(\"Skipping due to error\")\u001b[39;00m\n\u001b[0;32m     24\u001b[0m \u001b[38;5;66;03m#     continue\u001b[39;00m\n",
      "Cell \u001b[1;32mIn [47], line 117\u001b[0m, in \u001b[0;36mget_review_body\u001b[1;34m(url)\u001b[0m\n\u001b[0;32m    115\u001b[0m     time\u001b[38;5;241m.\u001b[39msleep(\u001b[38;5;241m2\u001b[39m)\n\u001b[0;32m    116\u001b[0m     \u001b[38;5;28;01mif\u001b[39;00m current_page\u001b[38;5;241m<\u001b[39mlast_page:\n\u001b[1;32m--> 117\u001b[0m         \u001b[43mdriver\u001b[49m\u001b[38;5;241;43m.\u001b[39;49m\u001b[43mfind_element\u001b[49m\u001b[43m(\u001b[49m\u001b[43mby\u001b[49m\u001b[38;5;241;43m=\u001b[39;49m\u001b[38;5;124;43m\"\u001b[39;49m\u001b[38;5;124;43mxpath\u001b[39;49m\u001b[38;5;124;43m\"\u001b[39;49m\u001b[43m,\u001b[49m\u001b[43m \u001b[49m\u001b[43mvalue\u001b[49m\u001b[38;5;241;43m=\u001b[39;49m\u001b[38;5;124;43m\"\u001b[39;49m\u001b[38;5;124;43m//a[contains(@class, \u001b[39;49m\u001b[38;5;124;43m'\u001b[39;49m\u001b[38;5;124;43mpagenext\u001b[39;49m\u001b[38;5;124;43m'\u001b[39;49m\u001b[38;5;124;43m)]\u001b[39;49m\u001b[38;5;124;43m\"\u001b[39;49m\u001b[43m)\u001b[49m\u001b[38;5;241;43m.\u001b[39;49m\u001b[43mclick\u001b[49m\u001b[43m(\u001b[49m\u001b[43m)\u001b[49m\n\u001b[0;32m    118\u001b[0m     current_page \u001b[38;5;241m+\u001b[39m\u001b[38;5;241m=\u001b[39m\u001b[38;5;241m1\u001b[39m\n\u001b[0;32m    120\u001b[0m dict_to_df\u001b[38;5;241m=\u001b[39m{\u001b[38;5;124m\"\u001b[39m\u001b[38;5;124murl\u001b[39m\u001b[38;5;124m\"\u001b[39m:url,\u001b[38;5;124m\"\u001b[39m\u001b[38;5;124mAll_reviews\u001b[39m\u001b[38;5;124m\"\u001b[39m:main_dict}\n",
      "File \u001b[1;32mD:\\Eskwelabs\\sprint4\\dsf-c10-sprint-4\\code-along\\scripting_101\\lib\\site-packages\\selenium\\webdriver\\remote\\webelement.py:93\u001b[0m, in \u001b[0;36mWebElement.click\u001b[1;34m(self)\u001b[0m\n\u001b[0;32m     91\u001b[0m \u001b[38;5;28;01mdef\u001b[39;00m \u001b[38;5;21mclick\u001b[39m(\u001b[38;5;28mself\u001b[39m) \u001b[38;5;241m-\u001b[39m\u001b[38;5;241m>\u001b[39m \u001b[38;5;28;01mNone\u001b[39;00m:\n\u001b[0;32m     92\u001b[0m     \u001b[38;5;124;03m\"\"\"Clicks the element.\"\"\"\u001b[39;00m\n\u001b[1;32m---> 93\u001b[0m     \u001b[38;5;28;43mself\u001b[39;49m\u001b[38;5;241;43m.\u001b[39;49m\u001b[43m_execute\u001b[49m\u001b[43m(\u001b[49m\u001b[43mCommand\u001b[49m\u001b[38;5;241;43m.\u001b[39;49m\u001b[43mCLICK_ELEMENT\u001b[49m\u001b[43m)\u001b[49m\n",
      "File \u001b[1;32mD:\\Eskwelabs\\sprint4\\dsf-c10-sprint-4\\code-along\\scripting_101\\lib\\site-packages\\selenium\\webdriver\\remote\\webelement.py:410\u001b[0m, in \u001b[0;36mWebElement._execute\u001b[1;34m(self, command, params)\u001b[0m\n\u001b[0;32m    408\u001b[0m     params \u001b[38;5;241m=\u001b[39m {}\n\u001b[0;32m    409\u001b[0m params[\u001b[38;5;124m\"\u001b[39m\u001b[38;5;124mid\u001b[39m\u001b[38;5;124m\"\u001b[39m] \u001b[38;5;241m=\u001b[39m \u001b[38;5;28mself\u001b[39m\u001b[38;5;241m.\u001b[39m_id\n\u001b[1;32m--> 410\u001b[0m \u001b[38;5;28;01mreturn\u001b[39;00m \u001b[38;5;28;43mself\u001b[39;49m\u001b[38;5;241;43m.\u001b[39;49m\u001b[43m_parent\u001b[49m\u001b[38;5;241;43m.\u001b[39;49m\u001b[43mexecute\u001b[49m\u001b[43m(\u001b[49m\u001b[43mcommand\u001b[49m\u001b[43m,\u001b[49m\u001b[43m \u001b[49m\u001b[43mparams\u001b[49m\u001b[43m)\u001b[49m\n",
      "File \u001b[1;32mD:\\Eskwelabs\\sprint4\\dsf-c10-sprint-4\\code-along\\scripting_101\\lib\\site-packages\\selenium\\webdriver\\remote\\webdriver.py:444\u001b[0m, in \u001b[0;36mWebDriver.execute\u001b[1;34m(self, driver_command, params)\u001b[0m\n\u001b[0;32m    442\u001b[0m response \u001b[38;5;241m=\u001b[39m \u001b[38;5;28mself\u001b[39m\u001b[38;5;241m.\u001b[39mcommand_executor\u001b[38;5;241m.\u001b[39mexecute(driver_command, params)\n\u001b[0;32m    443\u001b[0m \u001b[38;5;28;01mif\u001b[39;00m response:\n\u001b[1;32m--> 444\u001b[0m     \u001b[38;5;28;43mself\u001b[39;49m\u001b[38;5;241;43m.\u001b[39;49m\u001b[43merror_handler\u001b[49m\u001b[38;5;241;43m.\u001b[39;49m\u001b[43mcheck_response\u001b[49m\u001b[43m(\u001b[49m\u001b[43mresponse\u001b[49m\u001b[43m)\u001b[49m\n\u001b[0;32m    445\u001b[0m     response[\u001b[38;5;124m\"\u001b[39m\u001b[38;5;124mvalue\u001b[39m\u001b[38;5;124m\"\u001b[39m] \u001b[38;5;241m=\u001b[39m \u001b[38;5;28mself\u001b[39m\u001b[38;5;241m.\u001b[39m_unwrap_value(response\u001b[38;5;241m.\u001b[39mget(\u001b[38;5;124m\"\u001b[39m\u001b[38;5;124mvalue\u001b[39m\u001b[38;5;124m\"\u001b[39m, \u001b[38;5;28;01mNone\u001b[39;00m))\n\u001b[0;32m    446\u001b[0m     \u001b[38;5;28;01mreturn\u001b[39;00m response\n",
      "File \u001b[1;32mD:\\Eskwelabs\\sprint4\\dsf-c10-sprint-4\\code-along\\scripting_101\\lib\\site-packages\\selenium\\webdriver\\remote\\errorhandler.py:249\u001b[0m, in \u001b[0;36mErrorHandler.check_response\u001b[1;34m(self, response)\u001b[0m\n\u001b[0;32m    247\u001b[0m         alert_text \u001b[38;5;241m=\u001b[39m value[\u001b[38;5;124m\"\u001b[39m\u001b[38;5;124malert\u001b[39m\u001b[38;5;124m\"\u001b[39m]\u001b[38;5;241m.\u001b[39mget(\u001b[38;5;124m\"\u001b[39m\u001b[38;5;124mtext\u001b[39m\u001b[38;5;124m\"\u001b[39m)\n\u001b[0;32m    248\u001b[0m     \u001b[38;5;28;01mraise\u001b[39;00m exception_class(message, screen, stacktrace, alert_text)  \u001b[38;5;66;03m# type: ignore[call-arg]  # mypy is not smart enough here\u001b[39;00m\n\u001b[1;32m--> 249\u001b[0m \u001b[38;5;28;01mraise\u001b[39;00m exception_class(message, screen, stacktrace)\n",
      "\u001b[1;31mElementNotInteractableException\u001b[0m: Message: element not interactable\n  (Session info: chrome=107.0.5304.107)\nStacktrace:\nBacktrace:\n\tOrdinal0 [0x0080ACD3+2075859]\n\tOrdinal0 [0x0079EE61+1633889]\n\tOrdinal0 [0x0069B680+571008]\n\tOrdinal0 [0x006CBBD6+768982]\n\tOrdinal0 [0x006C1C76+728182]\n\tOrdinal0 [0x006E731C+881436]\n\tOrdinal0 [0x006C15BF+726463]\n\tOrdinal0 [0x006E7534+881972]\n\tOrdinal0 [0x006FB56A+963946]\n\tOrdinal0 [0x006E7136+880950]\n\tOrdinal0 [0x006BFEFD+720637]\n\tOrdinal0 [0x006C0F3F+724799]\n\tGetHandleVerifier [0x00ABEED2+2769538]\n\tGetHandleVerifier [0x00AB0D95+2711877]\n\tGetHandleVerifier [0x0089A03A+521194]\n\tGetHandleVerifier [0x00898DA0+516432]\n\tOrdinal0 [0x007A682C+1665068]\n\tOrdinal0 [0x007AB128+1683752]\n\tOrdinal0 [0x007AB215+1683989]\n\tOrdinal0 [0x007B6484+1729668]\n\tBaseThreadInitThunk [0x764AFA29+25]\n\tRtlGetAppContainerNamedObjectPath [0x76EF7A9E+286]\n\tRtlGetAppContainerNamedObjectPath [0x76EF7A6E+238]\n"
     ]
    }
   ],
   "source": [
    "from tqdm import tqdm\n",
    "#df=pd.read_csv(\"data/all_manila_hotels.csv\")\n",
    "#df=pd.read_csv(\"data/all_manila_hotels_v2.csv\")\n",
    "df=pd.read_csv(\"data/consolidated_urls.csv\")\n",
    "links=df.link\n",
    "\n",
    "df_hotels_consolidated=pd.DataFrame()\n",
    "\n",
    "start_index=3\n",
    "end_index=6\n",
    "\n",
    "for count,i in tqdm(enumerate(links[start_index:end_index])):\n",
    "    print(\"Opening link- \"+ str(count) + \" \" + str(i))\n",
    "    #print(df.hotel_name[count+start_index])\n",
    "    #try:\n",
    "    df_to_append=get_review_body(i)\n",
    "    df_hotels_consolidated=pd.concat([df_hotels_consolidated,df_to_append])\n",
    "        \n",
    "    # except Exception as e: \n",
    "    #     print(\"\")\n",
    "    #     print(\"Error:\")\n",
    "    #     print(str(e))\n",
    "    #     print(\"Skipping due to error\")\n",
    "    #     continue\n",
    "        \n",
    "    print(\" \")"
   ]
  },
  {
   "cell_type": "code",
   "execution_count": 55,
   "id": "070a8229-4051-4def-95b0-84337d4f4ae3",
   "metadata": {},
   "outputs": [
    {
     "data": {
      "text/html": [
       "<div>\n",
       "<style scoped>\n",
       "    .dataframe tbody tr th:only-of-type {\n",
       "        vertical-align: middle;\n",
       "    }\n",
       "\n",
       "    .dataframe tbody tr th {\n",
       "        vertical-align: top;\n",
       "    }\n",
       "\n",
       "    .dataframe thead th {\n",
       "        text-align: right;\n",
       "    }\n",
       "</style>\n",
       "<table border=\"1\" class=\"dataframe\">\n",
       "  <thead>\n",
       "    <tr style=\"text-align: right;\">\n",
       "      <th></th>\n",
       "      <th>url</th>\n",
       "      <th>All_reviews</th>\n",
       "    </tr>\n",
       "  </thead>\n",
       "  <tbody>\n",
       "    <tr>\n",
       "      <th>0</th>\n",
       "      <td>https://www.booking.com/hotel/ph/solaire-resor...</td>\n",
       "      <td>{'From Page 1, Person- 1': {'name': 'Khadir', ...</td>\n",
       "    </tr>\n",
       "  </tbody>\n",
       "</table>\n",
       "</div>"
      ],
      "text/plain": [
       "                                                 url  \\\n",
       "0  https://www.booking.com/hotel/ph/solaire-resor...   \n",
       "\n",
       "                                         All_reviews  \n",
       "0  {'From Page 1, Person- 1': {'name': 'Khadir', ...  "
      ]
     },
     "execution_count": 55,
     "metadata": {},
     "output_type": "execute_result"
    }
   ],
   "source": [
    "df_hotels_consolidated"
   ]
  },
  {
   "cell_type": "code",
   "execution_count": 38,
   "id": "a5209233-59a9-4ca8-b3de-1cf58c794098",
   "metadata": {},
   "outputs": [],
   "source": [
    "import pickle\n",
    "\n",
    "\n",
    "output = open('data/sample_output_reviews.pkl', 'wb')\n",
    "pickle.dump(df, output)\n",
    "output.close()\n",
    "\n",
    "df.to_csv(\"data/sample_output_reviews.csv\")"
   ]
  }
 ],
 "metadata": {
  "kernelspec": {
   "display_name": "scripting_101",
   "language": "python",
   "name": "scripting_101"
  },
  "language_info": {
   "codemirror_mode": {
    "name": "ipython",
    "version": 3
   },
   "file_extension": ".py",
   "mimetype": "text/x-python",
   "name": "python",
   "nbconvert_exporter": "python",
   "pygments_lexer": "ipython3",
   "version": "3.9.7"
  }
 },
 "nbformat": 4,
 "nbformat_minor": 5
}
