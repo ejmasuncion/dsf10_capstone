{
 "cells": [
  {
   "cell_type": "code",
   "execution_count": 4,
   "id": "05e114d6-f61f-4c45-b237-32aea59a60d1",
   "metadata": {},
   "outputs": [],
   "source": [
    "import numpy as np \n",
    "import pandas as pd \n",
    "\n",
    "\n",
    "import seaborn as sns\n",
    "import matplotlib.pyplot as plt\n",
    "import datetime as dt\n",
    "import plotly as px\n",
    "import plotly.graph_objects as go\n",
    "from plotly.subplots import make_subplots\n",
    "\n",
    "from statsmodels.graphics.tsaplots import plot_acf, plot_pacf\n",
    "from sklearn.preprocessing import MinMaxScaler\n",
    "from sklearn.decomposition import PCA\n",
    "from sklearn.preprocessing import StandardScaler\n",
    "\n",
    "from PIL import Image\n",
    "from wordcloud import WordCloud, STOPWORDS, ImageColorGenerator\n",
    "\n",
    "\n",
    "import warnings\n",
    "warnings.filterwarnings('ignore')\n",
    "import pickle\n",
    "# from _1_load_data import Load_Data\n",
    "# from _2_visuals import Graphs\n",
    "# from _2_chart_functions import Chart_Functions\n",
    "\n",
    "'''\n",
    "pd.set_option('display.max_rows', 500)\n",
    "pd.set_option('display.max_columns', 500)\n",
    "pd.set_option('display.width', 1000)\n",
    "pd.set_option('display.float_format', '{:,.5f}'.format)\n",
    "'''\n",
    "\n",
    "\n",
    "pd.set_option('display.float_format', '{:,.2f}'.format)"
   ]
  },
  {
   "cell_type": "code",
   "execution_count": 5,
   "id": "6d676db8-9b04-4442-a229-36bcd0bad1e3",
   "metadata": {},
   "outputs": [
    {
     "data": {
      "text/plain": [
       "Low-Budget Solo      0.50\n",
       "Low-Budget Couple    0.29\n",
       "Mid-Budget Couple    0.10\n",
       "Mid-Budget Family    0.08\n",
       "High-Budget Family   0.03\n",
       "Name: cluster_label, dtype: float64"
      ]
     },
     "execution_count": 5,
     "metadata": {},
     "output_type": "execute_result"
    }
   ],
   "source": [
    "df_clusters = pickle.load(open(\"../clustering/data/merged_hotel_data_with_facilities&cluster.pkl\", \"rb\"))\n",
    "df_clusters.cluster_label.value_counts(normalize=True)"
   ]
  },
  {
   "cell_type": "code",
   "execution_count": 7,
   "id": "01215b7a-9eb1-495e-9d47-ed430e0893c2",
   "metadata": {},
   "outputs": [
    {
     "data": {
      "text/plain": [
       "Index(['hotel_name_', 'stars', 'location', 'review_rating', 'description',\n",
       "       'main_facilities', 'total_reviews', 'sub_ratings',\n",
       "       'sub_ratings_categories', 'sub_ratings_dict', 'hotel_surroundings',\n",
       "       'hotel_surroundings_distance', 'surroundings_dict', 'room_type_x',\n",
       "       'price_list', 'cheapest_price', 'facilities_groups', 'all_facilities_x',\n",
       "       'link', 'room_price_dict', 'name', 'room_type', 'nights_stayed',\n",
       "       'month_stayed', 'occupant_type', 'from_country', 'review_score',\n",
       "       'date_reviewed', 'short_review', 'positive_review', 'negative_review',\n",
       "       'price', 'all_facilities_y', 'unlist', 'facilities_count',\n",
       "       'in_top_facilities', 'air conditioning', 'non-smoking rooms',\n",
       "       'fire extinguishers', 'cctv in common areas', 'private bathroom',\n",
       "       'smoke alarms', 'toilet', 'tv', '24-hour security', 'towels',\n",
       "       'free toiletries', '24-hour front desk', 'shower', 'toilet paper',\n",
       "       'airport shuttle', 'elevator', 'linens', 'security alarm',\n",
       "       'flat-screen tv', 'daily housekeeping', 'cctv outside property',\n",
       "       'room service', 'designated smoking area', 'safe', 'desk', 'bidet',\n",
       "       'smoke-free property', 'baggage storage', 'cable channels', 'telephone',\n",
       "       'restaurant', 'key card access', 'electric kettle',\n",
       "       'meeting/banquet facilities', 'laundry', 'fax/photocopying',\n",
       "       'upper floors accessible by elevator', 'family rooms',\n",
       "       'wake-up service', 'concierge', 'hairdryer', 'slippers', 'key access',\n",
       "       'accessible parking', 'facilities for disabled guests',\n",
       "       'wardrobe or closet', 'clothes rack', 'socket near the bed', 'bar',\n",
       "       'ironing service', 'customer_ind', 'cluster5', 'good_stay',\n",
       "       'cluster_label'],\n",
       "      dtype='object')"
      ]
     },
     "execution_count": 7,
     "metadata": {},
     "output_type": "execute_result"
    }
   ],
   "source": [
    "df_clusters.columns"
   ]
  },
  {
   "cell_type": "code",
   "execution_count": null,
   "id": "b663e586-43aa-4d4b-b2ea-8b48f03d09ac",
   "metadata": {},
   "outputs": [],
   "source": []
  }
 ],
 "metadata": {
  "kernelspec": {
   "display_name": "Python 3 (ipykernel)",
   "language": "python",
   "name": "python3"
  },
  "language_info": {
   "codemirror_mode": {
    "name": "ipython",
    "version": 3
   },
   "file_extension": ".py",
   "mimetype": "text/x-python",
   "name": "python",
   "nbconvert_exporter": "python",
   "pygments_lexer": "ipython3",
   "version": "3.9.7"
  }
 },
 "nbformat": 4,
 "nbformat_minor": 5
}
