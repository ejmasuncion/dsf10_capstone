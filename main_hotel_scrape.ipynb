{
 "cells": [
  {
   "cell_type": "code",
   "execution_count": 1,
   "metadata": {},
   "outputs": [],
   "source": [
    "from scraping.data_scraper import *\n",
    "from scraping.hotel_review_scraper import *"
   ]
  },
  {
   "cell_type": "code",
   "execution_count": 2,
   "metadata": {},
   "outputs": [
    {
     "data": {
      "text/plain": [
       "425"
      ]
     },
     "execution_count": 2,
     "metadata": {},
     "output_type": "execute_result"
    }
   ],
   "source": [
    "test = pd.read_csv('data/manila_url2.csv')\n",
    "len(test)"
   ]
  },
  {
   "cell_type": "code",
   "execution_count": 3,
   "metadata": {},
   "outputs": [],
   "source": [
    "## run this chunk to scrape hotel info\n",
    "## check data_scraper.py for full code of functions\n",
    "## the output csv and pkl file can be found on the home directory\n",
    "\n",
    "# scrape_hotel_info(urls=\"data/manila_url2.csv\", start_index = 400, end_index = len(test)+1)"
   ]
  },
  {
   "cell_type": "code",
   "execution_count": 25,
   "metadata": {},
   "outputs": [
    {
     "name": "stderr",
     "output_type": "stream",
     "text": [
      "0it [00:00, ?it/s]"
     ]
    },
    {
     "name": "stdout",
     "output_type": "stream",
     "text": [
      "Opening link- 0 https://www.booking.com/hotel/ph/winford-and-casino.html?label=gen173nr-1FCAEoggI46AdIM1gEaLQBiAEBmAEJuAEXyAEM2AEB6AEB-AELiAIBqAIDuALa9-ebBsACAdICJDNiMWUxMTlhLTc3ODEtNGI3NC05MWVlLTQ5MDA0MDQzYzY5NNgCBuACAQ&sid=b3a20c12be6b3d4d9b1b0a71b11d8898&aid=304142&ucfs=1&arphpl=1&checkin=2022-12-01&checkout=2022-12-02&dest_id=-2437894&dest_type=city&group_adults=2&req_adults=2&no_rooms=1&group_children=0&req_children=0&hpos=20&hapos=120&sr_order=popularity&nflt=ht_id%3D204&srpvid=7ca3572c9035002e&srepoch=1669119861&all_sr_blocks=175343103_295727164_0_1_0&highlighted_blocks=175343103_295727164_0_1_0&matching_block_id=175343103_295727164_0_1_0&sr_pri_blocks=175343103_295727164_0_1_0__513109&from=searchresults#hotelTmpl\n"
     ]
    },
    {
     "name": "stderr",
     "output_type": "stream",
     "text": [
      "0it [00:28, ?it/s]\n"
     ]
    },
    {
     "name": "stdout",
     "output_type": "stream",
     "text": [
      "Message: no such element: Unable to locate element: {\"method\":\"xpath\",\"selector\":\"//*[@id='review_list_page_container']/div[4]/div/div[1]/div/div[2]/div/div[7]/a/span[2]\"}\n",
      "  (Session info: chrome=107.0.5304.107)\n",
      "Stacktrace:\n",
      "Backtrace:\n",
      "\tOrdinal0 [0x0110ACD3+2075859]\n",
      "\tOrdinal0 [0x0109EE61+1633889]\n",
      "\tOrdinal0 [0x00F9B7BD+571325]\n",
      "\tOrdinal0 [0x00FCAC2F+764975]\n",
      "\tOrdinal0 [0x00FCAE1B+765467]\n",
      "\tOrdinal0 [0x00FFD0F2+970994]\n",
      "\tOrdinal0 [0x00FE7364+881508]\n",
      "\tOrdinal0 [0x00FFB56A+963946]\n",
      "\tOrdinal0 [0x00FE7136+880950]\n",
      "\tOrdinal0 [0x00FBFEFD+720637]\n",
      "\tOrdinal0 [0x00FC0F3F+724799]\n",
      "\tGetHandleVerifier [0x013BEED2+2769538]\n",
      "\tGetHandleVerifier [0x013B0D95+2711877]\n",
      "\tGetHandleVerifier [0x0119A03A+521194]\n",
      "\tGetHandleVerifier [0x01198DA0+516432]\n",
      "\tOrdinal0 [0x010A682C+1665068]\n",
      "\tOrdinal0 [0x010AB128+1683752]\n",
      "\tOrdinal0 [0x010AB215+1683989]\n",
      "\tOrdinal0 [0x010B6484+1729668]\n",
      "\tBaseThreadInitThunk [0x7658FEF9+25]\n",
      "\tRtlGetAppContainerNamedObjectPath [0x76F17BBE+286]\n",
      "\tRtlGetAppContainerNamedObjectPath [0x76F17B8E+238]\n",
      "\n"
     ]
    },
    {
     "name": "stderr",
     "output_type": "stream",
     "text": [
      "0it [00:00, ?it/s]"
     ]
    },
    {
     "name": "stdout",
     "output_type": "stream",
     "text": [
      "Opening link- 0 https://www.booking.com/hotel/ph/centara-manila.html?label=gen173nr-1FCAEoggI46AdIM1gEaLQBiAEBmAEJuAEXyAEM2AEB6AEB-AELiAIBqAIDuALa9-ebBsACAdICJDNiMWUxMTlhLTc3ODEtNGI3NC05MWVlLTQ5MDA0MDQzYzY5NNgCBuACAQ&sid=b3a20c12be6b3d4d9b1b0a71b11d8898&aid=304142&ucfs=1&arphpl=1&checkin=2022-12-01&checkout=2022-12-02&dest_id=-2437894&dest_type=city&group_adults=2&req_adults=2&no_rooms=1&group_children=0&req_children=0&hpos=21&hapos=121&sr_order=popularity&nflt=ht_id%3D204&srpvid=7ca3572c9035002e&srepoch=1669119861&all_sr_blocks=34697301_88828015_2_2_0&highlighted_blocks=34697301_88828015_2_2_0&matching_block_id=34697301_88828015_2_2_0&sr_pri_blocks=34697301_88828015_2_2_0__237811&from=searchresults#hotelTmpl\n",
      "Total Pages- 17\n",
      "Current Page- 1\n",
      "Current Page- 2\n",
      "Current Page- 3\n",
      "Current Page- 4\n",
      "Current Page- 5\n",
      "Current Page- 6\n",
      "Current Page- 7\n",
      "Current Page- 8\n"
     ]
    }
   ],
   "source": [
    "## run this chunk to scrape hotel reviews\n",
    "## check data_scraper.py for full code of functions\n",
    "## the output csv and pkl file can be found on the home directory\n",
    "pages = range(18,20)\n",
    "\n",
    "for i in pages:\n",
    "    try:\n",
    "       scrape_hotel_reviews(urls=\"scraping/data/consolidated_urls.csv\", start_index = i, end_index = i+1)\n",
    "    except Exception as ex:\n",
    "      print(ex)\n",
    "      pass"
   ]
  }
 ],
 "metadata": {
  "kernelspec": {
   "display_name": "Python 3.9.9 ('sprint4')",
   "language": "python",
   "name": "python3"
  },
  "language_info": {
   "codemirror_mode": {
    "name": "ipython",
    "version": 3
   },
   "file_extension": ".py",
   "mimetype": "text/x-python",
   "name": "python",
   "nbconvert_exporter": "python",
   "pygments_lexer": "ipython3",
   "version": "3.9.9"
  },
  "orig_nbformat": 4,
  "vscode": {
   "interpreter": {
    "hash": "05b38870f0c95c9fd5c4a8877bf420dd445c545257be0d0ac610353382cd8499"
   }
  }
 },
 "nbformat": 4,
 "nbformat_minor": 2
}
