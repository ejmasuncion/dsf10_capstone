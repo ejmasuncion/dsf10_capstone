{
 "cells": [
  {
   "cell_type": "code",
   "execution_count": 1,
   "metadata": {},
   "outputs": [],
   "source": [
    "from scraping.data_scraper import *\n",
    "from scraping.hotel_review_scraper import *"
   ]
  },
  {
   "cell_type": "code",
   "execution_count": 2,
   "metadata": {},
   "outputs": [
    {
     "data": {
      "text/plain": [
       "425"
      ]
     },
     "execution_count": 2,
     "metadata": {},
     "output_type": "execute_result"
    }
   ],
   "source": [
    "test = pd.read_csv('data/manila_url2.csv')\n",
    "len(test)"
   ]
  },
  {
   "cell_type": "code",
   "execution_count": 3,
   "metadata": {},
   "outputs": [],
   "source": [
    "## run this chunk to scrape hotel info\n",
    "## check data_scraper.py for full code of functions\n",
    "## the output csv and pkl file can be found on the home directory\n",
    "\n",
    "# scrape_hotel_info(urls=\"data/manila_url2.csv\", start_index = 400, end_index = len(test)+1)"
   ]
  },
  {
   "cell_type": "code",
   "execution_count": 4,
   "metadata": {},
   "outputs": [
    {
     "name": "stderr",
     "output_type": "stream",
     "text": [
      "0it [00:00, ?it/s]"
     ]
    },
    {
     "name": "stdout",
     "output_type": "stream",
     "text": [
      "Opening link- 0 https://www.booking.com/hotel/ph/meranti.html?label=gen173nr-1FCAEoggI46AdIM1gEaLQBiAEBmAEJuAEXyAEM2AEB6AEB-AELiAIBqAIDuALa9-ebBsACAdICJDNiMWUxMTlhLTc3ODEtNGI3NC05MWVlLTQ5MDA0MDQzYzY5NNgCBuACAQ&sid=b3a20c12be6b3d4d9b1b0a71b11d8898&aid=304142&ucfs=1&arphpl=1&checkin=2022-12-01&checkout=2022-12-02&dest_id=-2437894&dest_type=city&group_adults=2&req_adults=2&no_rooms=1&group_children=0&req_children=0&hpos=12&hapos=112&sr_order=popularity&nflt=ht_id%3D204&srpvid=7ca3572c9035002e&srepoch=1669119861&all_sr_blocks=147682701_270501868_0_2_0&highlighted_blocks=147682701_270501868_0_2_0&matching_block_id=147682701_270501868_0_2_0&sr_pri_blocks=147682701_270501868_0_2_0__307918&from=searchresults#hotelTmpl\n",
      "Total Pages- 13\n",
      "Current Page- 1\n",
      "Current Page- 2\n",
      "Current Page- 3\n",
      "Current Page- 4\n",
      "Current Page- 5\n",
      "Current Page- 6\n",
      "Current Page- 7\n",
      "Current Page- 8\n",
      "Current Page- 9\n",
      "Current Page- 10\n",
      "Current Page- 11\n",
      "Current Page- 12\n",
      "Current Page- 13\n"
     ]
    },
    {
     "name": "stderr",
     "output_type": "stream",
     "text": [
      "1it [01:58, 118.08s/it]"
     ]
    },
    {
     "name": "stdout",
     "output_type": "stream",
     "text": [
      "Opening link- 1 https://www.booking.com/hotel/ph/tryp-by-wyndham-mall-of-asia-manila.html?label=gen173nr-1FCAEoggI46AdIM1gEaLQBiAEBmAEJuAEXyAEM2AEB6AEB-AELiAIBqAIDuALa9-ebBsACAdICJDNiMWUxMTlhLTc3ODEtNGI3NC05MWVlLTQ5MDA0MDQzYzY5NNgCBuACAQ&sid=b3a20c12be6b3d4d9b1b0a71b11d8898&aid=304142&ucfs=1&arphpl=1&checkin=2022-12-01&checkout=2022-12-02&dest_id=-2437894&dest_type=city&group_adults=2&req_adults=2&no_rooms=1&group_children=0&req_children=0&hpos=13&hapos=113&sr_order=popularity&nflt=ht_id%3D204&srpvid=7ca3572c9035002e&srepoch=1669119861&all_sr_blocks=259726212_104681561_2_2_0&highlighted_blocks=259726212_104681561_2_2_0&matching_block_id=259726212_104681561_2_2_0&sr_pri_blocks=259726212_104681561_2_2_0__972000&from=searchresults#hotelTmpl\n"
     ]
    }
   ],
   "source": [
    "## run this chunk to scrape hotel reviews\n",
    "## check data_scraper.py for full code of functions\n",
    "## the output csv and pkl file can be found on the home directory\n",
    "\n",
    "scrape_hotel_reviews(urls=\"scraping/data/consolidated_urls.csv\", start_index = 10, end_index = 15)"
   ]
  }
 ],
 "metadata": {
  "kernelspec": {
   "display_name": "Python 3.9.9 ('sprint4')",
   "language": "python",
   "name": "python3"
  },
  "language_info": {
   "codemirror_mode": {
    "name": "ipython",
    "version": 3
   },
   "file_extension": ".py",
   "mimetype": "text/x-python",
   "name": "python",
   "nbconvert_exporter": "python",
   "pygments_lexer": "ipython3",
   "version": "3.9.9"
  },
  "orig_nbformat": 4,
  "vscode": {
   "interpreter": {
    "hash": "05b38870f0c95c9fd5c4a8877bf420dd445c545257be0d0ac610353382cd8499"
   }
  }
 },
 "nbformat": 4,
 "nbformat_minor": 2
}
