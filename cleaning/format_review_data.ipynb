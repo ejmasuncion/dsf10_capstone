{
 "cells": [
  {
   "cell_type": "code",
   "execution_count": 1,
   "metadata": {},
   "outputs": [],
   "source": [
    "import pickle\n",
    "import pandas as pd"
   ]
  },
  {
   "cell_type": "code",
   "execution_count": 2,
   "metadata": {},
   "outputs": [
    {
     "name": "stdout",
     "output_type": "stream",
     "text": [
      "(308, 2)\n"
     ]
    },
    {
     "data": {
      "text/html": [
       "<div>\n",
       "<style scoped>\n",
       "    .dataframe tbody tr th:only-of-type {\n",
       "        vertical-align: middle;\n",
       "    }\n",
       "\n",
       "    .dataframe tbody tr th {\n",
       "        vertical-align: top;\n",
       "    }\n",
       "\n",
       "    .dataframe thead th {\n",
       "        text-align: right;\n",
       "    }\n",
       "</style>\n",
       "<table border=\"1\" class=\"dataframe\">\n",
       "  <thead>\n",
       "    <tr style=\"text-align: right;\">\n",
       "      <th></th>\n",
       "      <th>url</th>\n",
       "      <th>All_reviews</th>\n",
       "    </tr>\n",
       "  </thead>\n",
       "  <tbody>\n",
       "    <tr>\n",
       "      <th>0</th>\n",
       "      <td>https://www.booking.com/hotel/ph/meranti.html?...</td>\n",
       "      <td>{'From Page 1, Person- 1': {'name': 'Gene', 'r...</td>\n",
       "    </tr>\n",
       "    <tr>\n",
       "      <th>1</th>\n",
       "      <td>https://www.booking.com/hotel/ph/tryp-by-wyndh...</td>\n",
       "      <td>{'From Page 1, Person- 1': {'name': 'Easter', ...</td>\n",
       "    </tr>\n",
       "    <tr>\n",
       "      <th>2</th>\n",
       "      <td>https://www.booking.com/hotel/ph/lotus-garden....</td>\n",
       "      <td>{'From Page 1, Person- 1': {'name': 'Kfineza',...</td>\n",
       "    </tr>\n",
       "    <tr>\n",
       "      <th>3</th>\n",
       "      <td>https://www.booking.com/hotel/ph/leez-inn-maka...</td>\n",
       "      <td>{'From Page 1, Person- 1': {'name': 'Sheralyn'...</td>\n",
       "    </tr>\n",
       "    <tr>\n",
       "      <th>4</th>\n",
       "      <td>https://www.booking.com/hotel/ph/go-hotels-man...</td>\n",
       "      <td>{'From Page 1, Person- 1': {'name': 'Marion', ...</td>\n",
       "    </tr>\n",
       "  </tbody>\n",
       "</table>\n",
       "</div>"
      ],
      "text/plain": [
       "                                                 url  \\\n",
       "0  https://www.booking.com/hotel/ph/meranti.html?...   \n",
       "1  https://www.booking.com/hotel/ph/tryp-by-wyndh...   \n",
       "2  https://www.booking.com/hotel/ph/lotus-garden....   \n",
       "3  https://www.booking.com/hotel/ph/leez-inn-maka...   \n",
       "4  https://www.booking.com/hotel/ph/go-hotels-man...   \n",
       "\n",
       "                                         All_reviews  \n",
       "0  {'From Page 1, Person- 1': {'name': 'Gene', 'r...  \n",
       "1  {'From Page 1, Person- 1': {'name': 'Easter', ...  \n",
       "2  {'From Page 1, Person- 1': {'name': 'Kfineza',...  \n",
       "3  {'From Page 1, Person- 1': {'name': 'Sheralyn'...  \n",
       "4  {'From Page 1, Person- 1': {'name': 'Marion', ...  "
      ]
     },
     "execution_count": 2,
     "metadata": {},
     "output_type": "execute_result"
    }
   ],
   "source": [
    "## load scraped hotel reviews data\n",
    "test = pickle.load(open(\"../scraping/data/hotel_reviews_all.pkl\", \"rb\"))\n",
    "test = test.reset_index(drop = True)\n",
    "print(test.shape)\n",
    "test.head()"
   ]
  },
  {
   "cell_type": "code",
   "execution_count": 4,
   "metadata": {},
   "outputs": [
    {
     "data": {
      "text/plain": [
       "307"
      ]
     },
     "execution_count": 4,
     "metadata": {},
     "output_type": "execute_result"
    }
   ],
   "source": [
    "## check number of unique urls\n",
    "test['url'].nunique()"
   ]
  },
  {
   "cell_type": "code",
   "execution_count": 5,
   "metadata": {},
   "outputs": [],
   "source": [
    "## loop to extract values from dictionary and clean a few symbols\n",
    "df = []\n",
    "for i in range(len(test)):\n",
    "    url_data = test['url'][i]\n",
    "    data = test['All_reviews'][i]\n",
    "    for key in data:\n",
    "        dict = data[str(key)]\n",
    "        temp  = pd.DataFrame.from_dict(dict, orient = 'index').reset_index()\n",
    "        temp.rename(columns = {0:'value'}, inplace = True)\n",
    "        temp = temp.set_index('index').T.reset_index(drop=True)\n",
    "        # temp.drop(columns = 'colname', axis = 1, inplace= True)\n",
    "        temp = temp.replace(r'\\n',' ', regex=True) \n",
    "        temp = temp.replace(r'·',' ', regex=True) \n",
    "        temp['url'] = url_data\n",
    "        df.append(temp)"
   ]
  },
  {
   "cell_type": "code",
   "execution_count": 6,
   "metadata": {},
   "outputs": [
    {
     "name": "stdout",
     "output_type": "stream",
     "text": [
      "(76536, 12)\n"
     ]
    }
   ],
   "source": [
    "## convert to dataframe\n",
    "review_data = pd.concat(df)\n",
    "review_data = review_data.reset_index(drop = True)\n",
    "review_data = review_data.drop_duplicates()\n",
    "print(review_data.shape)"
   ]
  },
  {
   "cell_type": "code",
   "execution_count": 7,
   "metadata": {},
   "outputs": [],
   "source": [
    "## save as pickle file\n",
    "pickle.dump(review_data, open('../data/hotel_reviews_final.pkl', \"wb\"))"
   ]
  }
 ],
 "metadata": {
  "kernelspec": {
   "display_name": "Python 3.9.9 ('sprint4')",
   "language": "python",
   "name": "python3"
  },
  "language_info": {
   "codemirror_mode": {
    "name": "ipython",
    "version": 3
   },
   "file_extension": ".py",
   "mimetype": "text/x-python",
   "name": "python",
   "nbconvert_exporter": "python",
   "pygments_lexer": "ipython3",
   "version": "3.9.9"
  },
  "orig_nbformat": 4,
  "vscode": {
   "interpreter": {
    "hash": "05b38870f0c95c9fd5c4a8877bf420dd445c545257be0d0ac610353382cd8499"
   }
  }
 },
 "nbformat": 4,
 "nbformat_minor": 2
}
